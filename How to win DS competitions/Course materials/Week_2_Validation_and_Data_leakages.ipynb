{
 "cells": [
  {
   "cell_type": "markdown",
   "metadata": {},
   "source": [
    "## Validation types\n",
    "\n",
    "    Holdout(ShuffleSplit)\n",
    "        ngroups = 1\n",
    "        Divides data in 2 parts. Samples do not overlap \n",
    "        Choice if we have enough data or if we are likely to get simmilar scores for different splits\n",
    "        \n",
    "    K-fold(KFold)\n",
    "        ngroups = k\n",
    "        Every sample is used for validation only once.\n",
    "        This method is a good choice when we have a minimum amount of data, and we can get either a sufficiently \n",
    "        big difference in quality, or different optimal parameters between folds.\n",
    "        \n",
    "    Leave-one-out(LeaveOneOut)\n",
    "        ngroups = len(train)\n",
    "        Each time using k-1 object is a train subset and one object left is a test subset. \n",
    "        This method can be helpful if we have too little data and fast enough model to entrain.\n",
    "    \n",
    "    Stratification(StratifiedShuffleSplit) \n",
    "    It is just the way to insure we'll get similar target distribution over different faults.\n",
    "    It is easier to guess that significance of this problem is higher:\n",
    "        first for small data sets, like in this example, \n",
    "        second for unbalanced data sets. For binary classification, that could be, if target average were very \n",
    "        close to 0 or vice versa, very close to 1. \n",
    "        And third, for multiclass classification tasks with huge amount of classes. \n",
    "        \n",
    "        For good classification data sets, stratification split will be quite similar to a simple shuffle split. \n",
    "        That is, to a random split."
   ]
  },
  {
   "cell_type": "code",
   "execution_count": 12,
   "metadata": {},
   "outputs": [],
   "source": [
    "from sklearn.model_selection import ShuffleSplit #1\n",
    "from sklearn.model_selection import KFold #2\n",
    "from sklearn.model_selection import LeaveOneOut #3\n",
    "from sklearn.model_selection import StratifiedKFold #4.1\n",
    "from sklearn.model_selection import StratifiedShuffleSplit #4.2"
   ]
  },
  {
   "cell_type": "code",
   "execution_count": null,
   "metadata": {},
   "outputs": [],
   "source": []
  }
 ],
 "metadata": {
  "kernelspec": {
   "display_name": "Python 3",
   "language": "python",
   "name": "python3"
  },
  "language_info": {
   "codemirror_mode": {
    "name": "ipython",
    "version": 3
   },
   "file_extension": ".py",
   "mimetype": "text/x-python",
   "name": "python",
   "nbconvert_exporter": "python",
   "pygments_lexer": "ipython3",
   "version": "3.7.3"
  }
 },
 "nbformat": 4,
 "nbformat_minor": 2
}
