{
 "cells": [
  {
   "cell_type": "markdown",
   "metadata": {},
   "source": [
    "### Statistics and distance based features\n",
    "    More features:\n",
    "        * How many pages user visited\n",
    "        * Standart deviation of price\n",
    "        * Most visited page\n",
    "        \n",
    "    Neighbours: Not only in Geographical space. Bray-Curtis metric"
   ]
  },
  {
   "cell_type": "code",
   "execution_count": null,
   "metadata": {},
   "outputs": [],
   "source": [
    "gb = df.groupby(['user_id', 'page_id'], as_index = False).agg(\n",
    "                            {'ad_price':{'max_price': np.max. 'min_price': np.min}})\n",
    "gb.columns = ['user_id', 'page_id', 'min_price', 'max_price']\n",
    "df = pd.merge(df, gb, how = 'left', on = ['user_id', 'page_id'])"
   ]
  },
  {
   "cell_type": "markdown",
   "metadata": {},
   "source": [
    "### Matrix factorizations"
   ]
  },
  {
   "cell_type": "markdown",
   "metadata": {},
   "source": [
    "    Using matrix optimization technique, you are able to extract features from all of these matrices. Since the resulting matrices will be small, we can easily join them and use togetherness of the features in tree-based models.\n",
    "    \n",
    "<img src=\"files/Images/mf.png\" width=\"400\" height=\"100\"> \n",
    "\n",
    "\n",
    "    Notes:\n",
    "        * Can be applied only for some columns\n",
    "        * Can provide additional diversity\n",
    "            - Good for ensembles\n",
    "        * It is a lossy transformation. It's effieciency depends on:\n",
    "            - Particular\n",
    "            - Number of latent factors(Usually 5-100)\n",
    "            \n",
    "<img src=\"files/Images/mf2.png\" width=\"400\" height=\"100\"> \n",
    "<img src=\"files/Images/mf1.png\" width=\"400\" height=\"100\"> "
   ]
  },
  {
   "cell_type": "markdown",
   "metadata": {},
   "source": [
    "### Feature Interactions\n",
    "\n",
    "    Categorical features:\n",
    "    Method 1:\n",
    "    \n",
    "<img src=\"files/Images/fi1.png\" width=\"400\" height=\"100\"> \n",
    "    \n",
    "    Method 2:\n",
    "    \n",
    "<img src=\"files/Images/fi2.png\" width=\"400\" height=\"100\">     \n",
    "\n",
    "    Numerical:\n",
    "   \n",
    "<img src=\"files/Images/fi3.png\" width=\"400\" height=\"100\"> \n",
    "    \n",
    "    Any function taking two arguments like sum, difference, or division is okay. \n",
    "    The following transformations significantly enlarge feature space and makes learning easier, but keep in \n",
    "    mind that it makes overfitting easier too\n",
    "    \n",
    "    \n",
    "    Practical notes:\n",
    "        * We have a lot of possible interactions - N*N for N features\n",
    "            a. Even more if use several type of interactions\n",
    "        * Need to reduce it's number\n",
    "            a. Dimensionality reduction\n",
    "            b. Features selection\n",
    "            \n",
    "    Example of interaction generation pipeline:\n",
    "    \n",
    "<img src=\"files/Images/fi4.png\" width=\"400\" height=\"100\">    \n",
    "\n",
    "\n",
    "    Extracting features from DT:\n",
    "    \n",
    "<img src=\"files/Images/fi5.png\" width=\"400\" height=\"100\">    \n",
    "       \n",
    "    In sklearn:\n",
    "        tree_model.apply()\n",
    "    in xgboost:\n",
    "        booster.predict(pred_leaf = True)"
   ]
  },
  {
   "cell_type": "markdown",
   "metadata": {},
   "source": [
    "### t-SNE\n",
    "    Manifold learinig = non-linear dimensionality reduction methods\n",
    "    tSNE is a great tool for visualization\n",
    "    Example on MNIST\n",
    "    \n",
    "<img src=\"files/Images/tsne.png\" width=\"400\" height=\"100\">\n",
    "    \n",
    "    In addition to exploratory data analysis, tSNE can be considered as a method to obtain new features from data. You should just concatenate the transformers coordinates to the original feature matrix.\n",
    "    \n",
    "    Practical notes:\n",
    "        - Implementation can be found in sklearn, but there is tsne library that much \n",
    "        faster\n",
    "        - Results heavily depends on hyperparameters(perplexity)\n",
    "            - Good practice is to use several projections with defferent perplexity(5-100)\n",
    "        - Due to stochastoc nature, tSNE provides defferent projections even for the same \n",
    "        data/hyperparams\n",
    "            - Train and test should be projected together\n",
    "        - tSNE runs for a long time with a big number of features\n",
    "            - It is common to do dimensinality reduction before projection\n",
    "            "
   ]
  },
  {
   "cell_type": "markdown",
   "metadata": {},
   "source": [
    "### Additional Links\n",
    "\n",
    "Matrix Factorization:\n",
    "   * http://scikit-learn.org/stable/modules/decomposition.html\n",
    "\n",
    "t-SNE:\n",
    "   * https://github.com/DmitryUlyanov/Multicore-TSNE\n",
    "   * http://scikit-learn.org/stable/auto_examples/manifold/plot_compare_methods.html\n",
    "   * https://distill.pub/2016/misread-tsne/\n",
    "   * https://lvdmaaten.github.io/tsne/\n",
    "   * http://scikit-learn.org/stable/auto_examples/manifold/plot_t_sne_perplexity.html#sphx-glr-auto-examples-manifold-plot-t-sne-perplexity-py\n",
    "   \n",
    "Interactions:\n",
    "   * https://research.fb.com/publications/practical-lessons-from-predicting-clicks-on-ads-at-facebook/\n",
    "   * http://scikit-learn.org/stable/auto_examples/ensemble/plot_feature_transformation.html"
   ]
  },
  {
   "cell_type": "code",
   "execution_count": null,
   "metadata": {},
   "outputs": [],
   "source": []
  }
 ],
 "metadata": {
  "kernelspec": {
   "display_name": "Python 3",
   "language": "python",
   "name": "python3"
  },
  "language_info": {
   "codemirror_mode": {
    "name": "ipython",
    "version": 3
   },
   "file_extension": ".py",
   "mimetype": "text/x-python",
   "name": "python",
   "nbconvert_exporter": "python",
   "pygments_lexer": "ipython3",
   "version": "3.7.3"
  }
 },
 "nbformat": 4,
 "nbformat_minor": 2
}
