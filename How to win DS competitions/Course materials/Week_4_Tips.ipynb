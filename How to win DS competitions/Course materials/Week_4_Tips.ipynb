{
 "cells": [
  {
   "cell_type": "markdown",
   "metadata": {},
   "source": [
    "### Practical guide\n",
    "\n",
    "    Define your goals. What you can get out of your participation?\n",
    "        * To learn more about the interesting problem\n",
    "        * To get acqueinted with new software tools\n",
    "        * To hunt for medals\n",
    "    \n",
    "    Working with ideas:\n",
    "        * Organise ideas in some structure(topics or importance)\n",
    "        * Select the most important ans promising ideas\n",
    "        * Try to understand the reasons why something does/doesn't work\n",
    "        \n",
    "    Sort all parameters by this prenciples:\n",
    "        * Importance\n",
    "        * Feasibility\n",
    "        * Understanding\n",
    "        \n",
    "    Data loading:\n",
    "        * Do basic preprocessing and convert csv/txt files into hdf5/npy for much faster loading\n",
    "        * Do not forget that by default data is stored in 64-bit arrays, most of the time you can safely downcast it to 32-bits\n",
    "        * Large datasets can be processed in chunks\n",
    "        \n",
    "     Performance evaluation:\n",
    "         * Extensive validation is not always needed\n",
    "         * Start with fastest models and use early stopping\n",
    "         * Switch to ensambing and stacking only when satisfied with feature engeneering\n",
    "         \n",
    "     Fast and dirty always better:\n",
    "         * Dont't pay to much attention to code quality\n",
    "         * Keep thing simple: save only important things\n",
    "         * If you feel uncomfotable with given computation resources - rent a larger server\n",
    "         \n",
    "     Initial pipeline:\n",
    "         * Start with simple(or even primitive) solution\n",
    "         * Debug full pipeline (from reading file to writing submission file)\n",
    "         * \"From simple to complex\" (Start from RF than from GBDT)\n",
    "         \n",
    "     Other tips:\n",
    "         * Use git\n",
    "         * fix random seed\n",
    "         * Write down how features were generated\n",
    "         * reuse code\n",
    "         * read papers\n",
    "         \n",
    "     Pipeline:\n",
    "         * Read forums and examine kernels first\n",
    "         * Start with EDA and baseline\n",
    "         * Add features in bulk\n",
    "         * First find the parameters to overfit train dataset and then try to trim model\n",
    "     \n",
    "     Before creating a submission restart the kernel\n",
    "     Code organisations:\n",
    "   \n",
    "<img src=\"files/Images/testval.png\" width=\"400\" height=\"100\"> \n",
    "\n",
    "     Use macros\n",
    "     Custom libraries\n",
    "     "
   ]
  }
 ],
 "metadata": {
  "kernelspec": {
   "display_name": "Python 3",
   "language": "python",
   "name": "python3"
  },
  "language_info": {
   "codemirror_mode": {
    "name": "ipython",
    "version": 3
   },
   "file_extension": ".py",
   "mimetype": "text/x-python",
   "name": "python",
   "nbconvert_exporter": "python",
   "pygments_lexer": "ipython3",
   "version": "3.7.3"
  }
 },
 "nbformat": 4,
 "nbformat_minor": 2
}
