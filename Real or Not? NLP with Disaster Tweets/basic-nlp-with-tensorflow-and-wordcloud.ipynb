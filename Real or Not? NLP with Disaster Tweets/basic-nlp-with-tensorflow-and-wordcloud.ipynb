{
 "cells": [
  {
   "cell_type": "markdown",
   "metadata": {},
   "source": [
    "<a id='top'></a>\n",
    "<h1 style=\"text-align:center;font-size:200%;;\">Real or Not? NLP with Disaster Tweets</h1>\n",
    "<img src=\"https://dataxboost.files.wordpress.com/2018/03/nlp.jpg\">"
   ]
  },
  {
   "cell_type": "markdown",
   "metadata": {},
   "source": [
    "## Competition Description\n",
    "* Twitter has become an important communication channel in times of emergency.\n",
    "The ubiquitousness of smartphones enables people to announce an emergency they’re observing in real-time. Because of this, more agencies are interested in programatically monitoring Twitter (i.e. disaster relief organizations and news agencies)."
   ]
  },
  {
   "cell_type": "markdown",
   "metadata": {},
   "source": [
    "<div class=\"list-group\" id=\"list-tab\" role=\"tablist\">\n",
    "  <h3 class=\"list-group-item list-group-item-action active\" data-toggle=\"list\"  role=\"tab\" aria-controls=\"home\">Notebook Content!</h3>\n",
    "  <a class=\"list-group-item list-group-item-action\" data-toggle=\"list\" href=\"#libraries\" role=\"tab\" aria-controls=\"profile\">Import Libraries<span class=\"badge badge-primary badge-pill\">1</span></a>\n",
    "  <a class=\"list-group-item list-group-item-action\" data-toggle=\"list\" href=\"#load\" role=\"tab\" aria-controls=\"messages\">Load Data<span class=\"badge badge-primary badge-pill\">2</span></a>\n",
    "  <a class=\"list-group-item list-group-item-action\"  data-toggle=\"list\" href=\"#visual\" role=\"tab\" aria-controls=\"settings\">Visualization of data<span class=\"badge badge-primary badge-pill\">3</span></a>\n",
    "  <a class=\"list-group-item list-group-item-action\" data-toggle=\"list\" href=\"#word\" role=\"tab\" aria-controls=\"settings\">WordCloud<span class=\"badge badge-primary badge-pill\">4</span></a> \n",
    "  <a class=\"list-group-item list-group-item-action\" data-toggle=\"list\" href=\"#clean\" role=\"tab\" aria-controls=\"settings\">Cleaning the text<span class=\"badge badge-primary badge-pill\">5</span></a>\n",
    "    <a class=\"list-group-item list-group-item-action\" data-toggle=\"list\" href=\"#split\" role=\"tab\" aria-controls=\"settings\">Train and test Split<span class=\"badge badge-primary badge-pill\">6</span></a>\n",
    "    <a class=\"list-group-item list-group-item-action\" data-toggle=\"list\" href=\"#model\" role=\"tab\" aria-controls=\"settings\"> Creating the Model<span class=\"badge badge-primary badge-pill\">7</span></a>\n",
    "    <a class=\"list-group-item list-group-item-action\" data-toggle=\"list\" href=\"#eval\" role=\"tab\" aria-controls=\"settings\">Model Evaluation<span class=\"badge badge-primary badge-pill\">8</span></a>  "
   ]
  },
  {
   "cell_type": "markdown",
   "metadata": {},
   "source": [
    "<a id='libraries'></a>\n",
    "## 1. Import Libraries"
   ]
  },
  {
   "cell_type": "code",
   "execution_count": 7,
   "metadata": {
    "_cell_guid": "b1076dfc-b9ad-4769-8c92-a6c4dae69d19",
    "_uuid": "8f2839f25d086af736a60e9eeb907d3b93b6e0e5"
   },
   "outputs": [
    {
     "data": {
      "text/html": [
       "        <script type=\"text/javascript\">\n",
       "        window.PlotlyConfig = {MathJaxConfig: 'local'};\n",
       "        if (window.MathJax) {MathJax.Hub.Config({SVG: {font: \"STIX-Web\"}});}\n",
       "        if (typeof require !== 'undefined') {\n",
       "        require.undef(\"plotly\");\n",
       "        requirejs.config({\n",
       "            paths: {\n",
       "                'plotly': ['https://cdn.plot.ly/plotly-latest.min']\n",
       "            }\n",
       "        });\n",
       "        require(['plotly'], function(Plotly) {\n",
       "            window._Plotly = Plotly;\n",
       "        });\n",
       "        }\n",
       "        </script>\n",
       "        "
      ]
     },
     "metadata": {},
     "output_type": "display_data"
    }
   ],
   "source": [
    "import numpy as np # linear algebra\n",
    "import pandas as pd # data processing, CSV file I/O (e.g. pd.read_csv)\n",
    "\n",
    "# Input data files are available in the \"../input/\" directory.\n",
    "# For example, running this (by clicking run or pressing Shift+Enter) will list all files under the input directory\n",
    "\n",
    "import seaborn as sns\n",
    "import matplotlib.pyplot as plt\n",
    "from tensorflow.keras.preprocessing.text import Tokenizer\n",
    "from tensorflow.keras.preprocessing.sequence import pad_sequences\n",
    "import tensorflow as tf\n",
    "import time \n",
    "from wordcloud import WordCloud, STOPWORDS\n",
    "import matplotlib.pyplot as plt\n",
    "from IPython.core.display import display, HTML\n",
    "import plotly.graph_objects as go\n",
    "import re\n",
    "# Natural Language Tool Kit \n",
    "import nltk  \n",
    "from nltk.corpus import stopwords \n",
    "from nltk.stem.porter import PorterStemmer \n",
    "from collections import Counter\n",
    "import cufflinks as cf\n",
    "cf.go_offline()"
   ]
  },
  {
   "cell_type": "markdown",
   "metadata": {},
   "source": [
    "<a id='load'></a>\n",
    "# 2. Load Data"
   ]
  },
  {
   "cell_type": "code",
   "execution_count": 8,
   "metadata": {
    "_cell_guid": "79c7e3d0-c299-4dcb-8224-4455121ee9b0",
    "_uuid": "d629ff2d2480ee46fbb7e2d37f6b5fab8052498a"
   },
   "outputs": [],
   "source": [
    "train = pd.read_csv(\"data/train.csv\")\n",
    "test = pd.read_csv(\"data/test.csv\")\n",
    "submission =  pd.read_csv(\"data/sample_submission.csv\")"
   ]
  },
  {
   "cell_type": "code",
   "execution_count": 9,
   "metadata": {},
   "outputs": [
    {
     "data": {
      "text/html": [
       "<div>\n",
       "<style scoped>\n",
       "    .dataframe tbody tr th:only-of-type {\n",
       "        vertical-align: middle;\n",
       "    }\n",
       "\n",
       "    .dataframe tbody tr th {\n",
       "        vertical-align: top;\n",
       "    }\n",
       "\n",
       "    .dataframe thead th {\n",
       "        text-align: right;\n",
       "    }\n",
       "</style>\n",
       "<table border=\"1\" class=\"dataframe\">\n",
       "  <thead>\n",
       "    <tr style=\"text-align: right;\">\n",
       "      <th></th>\n",
       "      <th>id</th>\n",
       "      <th>keyword</th>\n",
       "      <th>location</th>\n",
       "      <th>text</th>\n",
       "      <th>target</th>\n",
       "    </tr>\n",
       "  </thead>\n",
       "  <tbody>\n",
       "    <tr>\n",
       "      <th>0</th>\n",
       "      <td>1</td>\n",
       "      <td>NaN</td>\n",
       "      <td>NaN</td>\n",
       "      <td>Our Deeds are the Reason of this #earthquake M...</td>\n",
       "      <td>1</td>\n",
       "    </tr>\n",
       "    <tr>\n",
       "      <th>1</th>\n",
       "      <td>4</td>\n",
       "      <td>NaN</td>\n",
       "      <td>NaN</td>\n",
       "      <td>Forest fire near La Ronge Sask. Canada</td>\n",
       "      <td>1</td>\n",
       "    </tr>\n",
       "    <tr>\n",
       "      <th>2</th>\n",
       "      <td>5</td>\n",
       "      <td>NaN</td>\n",
       "      <td>NaN</td>\n",
       "      <td>All residents asked to 'shelter in place' are ...</td>\n",
       "      <td>1</td>\n",
       "    </tr>\n",
       "    <tr>\n",
       "      <th>3</th>\n",
       "      <td>6</td>\n",
       "      <td>NaN</td>\n",
       "      <td>NaN</td>\n",
       "      <td>13,000 people receive #wildfires evacuation or...</td>\n",
       "      <td>1</td>\n",
       "    </tr>\n",
       "    <tr>\n",
       "      <th>4</th>\n",
       "      <td>7</td>\n",
       "      <td>NaN</td>\n",
       "      <td>NaN</td>\n",
       "      <td>Just got sent this photo from Ruby #Alaska as ...</td>\n",
       "      <td>1</td>\n",
       "    </tr>\n",
       "  </tbody>\n",
       "</table>\n",
       "</div>"
      ],
      "text/plain": [
       "   id keyword location                                               text  \\\n",
       "0   1     NaN      NaN  Our Deeds are the Reason of this #earthquake M...   \n",
       "1   4     NaN      NaN             Forest fire near La Ronge Sask. Canada   \n",
       "2   5     NaN      NaN  All residents asked to 'shelter in place' are ...   \n",
       "3   6     NaN      NaN  13,000 people receive #wildfires evacuation or...   \n",
       "4   7     NaN      NaN  Just got sent this photo from Ruby #Alaska as ...   \n",
       "\n",
       "   target  \n",
       "0       1  \n",
       "1       1  \n",
       "2       1  \n",
       "3       1  \n",
       "4       1  "
      ]
     },
     "execution_count": 9,
     "metadata": {},
     "output_type": "execute_result"
    }
   ],
   "source": [
    "train.head()"
   ]
  },
  {
   "cell_type": "markdown",
   "metadata": {},
   "source": [
    "<ul style=\"list-style-type:square;\">\n",
    "  <li><span class=\"label label-default\">id</span> a unique identifier for each tweet</li>\n",
    "  <li><span class=\"label label-default\">text </span> the text of the tweet</li>\n",
    "  <li><span class=\"label label-default\">location</span>  the location the tweet was sent from (may be blank)</li>\n",
    "    <li><span class=\"label label-default\">keyword</span>  a particular keyword from the tweet (may be blank)</li>\n",
    "    <li><span class=\"label label-default\">target</span>  in train.csv only, this denotes whether a tweet is about a real disaster (1) or not (0)</li>\n",
    "</ul>\n"
   ]
  },
  {
   "cell_type": "code",
   "execution_count": 10,
   "metadata": {},
   "outputs": [
    {
     "data": {
      "text/html": [
       "<div>\n",
       "<style scoped>\n",
       "    .dataframe tbody tr th:only-of-type {\n",
       "        vertical-align: middle;\n",
       "    }\n",
       "\n",
       "    .dataframe tbody tr th {\n",
       "        vertical-align: top;\n",
       "    }\n",
       "\n",
       "    .dataframe thead th {\n",
       "        text-align: right;\n",
       "    }\n",
       "</style>\n",
       "<table border=\"1\" class=\"dataframe\">\n",
       "  <thead>\n",
       "    <tr style=\"text-align: right;\">\n",
       "      <th></th>\n",
       "      <th>id</th>\n",
       "      <th>keyword</th>\n",
       "      <th>location</th>\n",
       "      <th>text</th>\n",
       "    </tr>\n",
       "  </thead>\n",
       "  <tbody>\n",
       "    <tr>\n",
       "      <th>0</th>\n",
       "      <td>0</td>\n",
       "      <td>NaN</td>\n",
       "      <td>NaN</td>\n",
       "      <td>Just happened a terrible car crash</td>\n",
       "    </tr>\n",
       "    <tr>\n",
       "      <th>1</th>\n",
       "      <td>2</td>\n",
       "      <td>NaN</td>\n",
       "      <td>NaN</td>\n",
       "      <td>Heard about #earthquake is different cities, s...</td>\n",
       "    </tr>\n",
       "    <tr>\n",
       "      <th>2</th>\n",
       "      <td>3</td>\n",
       "      <td>NaN</td>\n",
       "      <td>NaN</td>\n",
       "      <td>there is a forest fire at spot pond, geese are...</td>\n",
       "    </tr>\n",
       "    <tr>\n",
       "      <th>3</th>\n",
       "      <td>9</td>\n",
       "      <td>NaN</td>\n",
       "      <td>NaN</td>\n",
       "      <td>Apocalypse lighting. #Spokane #wildfires</td>\n",
       "    </tr>\n",
       "    <tr>\n",
       "      <th>4</th>\n",
       "      <td>11</td>\n",
       "      <td>NaN</td>\n",
       "      <td>NaN</td>\n",
       "      <td>Typhoon Soudelor kills 28 in China and Taiwan</td>\n",
       "    </tr>\n",
       "  </tbody>\n",
       "</table>\n",
       "</div>"
      ],
      "text/plain": [
       "   id keyword location                                               text\n",
       "0   0     NaN      NaN                 Just happened a terrible car crash\n",
       "1   2     NaN      NaN  Heard about #earthquake is different cities, s...\n",
       "2   3     NaN      NaN  there is a forest fire at spot pond, geese are...\n",
       "3   9     NaN      NaN           Apocalypse lighting. #Spokane #wildfires\n",
       "4  11     NaN      NaN      Typhoon Soudelor kills 28 in China and Taiwan"
      ]
     },
     "execution_count": 10,
     "metadata": {},
     "output_type": "execute_result"
    }
   ],
   "source": [
    "test.head()"
   ]
  },
  {
   "cell_type": "code",
   "execution_count": 11,
   "metadata": {
    "_kg_hide-input": true
   },
   "outputs": [
    {
     "data": {
      "text/html": [
       "\n",
       "   \n",
       "        <ul class=\"list-group\">\n",
       "          <li class=\"list-group-item disabled\" aria-disabled=\"true\"><h4>Shape of Train and Test Dataset</h4></li>\n",
       "          <li class=\"list-group-item\"><h4>Number of rows in Train dataset is: <span class=\"label label-primary\">7,613</span></h4></li>\n",
       "          <li class=\"list-group-item\"> <h4>Number of columns Train dataset is <span class=\"label label-primary\">5</span></h4></li>\n",
       "          <li class=\"list-group-item\"><h4>Number of rows in Test dataset is: <span class=\"label label-success\">3,263</span></h4></li>\n",
       "          <li class=\"list-group-item\"><h4>Number of columns Test dataset is <span class=\"label label-success\">4</span></h4></li>\n",
       "        </ul>\n",
       "  \n",
       "    "
      ],
      "text/plain": [
       "<IPython.core.display.HTML object>"
      ]
     },
     "metadata": {},
     "output_type": "display_data"
    }
   ],
   "source": [
    "display(HTML(f\"\"\"\n",
    "   \n",
    "        <ul class=\"list-group\">\n",
    "          <li class=\"list-group-item disabled\" aria-disabled=\"true\"><h4>Shape of Train and Test Dataset</h4></li>\n",
    "          <li class=\"list-group-item\"><h4>Number of rows in Train dataset is: <span class=\"label label-primary\">{ train.shape[0]:,}</span></h4></li>\n",
    "          <li class=\"list-group-item\"> <h4>Number of columns Train dataset is <span class=\"label label-primary\">{train.shape[1]}</span></h4></li>\n",
    "          <li class=\"list-group-item\"><h4>Number of rows in Test dataset is: <span class=\"label label-success\">{ test.shape[0]:,}</span></h4></li>\n",
    "          <li class=\"list-group-item\"><h4>Number of columns Test dataset is <span class=\"label label-success\">{test.shape[1]}</span></h4></li>\n",
    "        </ul>\n",
    "  \n",
    "    \"\"\"))"
   ]
  },
  {
   "cell_type": "code",
   "execution_count": 12,
   "metadata": {},
   "outputs": [
    {
     "name": "stdout",
     "output_type": "stream",
     "text": [
      "<class 'pandas.core.frame.DataFrame'>\n",
      "RangeIndex: 7613 entries, 0 to 7612\n",
      "Data columns (total 5 columns):\n",
      "id          7613 non-null int64\n",
      "keyword     7552 non-null object\n",
      "location    5080 non-null object\n",
      "text        7613 non-null object\n",
      "target      7613 non-null int64\n",
      "dtypes: int64(2), object(3)\n",
      "memory usage: 297.5+ KB\n"
     ]
    }
   ],
   "source": [
    "train.info()"
   ]
  },
  {
   "cell_type": "markdown",
   "metadata": {},
   "source": [
    "<a id='visual'></a>\n",
    "# 3. Visualization of data"
   ]
  },
  {
   "cell_type": "code",
   "execution_count": 15,
   "metadata": {},
   "outputs": [
    {
     "data": {
      "application/vnd.plotly.v1+json": {
       "config": {
        "linkText": "Export to plot.ly",
        "plotlyServerURL": "https://plot.ly",
        "showLink": true
       },
       "data": [
        {
         "marker": {
          "color": "rgba(219, 64, 82, 0.6)",
          "line": {
           "color": "rgba(219, 64, 82, 1.0)",
           "width": 1
          }
         },
         "name": "None",
         "orientation": "v",
         "text": "",
         "type": "bar",
         "x": [
          "location",
          "keyword"
         ],
         "y": [
          2533,
          61
         ]
        }
       ],
       "layout": {
        "legend": {
         "bgcolor": "#F5F6F9",
         "font": {
          "color": "#4D5663"
         }
        },
        "paper_bgcolor": "#F5F6F9",
        "plot_bgcolor": "#F5F6F9",
        "template": {
         "data": {
          "bar": [
           {
            "error_x": {
             "color": "#2a3f5f"
            },
            "error_y": {
             "color": "#2a3f5f"
            },
            "marker": {
             "line": {
              "color": "#E5ECF6",
              "width": 0.5
             }
            },
            "type": "bar"
           }
          ],
          "barpolar": [
           {
            "marker": {
             "line": {
              "color": "#E5ECF6",
              "width": 0.5
             }
            },
            "type": "barpolar"
           }
          ],
          "carpet": [
           {
            "aaxis": {
             "endlinecolor": "#2a3f5f",
             "gridcolor": "white",
             "linecolor": "white",
             "minorgridcolor": "white",
             "startlinecolor": "#2a3f5f"
            },
            "baxis": {
             "endlinecolor": "#2a3f5f",
             "gridcolor": "white",
             "linecolor": "white",
             "minorgridcolor": "white",
             "startlinecolor": "#2a3f5f"
            },
            "type": "carpet"
           }
          ],
          "choropleth": [
           {
            "colorbar": {
             "outlinewidth": 0,
             "ticks": ""
            },
            "type": "choropleth"
           }
          ],
          "contour": [
           {
            "colorbar": {
             "outlinewidth": 0,
             "ticks": ""
            },
            "colorscale": [
             [
              0,
              "#0d0887"
             ],
             [
              0.1111111111111111,
              "#46039f"
             ],
             [
              0.2222222222222222,
              "#7201a8"
             ],
             [
              0.3333333333333333,
              "#9c179e"
             ],
             [
              0.4444444444444444,
              "#bd3786"
             ],
             [
              0.5555555555555556,
              "#d8576b"
             ],
             [
              0.6666666666666666,
              "#ed7953"
             ],
             [
              0.7777777777777778,
              "#fb9f3a"
             ],
             [
              0.8888888888888888,
              "#fdca26"
             ],
             [
              1,
              "#f0f921"
             ]
            ],
            "type": "contour"
           }
          ],
          "contourcarpet": [
           {
            "colorbar": {
             "outlinewidth": 0,
             "ticks": ""
            },
            "type": "contourcarpet"
           }
          ],
          "heatmap": [
           {
            "colorbar": {
             "outlinewidth": 0,
             "ticks": ""
            },
            "colorscale": [
             [
              0,
              "#0d0887"
             ],
             [
              0.1111111111111111,
              "#46039f"
             ],
             [
              0.2222222222222222,
              "#7201a8"
             ],
             [
              0.3333333333333333,
              "#9c179e"
             ],
             [
              0.4444444444444444,
              "#bd3786"
             ],
             [
              0.5555555555555556,
              "#d8576b"
             ],
             [
              0.6666666666666666,
              "#ed7953"
             ],
             [
              0.7777777777777778,
              "#fb9f3a"
             ],
             [
              0.8888888888888888,
              "#fdca26"
             ],
             [
              1,
              "#f0f921"
             ]
            ],
            "type": "heatmap"
           }
          ],
          "heatmapgl": [
           {
            "colorbar": {
             "outlinewidth": 0,
             "ticks": ""
            },
            "colorscale": [
             [
              0,
              "#0d0887"
             ],
             [
              0.1111111111111111,
              "#46039f"
             ],
             [
              0.2222222222222222,
              "#7201a8"
             ],
             [
              0.3333333333333333,
              "#9c179e"
             ],
             [
              0.4444444444444444,
              "#bd3786"
             ],
             [
              0.5555555555555556,
              "#d8576b"
             ],
             [
              0.6666666666666666,
              "#ed7953"
             ],
             [
              0.7777777777777778,
              "#fb9f3a"
             ],
             [
              0.8888888888888888,
              "#fdca26"
             ],
             [
              1,
              "#f0f921"
             ]
            ],
            "type": "heatmapgl"
           }
          ],
          "histogram": [
           {
            "marker": {
             "colorbar": {
              "outlinewidth": 0,
              "ticks": ""
             }
            },
            "type": "histogram"
           }
          ],
          "histogram2d": [
           {
            "colorbar": {
             "outlinewidth": 0,
             "ticks": ""
            },
            "colorscale": [
             [
              0,
              "#0d0887"
             ],
             [
              0.1111111111111111,
              "#46039f"
             ],
             [
              0.2222222222222222,
              "#7201a8"
             ],
             [
              0.3333333333333333,
              "#9c179e"
             ],
             [
              0.4444444444444444,
              "#bd3786"
             ],
             [
              0.5555555555555556,
              "#d8576b"
             ],
             [
              0.6666666666666666,
              "#ed7953"
             ],
             [
              0.7777777777777778,
              "#fb9f3a"
             ],
             [
              0.8888888888888888,
              "#fdca26"
             ],
             [
              1,
              "#f0f921"
             ]
            ],
            "type": "histogram2d"
           }
          ],
          "histogram2dcontour": [
           {
            "colorbar": {
             "outlinewidth": 0,
             "ticks": ""
            },
            "colorscale": [
             [
              0,
              "#0d0887"
             ],
             [
              0.1111111111111111,
              "#46039f"
             ],
             [
              0.2222222222222222,
              "#7201a8"
             ],
             [
              0.3333333333333333,
              "#9c179e"
             ],
             [
              0.4444444444444444,
              "#bd3786"
             ],
             [
              0.5555555555555556,
              "#d8576b"
             ],
             [
              0.6666666666666666,
              "#ed7953"
             ],
             [
              0.7777777777777778,
              "#fb9f3a"
             ],
             [
              0.8888888888888888,
              "#fdca26"
             ],
             [
              1,
              "#f0f921"
             ]
            ],
            "type": "histogram2dcontour"
           }
          ],
          "mesh3d": [
           {
            "colorbar": {
             "outlinewidth": 0,
             "ticks": ""
            },
            "type": "mesh3d"
           }
          ],
          "parcoords": [
           {
            "line": {
             "colorbar": {
              "outlinewidth": 0,
              "ticks": ""
             }
            },
            "type": "parcoords"
           }
          ],
          "pie": [
           {
            "automargin": true,
            "type": "pie"
           }
          ],
          "scatter": [
           {
            "marker": {
             "colorbar": {
              "outlinewidth": 0,
              "ticks": ""
             }
            },
            "type": "scatter"
           }
          ],
          "scatter3d": [
           {
            "line": {
             "colorbar": {
              "outlinewidth": 0,
              "ticks": ""
             }
            },
            "marker": {
             "colorbar": {
              "outlinewidth": 0,
              "ticks": ""
             }
            },
            "type": "scatter3d"
           }
          ],
          "scattercarpet": [
           {
            "marker": {
             "colorbar": {
              "outlinewidth": 0,
              "ticks": ""
             }
            },
            "type": "scattercarpet"
           }
          ],
          "scattergeo": [
           {
            "marker": {
             "colorbar": {
              "outlinewidth": 0,
              "ticks": ""
             }
            },
            "type": "scattergeo"
           }
          ],
          "scattergl": [
           {
            "marker": {
             "colorbar": {
              "outlinewidth": 0,
              "ticks": ""
             }
            },
            "type": "scattergl"
           }
          ],
          "scattermapbox": [
           {
            "marker": {
             "colorbar": {
              "outlinewidth": 0,
              "ticks": ""
             }
            },
            "type": "scattermapbox"
           }
          ],
          "scatterpolar": [
           {
            "marker": {
             "colorbar": {
              "outlinewidth": 0,
              "ticks": ""
             }
            },
            "type": "scatterpolar"
           }
          ],
          "scatterpolargl": [
           {
            "marker": {
             "colorbar": {
              "outlinewidth": 0,
              "ticks": ""
             }
            },
            "type": "scatterpolargl"
           }
          ],
          "scatterternary": [
           {
            "marker": {
             "colorbar": {
              "outlinewidth": 0,
              "ticks": ""
             }
            },
            "type": "scatterternary"
           }
          ],
          "surface": [
           {
            "colorbar": {
             "outlinewidth": 0,
             "ticks": ""
            },
            "colorscale": [
             [
              0,
              "#0d0887"
             ],
             [
              0.1111111111111111,
              "#46039f"
             ],
             [
              0.2222222222222222,
              "#7201a8"
             ],
             [
              0.3333333333333333,
              "#9c179e"
             ],
             [
              0.4444444444444444,
              "#bd3786"
             ],
             [
              0.5555555555555556,
              "#d8576b"
             ],
             [
              0.6666666666666666,
              "#ed7953"
             ],
             [
              0.7777777777777778,
              "#fb9f3a"
             ],
             [
              0.8888888888888888,
              "#fdca26"
             ],
             [
              1,
              "#f0f921"
             ]
            ],
            "type": "surface"
           }
          ],
          "table": [
           {
            "cells": {
             "fill": {
              "color": "#EBF0F8"
             },
             "line": {
              "color": "white"
             }
            },
            "header": {
             "fill": {
              "color": "#C8D4E3"
             },
             "line": {
              "color": "white"
             }
            },
            "type": "table"
           }
          ]
         },
         "layout": {
          "annotationdefaults": {
           "arrowcolor": "#2a3f5f",
           "arrowhead": 0,
           "arrowwidth": 1
          },
          "coloraxis": {
           "colorbar": {
            "outlinewidth": 0,
            "ticks": ""
           }
          },
          "colorscale": {
           "diverging": [
            [
             0,
             "#8e0152"
            ],
            [
             0.1,
             "#c51b7d"
            ],
            [
             0.2,
             "#de77ae"
            ],
            [
             0.3,
             "#f1b6da"
            ],
            [
             0.4,
             "#fde0ef"
            ],
            [
             0.5,
             "#f7f7f7"
            ],
            [
             0.6,
             "#e6f5d0"
            ],
            [
             0.7,
             "#b8e186"
            ],
            [
             0.8,
             "#7fbc41"
            ],
            [
             0.9,
             "#4d9221"
            ],
            [
             1,
             "#276419"
            ]
           ],
           "sequential": [
            [
             0,
             "#0d0887"
            ],
            [
             0.1111111111111111,
             "#46039f"
            ],
            [
             0.2222222222222222,
             "#7201a8"
            ],
            [
             0.3333333333333333,
             "#9c179e"
            ],
            [
             0.4444444444444444,
             "#bd3786"
            ],
            [
             0.5555555555555556,
             "#d8576b"
            ],
            [
             0.6666666666666666,
             "#ed7953"
            ],
            [
             0.7777777777777778,
             "#fb9f3a"
            ],
            [
             0.8888888888888888,
             "#fdca26"
            ],
            [
             1,
             "#f0f921"
            ]
           ],
           "sequentialminus": [
            [
             0,
             "#0d0887"
            ],
            [
             0.1111111111111111,
             "#46039f"
            ],
            [
             0.2222222222222222,
             "#7201a8"
            ],
            [
             0.3333333333333333,
             "#9c179e"
            ],
            [
             0.4444444444444444,
             "#bd3786"
            ],
            [
             0.5555555555555556,
             "#d8576b"
            ],
            [
             0.6666666666666666,
             "#ed7953"
            ],
            [
             0.7777777777777778,
             "#fb9f3a"
            ],
            [
             0.8888888888888888,
             "#fdca26"
            ],
            [
             1,
             "#f0f921"
            ]
           ]
          },
          "colorway": [
           "#636efa",
           "#EF553B",
           "#00cc96",
           "#ab63fa",
           "#FFA15A",
           "#19d3f3",
           "#FF6692",
           "#B6E880",
           "#FF97FF",
           "#FECB52"
          ],
          "font": {
           "color": "#2a3f5f"
          },
          "geo": {
           "bgcolor": "white",
           "lakecolor": "white",
           "landcolor": "#E5ECF6",
           "showlakes": true,
           "showland": true,
           "subunitcolor": "white"
          },
          "hoverlabel": {
           "align": "left"
          },
          "hovermode": "closest",
          "mapbox": {
           "style": "light"
          },
          "paper_bgcolor": "white",
          "plot_bgcolor": "#E5ECF6",
          "polar": {
           "angularaxis": {
            "gridcolor": "white",
            "linecolor": "white",
            "ticks": ""
           },
           "bgcolor": "#E5ECF6",
           "radialaxis": {
            "gridcolor": "white",
            "linecolor": "white",
            "ticks": ""
           }
          },
          "scene": {
           "xaxis": {
            "backgroundcolor": "#E5ECF6",
            "gridcolor": "white",
            "gridwidth": 2,
            "linecolor": "white",
            "showbackground": true,
            "ticks": "",
            "zerolinecolor": "white"
           },
           "yaxis": {
            "backgroundcolor": "#E5ECF6",
            "gridcolor": "white",
            "gridwidth": 2,
            "linecolor": "white",
            "showbackground": true,
            "ticks": "",
            "zerolinecolor": "white"
           },
           "zaxis": {
            "backgroundcolor": "#E5ECF6",
            "gridcolor": "white",
            "gridwidth": 2,
            "linecolor": "white",
            "showbackground": true,
            "ticks": "",
            "zerolinecolor": "white"
           }
          },
          "shapedefaults": {
           "line": {
            "color": "#2a3f5f"
           }
          },
          "ternary": {
           "aaxis": {
            "gridcolor": "white",
            "linecolor": "white",
            "ticks": ""
           },
           "baxis": {
            "gridcolor": "white",
            "linecolor": "white",
            "ticks": ""
           },
           "bgcolor": "#E5ECF6",
           "caxis": {
            "gridcolor": "white",
            "linecolor": "white",
            "ticks": ""
           }
          },
          "title": {
           "x": 0.05
          },
          "xaxis": {
           "automargin": true,
           "gridcolor": "white",
           "linecolor": "white",
           "ticks": "",
           "title": {
            "standoff": 15
           },
           "zerolinecolor": "white",
           "zerolinewidth": 2
          },
          "yaxis": {
           "automargin": true,
           "gridcolor": "white",
           "linecolor": "white",
           "ticks": "",
           "title": {
            "standoff": 15
           },
           "zerolinecolor": "white",
           "zerolinewidth": 2
          }
         }
        },
        "title": {
         "font": {
          "color": "#4D5663"
         },
         "text": "Null values present in train Dataset"
        },
        "xaxis": {
         "gridcolor": "#E1E5ED",
         "showgrid": true,
         "tickfont": {
          "color": "#4D5663"
         },
         "title": {
          "font": {
           "color": "#4D5663"
          },
          "text": ""
         },
         "zerolinecolor": "#E1E5ED"
        },
        "yaxis": {
         "gridcolor": "#E1E5ED",
         "showgrid": true,
         "tickfont": {
          "color": "#4D5663"
         },
         "title": {
          "font": {
           "color": "#4D5663"
          },
          "text": ""
         },
         "zerolinecolor": "#E1E5ED"
        }
       }
      },
      "text/html": [
       "<div>\n",
       "        \n",
       "        \n",
       "            <div id=\"233301f2-7015-4674-afbc-cec0f05e0329\" class=\"plotly-graph-div\" style=\"height:525px; width:100%;\"></div>\n",
       "            <script type=\"text/javascript\">\n",
       "                require([\"plotly\"], function(Plotly) {\n",
       "                    window.PLOTLYENV=window.PLOTLYENV || {};\n",
       "                    window.PLOTLYENV.BASE_URL='https://plot.ly';\n",
       "                    \n",
       "                if (document.getElementById(\"233301f2-7015-4674-afbc-cec0f05e0329\")) {\n",
       "                    Plotly.newPlot(\n",
       "                        '233301f2-7015-4674-afbc-cec0f05e0329',\n",
       "                        [{\"marker\": {\"color\": \"rgba(219, 64, 82, 0.6)\", \"line\": {\"color\": \"rgba(219, 64, 82, 1.0)\", \"width\": 1}}, \"name\": \"None\", \"orientation\": \"v\", \"text\": \"\", \"type\": \"bar\", \"x\": [\"location\", \"keyword\"], \"y\": [2533, 61]}],\n",
       "                        {\"legend\": {\"bgcolor\": \"#F5F6F9\", \"font\": {\"color\": \"#4D5663\"}}, \"paper_bgcolor\": \"#F5F6F9\", \"plot_bgcolor\": \"#F5F6F9\", \"template\": {\"data\": {\"bar\": [{\"error_x\": {\"color\": \"#2a3f5f\"}, \"error_y\": {\"color\": \"#2a3f5f\"}, \"marker\": {\"line\": {\"color\": \"#E5ECF6\", \"width\": 0.5}}, \"type\": \"bar\"}], \"barpolar\": [{\"marker\": {\"line\": {\"color\": \"#E5ECF6\", \"width\": 0.5}}, \"type\": \"barpolar\"}], \"carpet\": [{\"aaxis\": {\"endlinecolor\": \"#2a3f5f\", \"gridcolor\": \"white\", \"linecolor\": \"white\", \"minorgridcolor\": \"white\", \"startlinecolor\": \"#2a3f5f\"}, \"baxis\": {\"endlinecolor\": \"#2a3f5f\", \"gridcolor\": \"white\", \"linecolor\": \"white\", \"minorgridcolor\": \"white\", \"startlinecolor\": \"#2a3f5f\"}, \"type\": \"carpet\"}], \"choropleth\": [{\"colorbar\": {\"outlinewidth\": 0, \"ticks\": \"\"}, \"type\": \"choropleth\"}], \"contour\": [{\"colorbar\": {\"outlinewidth\": 0, \"ticks\": \"\"}, \"colorscale\": [[0.0, \"#0d0887\"], [0.1111111111111111, \"#46039f\"], [0.2222222222222222, \"#7201a8\"], [0.3333333333333333, \"#9c179e\"], [0.4444444444444444, \"#bd3786\"], [0.5555555555555556, \"#d8576b\"], [0.6666666666666666, \"#ed7953\"], [0.7777777777777778, \"#fb9f3a\"], [0.8888888888888888, \"#fdca26\"], [1.0, \"#f0f921\"]], \"type\": \"contour\"}], \"contourcarpet\": [{\"colorbar\": {\"outlinewidth\": 0, \"ticks\": \"\"}, \"type\": \"contourcarpet\"}], \"heatmap\": [{\"colorbar\": {\"outlinewidth\": 0, \"ticks\": \"\"}, \"colorscale\": [[0.0, \"#0d0887\"], [0.1111111111111111, \"#46039f\"], [0.2222222222222222, \"#7201a8\"], [0.3333333333333333, \"#9c179e\"], [0.4444444444444444, \"#bd3786\"], [0.5555555555555556, \"#d8576b\"], [0.6666666666666666, \"#ed7953\"], [0.7777777777777778, \"#fb9f3a\"], [0.8888888888888888, \"#fdca26\"], [1.0, \"#f0f921\"]], \"type\": \"heatmap\"}], \"heatmapgl\": [{\"colorbar\": {\"outlinewidth\": 0, \"ticks\": \"\"}, \"colorscale\": [[0.0, \"#0d0887\"], [0.1111111111111111, \"#46039f\"], [0.2222222222222222, \"#7201a8\"], [0.3333333333333333, \"#9c179e\"], [0.4444444444444444, \"#bd3786\"], [0.5555555555555556, \"#d8576b\"], [0.6666666666666666, \"#ed7953\"], [0.7777777777777778, \"#fb9f3a\"], [0.8888888888888888, \"#fdca26\"], [1.0, \"#f0f921\"]], \"type\": \"heatmapgl\"}], \"histogram\": [{\"marker\": {\"colorbar\": {\"outlinewidth\": 0, \"ticks\": \"\"}}, \"type\": \"histogram\"}], \"histogram2d\": [{\"colorbar\": {\"outlinewidth\": 0, \"ticks\": \"\"}, \"colorscale\": [[0.0, \"#0d0887\"], [0.1111111111111111, \"#46039f\"], [0.2222222222222222, \"#7201a8\"], [0.3333333333333333, \"#9c179e\"], [0.4444444444444444, \"#bd3786\"], [0.5555555555555556, \"#d8576b\"], [0.6666666666666666, \"#ed7953\"], [0.7777777777777778, \"#fb9f3a\"], [0.8888888888888888, \"#fdca26\"], [1.0, \"#f0f921\"]], \"type\": \"histogram2d\"}], \"histogram2dcontour\": [{\"colorbar\": {\"outlinewidth\": 0, \"ticks\": \"\"}, \"colorscale\": [[0.0, \"#0d0887\"], [0.1111111111111111, \"#46039f\"], [0.2222222222222222, \"#7201a8\"], [0.3333333333333333, \"#9c179e\"], [0.4444444444444444, \"#bd3786\"], [0.5555555555555556, \"#d8576b\"], [0.6666666666666666, \"#ed7953\"], [0.7777777777777778, \"#fb9f3a\"], [0.8888888888888888, \"#fdca26\"], [1.0, \"#f0f921\"]], \"type\": \"histogram2dcontour\"}], \"mesh3d\": [{\"colorbar\": {\"outlinewidth\": 0, \"ticks\": \"\"}, \"type\": \"mesh3d\"}], \"parcoords\": [{\"line\": {\"colorbar\": {\"outlinewidth\": 0, \"ticks\": \"\"}}, \"type\": \"parcoords\"}], \"pie\": [{\"automargin\": true, \"type\": \"pie\"}], \"scatter\": [{\"marker\": {\"colorbar\": {\"outlinewidth\": 0, \"ticks\": \"\"}}, \"type\": \"scatter\"}], \"scatter3d\": [{\"line\": {\"colorbar\": {\"outlinewidth\": 0, \"ticks\": \"\"}}, \"marker\": {\"colorbar\": {\"outlinewidth\": 0, \"ticks\": \"\"}}, \"type\": \"scatter3d\"}], \"scattercarpet\": [{\"marker\": {\"colorbar\": {\"outlinewidth\": 0, \"ticks\": \"\"}}, \"type\": \"scattercarpet\"}], \"scattergeo\": [{\"marker\": {\"colorbar\": {\"outlinewidth\": 0, \"ticks\": \"\"}}, \"type\": \"scattergeo\"}], \"scattergl\": [{\"marker\": {\"colorbar\": {\"outlinewidth\": 0, \"ticks\": \"\"}}, \"type\": \"scattergl\"}], \"scattermapbox\": [{\"marker\": {\"colorbar\": {\"outlinewidth\": 0, \"ticks\": \"\"}}, \"type\": \"scattermapbox\"}], \"scatterpolar\": [{\"marker\": {\"colorbar\": {\"outlinewidth\": 0, \"ticks\": \"\"}}, \"type\": \"scatterpolar\"}], \"scatterpolargl\": [{\"marker\": {\"colorbar\": {\"outlinewidth\": 0, \"ticks\": \"\"}}, \"type\": \"scatterpolargl\"}], \"scatterternary\": [{\"marker\": {\"colorbar\": {\"outlinewidth\": 0, \"ticks\": \"\"}}, \"type\": \"scatterternary\"}], \"surface\": [{\"colorbar\": {\"outlinewidth\": 0, \"ticks\": \"\"}, \"colorscale\": [[0.0, \"#0d0887\"], [0.1111111111111111, \"#46039f\"], [0.2222222222222222, \"#7201a8\"], [0.3333333333333333, \"#9c179e\"], [0.4444444444444444, \"#bd3786\"], [0.5555555555555556, \"#d8576b\"], [0.6666666666666666, \"#ed7953\"], [0.7777777777777778, \"#fb9f3a\"], [0.8888888888888888, \"#fdca26\"], [1.0, \"#f0f921\"]], \"type\": \"surface\"}], \"table\": [{\"cells\": {\"fill\": {\"color\": \"#EBF0F8\"}, \"line\": {\"color\": \"white\"}}, \"header\": {\"fill\": {\"color\": \"#C8D4E3\"}, \"line\": {\"color\": \"white\"}}, \"type\": \"table\"}]}, \"layout\": {\"annotationdefaults\": {\"arrowcolor\": \"#2a3f5f\", \"arrowhead\": 0, \"arrowwidth\": 1}, \"coloraxis\": {\"colorbar\": {\"outlinewidth\": 0, \"ticks\": \"\"}}, \"colorscale\": {\"diverging\": [[0, \"#8e0152\"], [0.1, \"#c51b7d\"], [0.2, \"#de77ae\"], [0.3, \"#f1b6da\"], [0.4, \"#fde0ef\"], [0.5, \"#f7f7f7\"], [0.6, \"#e6f5d0\"], [0.7, \"#b8e186\"], [0.8, \"#7fbc41\"], [0.9, \"#4d9221\"], [1, \"#276419\"]], \"sequential\": [[0.0, \"#0d0887\"], [0.1111111111111111, \"#46039f\"], [0.2222222222222222, \"#7201a8\"], [0.3333333333333333, \"#9c179e\"], [0.4444444444444444, \"#bd3786\"], [0.5555555555555556, \"#d8576b\"], [0.6666666666666666, \"#ed7953\"], [0.7777777777777778, \"#fb9f3a\"], [0.8888888888888888, \"#fdca26\"], [1.0, \"#f0f921\"]], \"sequentialminus\": [[0.0, \"#0d0887\"], [0.1111111111111111, \"#46039f\"], [0.2222222222222222, \"#7201a8\"], [0.3333333333333333, \"#9c179e\"], [0.4444444444444444, \"#bd3786\"], [0.5555555555555556, \"#d8576b\"], [0.6666666666666666, \"#ed7953\"], [0.7777777777777778, \"#fb9f3a\"], [0.8888888888888888, \"#fdca26\"], [1.0, \"#f0f921\"]]}, \"colorway\": [\"#636efa\", \"#EF553B\", \"#00cc96\", \"#ab63fa\", \"#FFA15A\", \"#19d3f3\", \"#FF6692\", \"#B6E880\", \"#FF97FF\", \"#FECB52\"], \"font\": {\"color\": \"#2a3f5f\"}, \"geo\": {\"bgcolor\": \"white\", \"lakecolor\": \"white\", \"landcolor\": \"#E5ECF6\", \"showlakes\": true, \"showland\": true, \"subunitcolor\": \"white\"}, \"hoverlabel\": {\"align\": \"left\"}, \"hovermode\": \"closest\", \"mapbox\": {\"style\": \"light\"}, \"paper_bgcolor\": \"white\", \"plot_bgcolor\": \"#E5ECF6\", \"polar\": {\"angularaxis\": {\"gridcolor\": \"white\", \"linecolor\": \"white\", \"ticks\": \"\"}, \"bgcolor\": \"#E5ECF6\", \"radialaxis\": {\"gridcolor\": \"white\", \"linecolor\": \"white\", \"ticks\": \"\"}}, \"scene\": {\"xaxis\": {\"backgroundcolor\": \"#E5ECF6\", \"gridcolor\": \"white\", \"gridwidth\": 2, \"linecolor\": \"white\", \"showbackground\": true, \"ticks\": \"\", \"zerolinecolor\": \"white\"}, \"yaxis\": {\"backgroundcolor\": \"#E5ECF6\", \"gridcolor\": \"white\", \"gridwidth\": 2, \"linecolor\": \"white\", \"showbackground\": true, \"ticks\": \"\", \"zerolinecolor\": \"white\"}, \"zaxis\": {\"backgroundcolor\": \"#E5ECF6\", \"gridcolor\": \"white\", \"gridwidth\": 2, \"linecolor\": \"white\", \"showbackground\": true, \"ticks\": \"\", \"zerolinecolor\": \"white\"}}, \"shapedefaults\": {\"line\": {\"color\": \"#2a3f5f\"}}, \"ternary\": {\"aaxis\": {\"gridcolor\": \"white\", \"linecolor\": \"white\", \"ticks\": \"\"}, \"baxis\": {\"gridcolor\": \"white\", \"linecolor\": \"white\", \"ticks\": \"\"}, \"bgcolor\": \"#E5ECF6\", \"caxis\": {\"gridcolor\": \"white\", \"linecolor\": \"white\", \"ticks\": \"\"}}, \"title\": {\"x\": 0.05}, \"xaxis\": {\"automargin\": true, \"gridcolor\": \"white\", \"linecolor\": \"white\", \"ticks\": \"\", \"title\": {\"standoff\": 15}, \"zerolinecolor\": \"white\", \"zerolinewidth\": 2}, \"yaxis\": {\"automargin\": true, \"gridcolor\": \"white\", \"linecolor\": \"white\", \"ticks\": \"\", \"title\": {\"standoff\": 15}, \"zerolinecolor\": \"white\", \"zerolinewidth\": 2}}}, \"title\": {\"font\": {\"color\": \"#4D5663\"}, \"text\": \"Null values present in train Dataset\"}, \"xaxis\": {\"gridcolor\": \"#E1E5ED\", \"showgrid\": true, \"tickfont\": {\"color\": \"#4D5663\"}, \"title\": {\"font\": {\"color\": \"#4D5663\"}, \"text\": \"\"}, \"zerolinecolor\": \"#E1E5ED\"}, \"yaxis\": {\"gridcolor\": \"#E1E5ED\", \"showgrid\": true, \"tickfont\": {\"color\": \"#4D5663\"}, \"title\": {\"font\": {\"color\": \"#4D5663\"}, \"text\": \"\"}, \"zerolinecolor\": \"#E1E5ED\"}},\n",
       "                        {\"showLink\": true, \"linkText\": \"Export to plot.ly\", \"plotlyServerURL\": \"https://plot.ly\", \"responsive\": true}\n",
       "                    ).then(function(){\n",
       "                            \n",
       "var gd = document.getElementById('233301f2-7015-4674-afbc-cec0f05e0329');\n",
       "var x = new MutationObserver(function (mutations, observer) {{\n",
       "        var display = window.getComputedStyle(gd).display;\n",
       "        if (!display || display === 'none') {{\n",
       "            console.log([gd, 'removed!']);\n",
       "            Plotly.purge(gd);\n",
       "            observer.disconnect();\n",
       "        }}\n",
       "}});\n",
       "\n",
       "// Listen for the removal of the full notebook cells\n",
       "var notebookContainer = gd.closest('#notebook-container');\n",
       "if (notebookContainer) {{\n",
       "    x.observe(notebookContainer, {childList: true});\n",
       "}}\n",
       "\n",
       "// Listen for the clearing of the current output cell\n",
       "var outputEl = gd.closest('.output');\n",
       "if (outputEl) {{\n",
       "    x.observe(outputEl, {childList: true});\n",
       "}}\n",
       "\n",
       "                        })\n",
       "                };\n",
       "                });\n",
       "            </script>\n",
       "        </div>"
      ]
     },
     "metadata": {},
     "output_type": "display_data"
    }
   ],
   "source": [
    "missing = train.isnull().sum()  \n",
    "missing[missing>0].sort_values(ascending=False).iplot(kind='bar',title='Null values present in train Dataset', color=['red'])"
   ]
  },
  {
   "cell_type": "code",
   "execution_count": 16,
   "metadata": {},
   "outputs": [
    {
     "data": {
      "application/vnd.plotly.v1+json": {
       "config": {
        "linkText": "Export to plot.ly",
        "plotlyServerURL": "https://plot.ly",
        "showLink": true
       },
       "data": [
        {
         "marker": {
          "color": "rgba(55, 128, 191, 0.6)",
          "line": {
           "color": "rgba(55, 128, 191, 1.0)",
           "width": 1
          }
         },
         "name": "target",
         "orientation": "v",
         "text": [
          "Fake",
          "Real"
         ],
         "type": "bar",
         "x": [
          0,
          1
         ],
         "y": [
          4342,
          3271
         ]
        }
       ],
       "layout": {
        "legend": {
         "bgcolor": "#F5F6F9",
         "font": {
          "color": "#4D5663"
         }
        },
        "paper_bgcolor": "#F5F6F9",
        "plot_bgcolor": "#F5F6F9",
        "template": {
         "data": {
          "bar": [
           {
            "error_x": {
             "color": "#2a3f5f"
            },
            "error_y": {
             "color": "#2a3f5f"
            },
            "marker": {
             "line": {
              "color": "#E5ECF6",
              "width": 0.5
             }
            },
            "type": "bar"
           }
          ],
          "barpolar": [
           {
            "marker": {
             "line": {
              "color": "#E5ECF6",
              "width": 0.5
             }
            },
            "type": "barpolar"
           }
          ],
          "carpet": [
           {
            "aaxis": {
             "endlinecolor": "#2a3f5f",
             "gridcolor": "white",
             "linecolor": "white",
             "minorgridcolor": "white",
             "startlinecolor": "#2a3f5f"
            },
            "baxis": {
             "endlinecolor": "#2a3f5f",
             "gridcolor": "white",
             "linecolor": "white",
             "minorgridcolor": "white",
             "startlinecolor": "#2a3f5f"
            },
            "type": "carpet"
           }
          ],
          "choropleth": [
           {
            "colorbar": {
             "outlinewidth": 0,
             "ticks": ""
            },
            "type": "choropleth"
           }
          ],
          "contour": [
           {
            "colorbar": {
             "outlinewidth": 0,
             "ticks": ""
            },
            "colorscale": [
             [
              0,
              "#0d0887"
             ],
             [
              0.1111111111111111,
              "#46039f"
             ],
             [
              0.2222222222222222,
              "#7201a8"
             ],
             [
              0.3333333333333333,
              "#9c179e"
             ],
             [
              0.4444444444444444,
              "#bd3786"
             ],
             [
              0.5555555555555556,
              "#d8576b"
             ],
             [
              0.6666666666666666,
              "#ed7953"
             ],
             [
              0.7777777777777778,
              "#fb9f3a"
             ],
             [
              0.8888888888888888,
              "#fdca26"
             ],
             [
              1,
              "#f0f921"
             ]
            ],
            "type": "contour"
           }
          ],
          "contourcarpet": [
           {
            "colorbar": {
             "outlinewidth": 0,
             "ticks": ""
            },
            "type": "contourcarpet"
           }
          ],
          "heatmap": [
           {
            "colorbar": {
             "outlinewidth": 0,
             "ticks": ""
            },
            "colorscale": [
             [
              0,
              "#0d0887"
             ],
             [
              0.1111111111111111,
              "#46039f"
             ],
             [
              0.2222222222222222,
              "#7201a8"
             ],
             [
              0.3333333333333333,
              "#9c179e"
             ],
             [
              0.4444444444444444,
              "#bd3786"
             ],
             [
              0.5555555555555556,
              "#d8576b"
             ],
             [
              0.6666666666666666,
              "#ed7953"
             ],
             [
              0.7777777777777778,
              "#fb9f3a"
             ],
             [
              0.8888888888888888,
              "#fdca26"
             ],
             [
              1,
              "#f0f921"
             ]
            ],
            "type": "heatmap"
           }
          ],
          "heatmapgl": [
           {
            "colorbar": {
             "outlinewidth": 0,
             "ticks": ""
            },
            "colorscale": [
             [
              0,
              "#0d0887"
             ],
             [
              0.1111111111111111,
              "#46039f"
             ],
             [
              0.2222222222222222,
              "#7201a8"
             ],
             [
              0.3333333333333333,
              "#9c179e"
             ],
             [
              0.4444444444444444,
              "#bd3786"
             ],
             [
              0.5555555555555556,
              "#d8576b"
             ],
             [
              0.6666666666666666,
              "#ed7953"
             ],
             [
              0.7777777777777778,
              "#fb9f3a"
             ],
             [
              0.8888888888888888,
              "#fdca26"
             ],
             [
              1,
              "#f0f921"
             ]
            ],
            "type": "heatmapgl"
           }
          ],
          "histogram": [
           {
            "marker": {
             "colorbar": {
              "outlinewidth": 0,
              "ticks": ""
             }
            },
            "type": "histogram"
           }
          ],
          "histogram2d": [
           {
            "colorbar": {
             "outlinewidth": 0,
             "ticks": ""
            },
            "colorscale": [
             [
              0,
              "#0d0887"
             ],
             [
              0.1111111111111111,
              "#46039f"
             ],
             [
              0.2222222222222222,
              "#7201a8"
             ],
             [
              0.3333333333333333,
              "#9c179e"
             ],
             [
              0.4444444444444444,
              "#bd3786"
             ],
             [
              0.5555555555555556,
              "#d8576b"
             ],
             [
              0.6666666666666666,
              "#ed7953"
             ],
             [
              0.7777777777777778,
              "#fb9f3a"
             ],
             [
              0.8888888888888888,
              "#fdca26"
             ],
             [
              1,
              "#f0f921"
             ]
            ],
            "type": "histogram2d"
           }
          ],
          "histogram2dcontour": [
           {
            "colorbar": {
             "outlinewidth": 0,
             "ticks": ""
            },
            "colorscale": [
             [
              0,
              "#0d0887"
             ],
             [
              0.1111111111111111,
              "#46039f"
             ],
             [
              0.2222222222222222,
              "#7201a8"
             ],
             [
              0.3333333333333333,
              "#9c179e"
             ],
             [
              0.4444444444444444,
              "#bd3786"
             ],
             [
              0.5555555555555556,
              "#d8576b"
             ],
             [
              0.6666666666666666,
              "#ed7953"
             ],
             [
              0.7777777777777778,
              "#fb9f3a"
             ],
             [
              0.8888888888888888,
              "#fdca26"
             ],
             [
              1,
              "#f0f921"
             ]
            ],
            "type": "histogram2dcontour"
           }
          ],
          "mesh3d": [
           {
            "colorbar": {
             "outlinewidth": 0,
             "ticks": ""
            },
            "type": "mesh3d"
           }
          ],
          "parcoords": [
           {
            "line": {
             "colorbar": {
              "outlinewidth": 0,
              "ticks": ""
             }
            },
            "type": "parcoords"
           }
          ],
          "pie": [
           {
            "automargin": true,
            "type": "pie"
           }
          ],
          "scatter": [
           {
            "marker": {
             "colorbar": {
              "outlinewidth": 0,
              "ticks": ""
             }
            },
            "type": "scatter"
           }
          ],
          "scatter3d": [
           {
            "line": {
             "colorbar": {
              "outlinewidth": 0,
              "ticks": ""
             }
            },
            "marker": {
             "colorbar": {
              "outlinewidth": 0,
              "ticks": ""
             }
            },
            "type": "scatter3d"
           }
          ],
          "scattercarpet": [
           {
            "marker": {
             "colorbar": {
              "outlinewidth": 0,
              "ticks": ""
             }
            },
            "type": "scattercarpet"
           }
          ],
          "scattergeo": [
           {
            "marker": {
             "colorbar": {
              "outlinewidth": 0,
              "ticks": ""
             }
            },
            "type": "scattergeo"
           }
          ],
          "scattergl": [
           {
            "marker": {
             "colorbar": {
              "outlinewidth": 0,
              "ticks": ""
             }
            },
            "type": "scattergl"
           }
          ],
          "scattermapbox": [
           {
            "marker": {
             "colorbar": {
              "outlinewidth": 0,
              "ticks": ""
             }
            },
            "type": "scattermapbox"
           }
          ],
          "scatterpolar": [
           {
            "marker": {
             "colorbar": {
              "outlinewidth": 0,
              "ticks": ""
             }
            },
            "type": "scatterpolar"
           }
          ],
          "scatterpolargl": [
           {
            "marker": {
             "colorbar": {
              "outlinewidth": 0,
              "ticks": ""
             }
            },
            "type": "scatterpolargl"
           }
          ],
          "scatterternary": [
           {
            "marker": {
             "colorbar": {
              "outlinewidth": 0,
              "ticks": ""
             }
            },
            "type": "scatterternary"
           }
          ],
          "surface": [
           {
            "colorbar": {
             "outlinewidth": 0,
             "ticks": ""
            },
            "colorscale": [
             [
              0,
              "#0d0887"
             ],
             [
              0.1111111111111111,
              "#46039f"
             ],
             [
              0.2222222222222222,
              "#7201a8"
             ],
             [
              0.3333333333333333,
              "#9c179e"
             ],
             [
              0.4444444444444444,
              "#bd3786"
             ],
             [
              0.5555555555555556,
              "#d8576b"
             ],
             [
              0.6666666666666666,
              "#ed7953"
             ],
             [
              0.7777777777777778,
              "#fb9f3a"
             ],
             [
              0.8888888888888888,
              "#fdca26"
             ],
             [
              1,
              "#f0f921"
             ]
            ],
            "type": "surface"
           }
          ],
          "table": [
           {
            "cells": {
             "fill": {
              "color": "#EBF0F8"
             },
             "line": {
              "color": "white"
             }
            },
            "header": {
             "fill": {
              "color": "#C8D4E3"
             },
             "line": {
              "color": "white"
             }
            },
            "type": "table"
           }
          ]
         },
         "layout": {
          "annotationdefaults": {
           "arrowcolor": "#2a3f5f",
           "arrowhead": 0,
           "arrowwidth": 1
          },
          "coloraxis": {
           "colorbar": {
            "outlinewidth": 0,
            "ticks": ""
           }
          },
          "colorscale": {
           "diverging": [
            [
             0,
             "#8e0152"
            ],
            [
             0.1,
             "#c51b7d"
            ],
            [
             0.2,
             "#de77ae"
            ],
            [
             0.3,
             "#f1b6da"
            ],
            [
             0.4,
             "#fde0ef"
            ],
            [
             0.5,
             "#f7f7f7"
            ],
            [
             0.6,
             "#e6f5d0"
            ],
            [
             0.7,
             "#b8e186"
            ],
            [
             0.8,
             "#7fbc41"
            ],
            [
             0.9,
             "#4d9221"
            ],
            [
             1,
             "#276419"
            ]
           ],
           "sequential": [
            [
             0,
             "#0d0887"
            ],
            [
             0.1111111111111111,
             "#46039f"
            ],
            [
             0.2222222222222222,
             "#7201a8"
            ],
            [
             0.3333333333333333,
             "#9c179e"
            ],
            [
             0.4444444444444444,
             "#bd3786"
            ],
            [
             0.5555555555555556,
             "#d8576b"
            ],
            [
             0.6666666666666666,
             "#ed7953"
            ],
            [
             0.7777777777777778,
             "#fb9f3a"
            ],
            [
             0.8888888888888888,
             "#fdca26"
            ],
            [
             1,
             "#f0f921"
            ]
           ],
           "sequentialminus": [
            [
             0,
             "#0d0887"
            ],
            [
             0.1111111111111111,
             "#46039f"
            ],
            [
             0.2222222222222222,
             "#7201a8"
            ],
            [
             0.3333333333333333,
             "#9c179e"
            ],
            [
             0.4444444444444444,
             "#bd3786"
            ],
            [
             0.5555555555555556,
             "#d8576b"
            ],
            [
             0.6666666666666666,
             "#ed7953"
            ],
            [
             0.7777777777777778,
             "#fb9f3a"
            ],
            [
             0.8888888888888888,
             "#fdca26"
            ],
            [
             1,
             "#f0f921"
            ]
           ]
          },
          "colorway": [
           "#636efa",
           "#EF553B",
           "#00cc96",
           "#ab63fa",
           "#FFA15A",
           "#19d3f3",
           "#FF6692",
           "#B6E880",
           "#FF97FF",
           "#FECB52"
          ],
          "font": {
           "color": "#2a3f5f"
          },
          "geo": {
           "bgcolor": "white",
           "lakecolor": "white",
           "landcolor": "#E5ECF6",
           "showlakes": true,
           "showland": true,
           "subunitcolor": "white"
          },
          "hoverlabel": {
           "align": "left"
          },
          "hovermode": "closest",
          "mapbox": {
           "style": "light"
          },
          "paper_bgcolor": "white",
          "plot_bgcolor": "#E5ECF6",
          "polar": {
           "angularaxis": {
            "gridcolor": "white",
            "linecolor": "white",
            "ticks": ""
           },
           "bgcolor": "#E5ECF6",
           "radialaxis": {
            "gridcolor": "white",
            "linecolor": "white",
            "ticks": ""
           }
          },
          "scene": {
           "xaxis": {
            "backgroundcolor": "#E5ECF6",
            "gridcolor": "white",
            "gridwidth": 2,
            "linecolor": "white",
            "showbackground": true,
            "ticks": "",
            "zerolinecolor": "white"
           },
           "yaxis": {
            "backgroundcolor": "#E5ECF6",
            "gridcolor": "white",
            "gridwidth": 2,
            "linecolor": "white",
            "showbackground": true,
            "ticks": "",
            "zerolinecolor": "white"
           },
           "zaxis": {
            "backgroundcolor": "#E5ECF6",
            "gridcolor": "white",
            "gridwidth": 2,
            "linecolor": "white",
            "showbackground": true,
            "ticks": "",
            "zerolinecolor": "white"
           }
          },
          "shapedefaults": {
           "line": {
            "color": "#2a3f5f"
           }
          },
          "ternary": {
           "aaxis": {
            "gridcolor": "white",
            "linecolor": "white",
            "ticks": ""
           },
           "baxis": {
            "gridcolor": "white",
            "linecolor": "white",
            "ticks": ""
           },
           "bgcolor": "#E5ECF6",
           "caxis": {
            "gridcolor": "white",
            "linecolor": "white",
            "ticks": ""
           }
          },
          "title": {
           "x": 0.05
          },
          "xaxis": {
           "automargin": true,
           "gridcolor": "white",
           "linecolor": "white",
           "ticks": "",
           "title": {
            "standoff": 15
           },
           "zerolinecolor": "white",
           "zerolinewidth": 2
          },
          "yaxis": {
           "automargin": true,
           "gridcolor": "white",
           "linecolor": "white",
           "ticks": "",
           "title": {
            "standoff": 15
           },
           "zerolinecolor": "white",
           "zerolinewidth": 2
          }
         }
        },
        "title": {
         "font": {
          "color": "#4D5663"
         },
         "text": "Comparing Tweet is a real disaster (1) or not (0)"
        },
        "xaxis": {
         "gridcolor": "#E1E5ED",
         "showgrid": true,
         "tickfont": {
          "color": "#4D5663"
         },
         "title": {
          "font": {
           "color": "#4D5663"
          },
          "text": ""
         },
         "zerolinecolor": "#E1E5ED"
        },
        "yaxis": {
         "gridcolor": "#E1E5ED",
         "showgrid": true,
         "tickfont": {
          "color": "#4D5663"
         },
         "title": {
          "font": {
           "color": "#4D5663"
          },
          "text": ""
         },
         "zerolinecolor": "#E1E5ED"
        }
       }
      },
      "text/html": [
       "<div>\n",
       "        \n",
       "        \n",
       "            <div id=\"284e5b56-54d2-4728-9b88-b911ca664dac\" class=\"plotly-graph-div\" style=\"height:525px; width:100%;\"></div>\n",
       "            <script type=\"text/javascript\">\n",
       "                require([\"plotly\"], function(Plotly) {\n",
       "                    window.PLOTLYENV=window.PLOTLYENV || {};\n",
       "                    window.PLOTLYENV.BASE_URL='https://plot.ly';\n",
       "                    \n",
       "                if (document.getElementById(\"284e5b56-54d2-4728-9b88-b911ca664dac\")) {\n",
       "                    Plotly.newPlot(\n",
       "                        '284e5b56-54d2-4728-9b88-b911ca664dac',\n",
       "                        [{\"marker\": {\"color\": \"rgba(55, 128, 191, 0.6)\", \"line\": {\"color\": \"rgba(55, 128, 191, 1.0)\", \"width\": 1}}, \"name\": \"target\", \"orientation\": \"v\", \"text\": [\"Fake\", \"Real\"], \"type\": \"bar\", \"x\": [0, 1], \"y\": [4342, 3271]}],\n",
       "                        {\"legend\": {\"bgcolor\": \"#F5F6F9\", \"font\": {\"color\": \"#4D5663\"}}, \"paper_bgcolor\": \"#F5F6F9\", \"plot_bgcolor\": \"#F5F6F9\", \"template\": {\"data\": {\"bar\": [{\"error_x\": {\"color\": \"#2a3f5f\"}, \"error_y\": {\"color\": \"#2a3f5f\"}, \"marker\": {\"line\": {\"color\": \"#E5ECF6\", \"width\": 0.5}}, \"type\": \"bar\"}], \"barpolar\": [{\"marker\": {\"line\": {\"color\": \"#E5ECF6\", \"width\": 0.5}}, \"type\": \"barpolar\"}], \"carpet\": [{\"aaxis\": {\"endlinecolor\": \"#2a3f5f\", \"gridcolor\": \"white\", \"linecolor\": \"white\", \"minorgridcolor\": \"white\", \"startlinecolor\": \"#2a3f5f\"}, \"baxis\": {\"endlinecolor\": \"#2a3f5f\", \"gridcolor\": \"white\", \"linecolor\": \"white\", \"minorgridcolor\": \"white\", \"startlinecolor\": \"#2a3f5f\"}, \"type\": \"carpet\"}], \"choropleth\": [{\"colorbar\": {\"outlinewidth\": 0, \"ticks\": \"\"}, \"type\": \"choropleth\"}], \"contour\": [{\"colorbar\": {\"outlinewidth\": 0, \"ticks\": \"\"}, \"colorscale\": [[0.0, \"#0d0887\"], [0.1111111111111111, \"#46039f\"], [0.2222222222222222, \"#7201a8\"], [0.3333333333333333, \"#9c179e\"], [0.4444444444444444, \"#bd3786\"], [0.5555555555555556, \"#d8576b\"], [0.6666666666666666, \"#ed7953\"], [0.7777777777777778, \"#fb9f3a\"], [0.8888888888888888, \"#fdca26\"], [1.0, \"#f0f921\"]], \"type\": \"contour\"}], \"contourcarpet\": [{\"colorbar\": {\"outlinewidth\": 0, \"ticks\": \"\"}, \"type\": \"contourcarpet\"}], \"heatmap\": [{\"colorbar\": {\"outlinewidth\": 0, \"ticks\": \"\"}, \"colorscale\": [[0.0, \"#0d0887\"], [0.1111111111111111, \"#46039f\"], [0.2222222222222222, \"#7201a8\"], [0.3333333333333333, \"#9c179e\"], [0.4444444444444444, \"#bd3786\"], [0.5555555555555556, \"#d8576b\"], [0.6666666666666666, \"#ed7953\"], [0.7777777777777778, \"#fb9f3a\"], [0.8888888888888888, \"#fdca26\"], [1.0, \"#f0f921\"]], \"type\": \"heatmap\"}], \"heatmapgl\": [{\"colorbar\": {\"outlinewidth\": 0, \"ticks\": \"\"}, \"colorscale\": [[0.0, \"#0d0887\"], [0.1111111111111111, \"#46039f\"], [0.2222222222222222, \"#7201a8\"], [0.3333333333333333, \"#9c179e\"], [0.4444444444444444, \"#bd3786\"], [0.5555555555555556, \"#d8576b\"], [0.6666666666666666, \"#ed7953\"], [0.7777777777777778, \"#fb9f3a\"], [0.8888888888888888, \"#fdca26\"], [1.0, \"#f0f921\"]], \"type\": \"heatmapgl\"}], \"histogram\": [{\"marker\": {\"colorbar\": {\"outlinewidth\": 0, \"ticks\": \"\"}}, \"type\": \"histogram\"}], \"histogram2d\": [{\"colorbar\": {\"outlinewidth\": 0, \"ticks\": \"\"}, \"colorscale\": [[0.0, \"#0d0887\"], [0.1111111111111111, \"#46039f\"], [0.2222222222222222, \"#7201a8\"], [0.3333333333333333, \"#9c179e\"], [0.4444444444444444, \"#bd3786\"], [0.5555555555555556, \"#d8576b\"], [0.6666666666666666, \"#ed7953\"], [0.7777777777777778, \"#fb9f3a\"], [0.8888888888888888, \"#fdca26\"], [1.0, \"#f0f921\"]], \"type\": \"histogram2d\"}], \"histogram2dcontour\": [{\"colorbar\": {\"outlinewidth\": 0, \"ticks\": \"\"}, \"colorscale\": [[0.0, \"#0d0887\"], [0.1111111111111111, \"#46039f\"], [0.2222222222222222, \"#7201a8\"], [0.3333333333333333, \"#9c179e\"], [0.4444444444444444, \"#bd3786\"], [0.5555555555555556, \"#d8576b\"], [0.6666666666666666, \"#ed7953\"], [0.7777777777777778, \"#fb9f3a\"], [0.8888888888888888, \"#fdca26\"], [1.0, \"#f0f921\"]], \"type\": \"histogram2dcontour\"}], \"mesh3d\": [{\"colorbar\": {\"outlinewidth\": 0, \"ticks\": \"\"}, \"type\": \"mesh3d\"}], \"parcoords\": [{\"line\": {\"colorbar\": {\"outlinewidth\": 0, \"ticks\": \"\"}}, \"type\": \"parcoords\"}], \"pie\": [{\"automargin\": true, \"type\": \"pie\"}], \"scatter\": [{\"marker\": {\"colorbar\": {\"outlinewidth\": 0, \"ticks\": \"\"}}, \"type\": \"scatter\"}], \"scatter3d\": [{\"line\": {\"colorbar\": {\"outlinewidth\": 0, \"ticks\": \"\"}}, \"marker\": {\"colorbar\": {\"outlinewidth\": 0, \"ticks\": \"\"}}, \"type\": \"scatter3d\"}], \"scattercarpet\": [{\"marker\": {\"colorbar\": {\"outlinewidth\": 0, \"ticks\": \"\"}}, \"type\": \"scattercarpet\"}], \"scattergeo\": [{\"marker\": {\"colorbar\": {\"outlinewidth\": 0, \"ticks\": \"\"}}, \"type\": \"scattergeo\"}], \"scattergl\": [{\"marker\": {\"colorbar\": {\"outlinewidth\": 0, \"ticks\": \"\"}}, \"type\": \"scattergl\"}], \"scattermapbox\": [{\"marker\": {\"colorbar\": {\"outlinewidth\": 0, \"ticks\": \"\"}}, \"type\": \"scattermapbox\"}], \"scatterpolar\": [{\"marker\": {\"colorbar\": {\"outlinewidth\": 0, \"ticks\": \"\"}}, \"type\": \"scatterpolar\"}], \"scatterpolargl\": [{\"marker\": {\"colorbar\": {\"outlinewidth\": 0, \"ticks\": \"\"}}, \"type\": \"scatterpolargl\"}], \"scatterternary\": [{\"marker\": {\"colorbar\": {\"outlinewidth\": 0, \"ticks\": \"\"}}, \"type\": \"scatterternary\"}], \"surface\": [{\"colorbar\": {\"outlinewidth\": 0, \"ticks\": \"\"}, \"colorscale\": [[0.0, \"#0d0887\"], [0.1111111111111111, \"#46039f\"], [0.2222222222222222, \"#7201a8\"], [0.3333333333333333, \"#9c179e\"], [0.4444444444444444, \"#bd3786\"], [0.5555555555555556, \"#d8576b\"], [0.6666666666666666, \"#ed7953\"], [0.7777777777777778, \"#fb9f3a\"], [0.8888888888888888, \"#fdca26\"], [1.0, \"#f0f921\"]], \"type\": \"surface\"}], \"table\": [{\"cells\": {\"fill\": {\"color\": \"#EBF0F8\"}, \"line\": {\"color\": \"white\"}}, \"header\": {\"fill\": {\"color\": \"#C8D4E3\"}, \"line\": {\"color\": \"white\"}}, \"type\": \"table\"}]}, \"layout\": {\"annotationdefaults\": {\"arrowcolor\": \"#2a3f5f\", \"arrowhead\": 0, \"arrowwidth\": 1}, \"coloraxis\": {\"colorbar\": {\"outlinewidth\": 0, \"ticks\": \"\"}}, \"colorscale\": {\"diverging\": [[0, \"#8e0152\"], [0.1, \"#c51b7d\"], [0.2, \"#de77ae\"], [0.3, \"#f1b6da\"], [0.4, \"#fde0ef\"], [0.5, \"#f7f7f7\"], [0.6, \"#e6f5d0\"], [0.7, \"#b8e186\"], [0.8, \"#7fbc41\"], [0.9, \"#4d9221\"], [1, \"#276419\"]], \"sequential\": [[0.0, \"#0d0887\"], [0.1111111111111111, \"#46039f\"], [0.2222222222222222, \"#7201a8\"], [0.3333333333333333, \"#9c179e\"], [0.4444444444444444, \"#bd3786\"], [0.5555555555555556, \"#d8576b\"], [0.6666666666666666, \"#ed7953\"], [0.7777777777777778, \"#fb9f3a\"], [0.8888888888888888, \"#fdca26\"], [1.0, \"#f0f921\"]], \"sequentialminus\": [[0.0, \"#0d0887\"], [0.1111111111111111, \"#46039f\"], [0.2222222222222222, \"#7201a8\"], [0.3333333333333333, \"#9c179e\"], [0.4444444444444444, \"#bd3786\"], [0.5555555555555556, \"#d8576b\"], [0.6666666666666666, \"#ed7953\"], [0.7777777777777778, \"#fb9f3a\"], [0.8888888888888888, \"#fdca26\"], [1.0, \"#f0f921\"]]}, \"colorway\": [\"#636efa\", \"#EF553B\", \"#00cc96\", \"#ab63fa\", \"#FFA15A\", \"#19d3f3\", \"#FF6692\", \"#B6E880\", \"#FF97FF\", \"#FECB52\"], \"font\": {\"color\": \"#2a3f5f\"}, \"geo\": {\"bgcolor\": \"white\", \"lakecolor\": \"white\", \"landcolor\": \"#E5ECF6\", \"showlakes\": true, \"showland\": true, \"subunitcolor\": \"white\"}, \"hoverlabel\": {\"align\": \"left\"}, \"hovermode\": \"closest\", \"mapbox\": {\"style\": \"light\"}, \"paper_bgcolor\": \"white\", \"plot_bgcolor\": \"#E5ECF6\", \"polar\": {\"angularaxis\": {\"gridcolor\": \"white\", \"linecolor\": \"white\", \"ticks\": \"\"}, \"bgcolor\": \"#E5ECF6\", \"radialaxis\": {\"gridcolor\": \"white\", \"linecolor\": \"white\", \"ticks\": \"\"}}, \"scene\": {\"xaxis\": {\"backgroundcolor\": \"#E5ECF6\", \"gridcolor\": \"white\", \"gridwidth\": 2, \"linecolor\": \"white\", \"showbackground\": true, \"ticks\": \"\", \"zerolinecolor\": \"white\"}, \"yaxis\": {\"backgroundcolor\": \"#E5ECF6\", \"gridcolor\": \"white\", \"gridwidth\": 2, \"linecolor\": \"white\", \"showbackground\": true, \"ticks\": \"\", \"zerolinecolor\": \"white\"}, \"zaxis\": {\"backgroundcolor\": \"#E5ECF6\", \"gridcolor\": \"white\", \"gridwidth\": 2, \"linecolor\": \"white\", \"showbackground\": true, \"ticks\": \"\", \"zerolinecolor\": \"white\"}}, \"shapedefaults\": {\"line\": {\"color\": \"#2a3f5f\"}}, \"ternary\": {\"aaxis\": {\"gridcolor\": \"white\", \"linecolor\": \"white\", \"ticks\": \"\"}, \"baxis\": {\"gridcolor\": \"white\", \"linecolor\": \"white\", \"ticks\": \"\"}, \"bgcolor\": \"#E5ECF6\", \"caxis\": {\"gridcolor\": \"white\", \"linecolor\": \"white\", \"ticks\": \"\"}}, \"title\": {\"x\": 0.05}, \"xaxis\": {\"automargin\": true, \"gridcolor\": \"white\", \"linecolor\": \"white\", \"ticks\": \"\", \"title\": {\"standoff\": 15}, \"zerolinecolor\": \"white\", \"zerolinewidth\": 2}, \"yaxis\": {\"automargin\": true, \"gridcolor\": \"white\", \"linecolor\": \"white\", \"ticks\": \"\", \"title\": {\"standoff\": 15}, \"zerolinecolor\": \"white\", \"zerolinewidth\": 2}}}, \"title\": {\"font\": {\"color\": \"#4D5663\"}, \"text\": \"Comparing Tweet is a real disaster (1) or not (0)\"}, \"xaxis\": {\"gridcolor\": \"#E1E5ED\", \"showgrid\": true, \"tickfont\": {\"color\": \"#4D5663\"}, \"title\": {\"font\": {\"color\": \"#4D5663\"}, \"text\": \"\"}, \"zerolinecolor\": \"#E1E5ED\"}, \"yaxis\": {\"gridcolor\": \"#E1E5ED\", \"showgrid\": true, \"tickfont\": {\"color\": \"#4D5663\"}, \"title\": {\"font\": {\"color\": \"#4D5663\"}, \"text\": \"\"}, \"zerolinecolor\": \"#E1E5ED\"}},\n",
       "                        {\"showLink\": true, \"linkText\": \"Export to plot.ly\", \"plotlyServerURL\": \"https://plot.ly\", \"responsive\": true}\n",
       "                    ).then(function(){\n",
       "                            \n",
       "var gd = document.getElementById('284e5b56-54d2-4728-9b88-b911ca664dac');\n",
       "var x = new MutationObserver(function (mutations, observer) {{\n",
       "        var display = window.getComputedStyle(gd).display;\n",
       "        if (!display || display === 'none') {{\n",
       "            console.log([gd, 'removed!']);\n",
       "            Plotly.purge(gd);\n",
       "            observer.disconnect();\n",
       "        }}\n",
       "}});\n",
       "\n",
       "// Listen for the removal of the full notebook cells\n",
       "var notebookContainer = gd.closest('#notebook-container');\n",
       "if (notebookContainer) {{\n",
       "    x.observe(notebookContainer, {childList: true});\n",
       "}}\n",
       "\n",
       "// Listen for the clearing of the current output cell\n",
       "var outputEl = gd.closest('.output');\n",
       "if (outputEl) {{\n",
       "    x.observe(outputEl, {childList: true});\n",
       "}}\n",
       "\n",
       "                        })\n",
       "                };\n",
       "                });\n",
       "            </script>\n",
       "        </div>"
      ]
     },
     "metadata": {},
     "output_type": "display_data"
    }
   ],
   "source": [
    "train.target.value_counts().iplot(kind='bar',text=['Fake', 'Real'], title='Comparing Tweet is a real disaster (1) or not (0)',color=['blue'])"
   ]
  },
  {
   "cell_type": "code",
   "execution_count": 18,
   "metadata": {
    "_kg_hide-input": true
   },
   "outputs": [
    {
     "data": {
      "application/vnd.plotly.v1+json": {
       "config": {
        "plotlyServerURL": "https://plot.ly"
       },
       "data": [
        {
         "hole": 0.3,
         "hoverinfo": "label+percent+value",
         "labels": [
          0,
          1
         ],
         "pull": [
          0.03,
          0
         ],
         "type": "pie",
         "values": [
          4342,
          3271
         ]
        }
       ],
       "layout": {
        "annotations": [
         {
          "font": {
           "size": 20
          },
          "showarrow": false,
          "text": "Train",
          "x": 0.5,
          "y": 0.5
         }
        ],
        "template": {
         "data": {
          "bar": [
           {
            "error_x": {
             "color": "#2a3f5f"
            },
            "error_y": {
             "color": "#2a3f5f"
            },
            "marker": {
             "line": {
              "color": "#E5ECF6",
              "width": 0.5
             }
            },
            "type": "bar"
           }
          ],
          "barpolar": [
           {
            "marker": {
             "line": {
              "color": "#E5ECF6",
              "width": 0.5
             }
            },
            "type": "barpolar"
           }
          ],
          "carpet": [
           {
            "aaxis": {
             "endlinecolor": "#2a3f5f",
             "gridcolor": "white",
             "linecolor": "white",
             "minorgridcolor": "white",
             "startlinecolor": "#2a3f5f"
            },
            "baxis": {
             "endlinecolor": "#2a3f5f",
             "gridcolor": "white",
             "linecolor": "white",
             "minorgridcolor": "white",
             "startlinecolor": "#2a3f5f"
            },
            "type": "carpet"
           }
          ],
          "choropleth": [
           {
            "colorbar": {
             "outlinewidth": 0,
             "ticks": ""
            },
            "type": "choropleth"
           }
          ],
          "contour": [
           {
            "colorbar": {
             "outlinewidth": 0,
             "ticks": ""
            },
            "colorscale": [
             [
              0,
              "#0d0887"
             ],
             [
              0.1111111111111111,
              "#46039f"
             ],
             [
              0.2222222222222222,
              "#7201a8"
             ],
             [
              0.3333333333333333,
              "#9c179e"
             ],
             [
              0.4444444444444444,
              "#bd3786"
             ],
             [
              0.5555555555555556,
              "#d8576b"
             ],
             [
              0.6666666666666666,
              "#ed7953"
             ],
             [
              0.7777777777777778,
              "#fb9f3a"
             ],
             [
              0.8888888888888888,
              "#fdca26"
             ],
             [
              1,
              "#f0f921"
             ]
            ],
            "type": "contour"
           }
          ],
          "contourcarpet": [
           {
            "colorbar": {
             "outlinewidth": 0,
             "ticks": ""
            },
            "type": "contourcarpet"
           }
          ],
          "heatmap": [
           {
            "colorbar": {
             "outlinewidth": 0,
             "ticks": ""
            },
            "colorscale": [
             [
              0,
              "#0d0887"
             ],
             [
              0.1111111111111111,
              "#46039f"
             ],
             [
              0.2222222222222222,
              "#7201a8"
             ],
             [
              0.3333333333333333,
              "#9c179e"
             ],
             [
              0.4444444444444444,
              "#bd3786"
             ],
             [
              0.5555555555555556,
              "#d8576b"
             ],
             [
              0.6666666666666666,
              "#ed7953"
             ],
             [
              0.7777777777777778,
              "#fb9f3a"
             ],
             [
              0.8888888888888888,
              "#fdca26"
             ],
             [
              1,
              "#f0f921"
             ]
            ],
            "type": "heatmap"
           }
          ],
          "heatmapgl": [
           {
            "colorbar": {
             "outlinewidth": 0,
             "ticks": ""
            },
            "colorscale": [
             [
              0,
              "#0d0887"
             ],
             [
              0.1111111111111111,
              "#46039f"
             ],
             [
              0.2222222222222222,
              "#7201a8"
             ],
             [
              0.3333333333333333,
              "#9c179e"
             ],
             [
              0.4444444444444444,
              "#bd3786"
             ],
             [
              0.5555555555555556,
              "#d8576b"
             ],
             [
              0.6666666666666666,
              "#ed7953"
             ],
             [
              0.7777777777777778,
              "#fb9f3a"
             ],
             [
              0.8888888888888888,
              "#fdca26"
             ],
             [
              1,
              "#f0f921"
             ]
            ],
            "type": "heatmapgl"
           }
          ],
          "histogram": [
           {
            "marker": {
             "colorbar": {
              "outlinewidth": 0,
              "ticks": ""
             }
            },
            "type": "histogram"
           }
          ],
          "histogram2d": [
           {
            "colorbar": {
             "outlinewidth": 0,
             "ticks": ""
            },
            "colorscale": [
             [
              0,
              "#0d0887"
             ],
             [
              0.1111111111111111,
              "#46039f"
             ],
             [
              0.2222222222222222,
              "#7201a8"
             ],
             [
              0.3333333333333333,
              "#9c179e"
             ],
             [
              0.4444444444444444,
              "#bd3786"
             ],
             [
              0.5555555555555556,
              "#d8576b"
             ],
             [
              0.6666666666666666,
              "#ed7953"
             ],
             [
              0.7777777777777778,
              "#fb9f3a"
             ],
             [
              0.8888888888888888,
              "#fdca26"
             ],
             [
              1,
              "#f0f921"
             ]
            ],
            "type": "histogram2d"
           }
          ],
          "histogram2dcontour": [
           {
            "colorbar": {
             "outlinewidth": 0,
             "ticks": ""
            },
            "colorscale": [
             [
              0,
              "#0d0887"
             ],
             [
              0.1111111111111111,
              "#46039f"
             ],
             [
              0.2222222222222222,
              "#7201a8"
             ],
             [
              0.3333333333333333,
              "#9c179e"
             ],
             [
              0.4444444444444444,
              "#bd3786"
             ],
             [
              0.5555555555555556,
              "#d8576b"
             ],
             [
              0.6666666666666666,
              "#ed7953"
             ],
             [
              0.7777777777777778,
              "#fb9f3a"
             ],
             [
              0.8888888888888888,
              "#fdca26"
             ],
             [
              1,
              "#f0f921"
             ]
            ],
            "type": "histogram2dcontour"
           }
          ],
          "mesh3d": [
           {
            "colorbar": {
             "outlinewidth": 0,
             "ticks": ""
            },
            "type": "mesh3d"
           }
          ],
          "parcoords": [
           {
            "line": {
             "colorbar": {
              "outlinewidth": 0,
              "ticks": ""
             }
            },
            "type": "parcoords"
           }
          ],
          "pie": [
           {
            "automargin": true,
            "type": "pie"
           }
          ],
          "scatter": [
           {
            "marker": {
             "colorbar": {
              "outlinewidth": 0,
              "ticks": ""
             }
            },
            "type": "scatter"
           }
          ],
          "scatter3d": [
           {
            "line": {
             "colorbar": {
              "outlinewidth": 0,
              "ticks": ""
             }
            },
            "marker": {
             "colorbar": {
              "outlinewidth": 0,
              "ticks": ""
             }
            },
            "type": "scatter3d"
           }
          ],
          "scattercarpet": [
           {
            "marker": {
             "colorbar": {
              "outlinewidth": 0,
              "ticks": ""
             }
            },
            "type": "scattercarpet"
           }
          ],
          "scattergeo": [
           {
            "marker": {
             "colorbar": {
              "outlinewidth": 0,
              "ticks": ""
             }
            },
            "type": "scattergeo"
           }
          ],
          "scattergl": [
           {
            "marker": {
             "colorbar": {
              "outlinewidth": 0,
              "ticks": ""
             }
            },
            "type": "scattergl"
           }
          ],
          "scattermapbox": [
           {
            "marker": {
             "colorbar": {
              "outlinewidth": 0,
              "ticks": ""
             }
            },
            "type": "scattermapbox"
           }
          ],
          "scatterpolar": [
           {
            "marker": {
             "colorbar": {
              "outlinewidth": 0,
              "ticks": ""
             }
            },
            "type": "scatterpolar"
           }
          ],
          "scatterpolargl": [
           {
            "marker": {
             "colorbar": {
              "outlinewidth": 0,
              "ticks": ""
             }
            },
            "type": "scatterpolargl"
           }
          ],
          "scatterternary": [
           {
            "marker": {
             "colorbar": {
              "outlinewidth": 0,
              "ticks": ""
             }
            },
            "type": "scatterternary"
           }
          ],
          "surface": [
           {
            "colorbar": {
             "outlinewidth": 0,
             "ticks": ""
            },
            "colorscale": [
             [
              0,
              "#0d0887"
             ],
             [
              0.1111111111111111,
              "#46039f"
             ],
             [
              0.2222222222222222,
              "#7201a8"
             ],
             [
              0.3333333333333333,
              "#9c179e"
             ],
             [
              0.4444444444444444,
              "#bd3786"
             ],
             [
              0.5555555555555556,
              "#d8576b"
             ],
             [
              0.6666666666666666,
              "#ed7953"
             ],
             [
              0.7777777777777778,
              "#fb9f3a"
             ],
             [
              0.8888888888888888,
              "#fdca26"
             ],
             [
              1,
              "#f0f921"
             ]
            ],
            "type": "surface"
           }
          ],
          "table": [
           {
            "cells": {
             "fill": {
              "color": "#EBF0F8"
             },
             "line": {
              "color": "white"
             }
            },
            "header": {
             "fill": {
              "color": "#C8D4E3"
             },
             "line": {
              "color": "white"
             }
            },
            "type": "table"
           }
          ]
         },
         "layout": {
          "annotationdefaults": {
           "arrowcolor": "#2a3f5f",
           "arrowhead": 0,
           "arrowwidth": 1
          },
          "coloraxis": {
           "colorbar": {
            "outlinewidth": 0,
            "ticks": ""
           }
          },
          "colorscale": {
           "diverging": [
            [
             0,
             "#8e0152"
            ],
            [
             0.1,
             "#c51b7d"
            ],
            [
             0.2,
             "#de77ae"
            ],
            [
             0.3,
             "#f1b6da"
            ],
            [
             0.4,
             "#fde0ef"
            ],
            [
             0.5,
             "#f7f7f7"
            ],
            [
             0.6,
             "#e6f5d0"
            ],
            [
             0.7,
             "#b8e186"
            ],
            [
             0.8,
             "#7fbc41"
            ],
            [
             0.9,
             "#4d9221"
            ],
            [
             1,
             "#276419"
            ]
           ],
           "sequential": [
            [
             0,
             "#0d0887"
            ],
            [
             0.1111111111111111,
             "#46039f"
            ],
            [
             0.2222222222222222,
             "#7201a8"
            ],
            [
             0.3333333333333333,
             "#9c179e"
            ],
            [
             0.4444444444444444,
             "#bd3786"
            ],
            [
             0.5555555555555556,
             "#d8576b"
            ],
            [
             0.6666666666666666,
             "#ed7953"
            ],
            [
             0.7777777777777778,
             "#fb9f3a"
            ],
            [
             0.8888888888888888,
             "#fdca26"
            ],
            [
             1,
             "#f0f921"
            ]
           ],
           "sequentialminus": [
            [
             0,
             "#0d0887"
            ],
            [
             0.1111111111111111,
             "#46039f"
            ],
            [
             0.2222222222222222,
             "#7201a8"
            ],
            [
             0.3333333333333333,
             "#9c179e"
            ],
            [
             0.4444444444444444,
             "#bd3786"
            ],
            [
             0.5555555555555556,
             "#d8576b"
            ],
            [
             0.6666666666666666,
             "#ed7953"
            ],
            [
             0.7777777777777778,
             "#fb9f3a"
            ],
            [
             0.8888888888888888,
             "#fdca26"
            ],
            [
             1,
             "#f0f921"
            ]
           ]
          },
          "colorway": [
           "#636efa",
           "#EF553B",
           "#00cc96",
           "#ab63fa",
           "#FFA15A",
           "#19d3f3",
           "#FF6692",
           "#B6E880",
           "#FF97FF",
           "#FECB52"
          ],
          "font": {
           "color": "#2a3f5f"
          },
          "geo": {
           "bgcolor": "white",
           "lakecolor": "white",
           "landcolor": "#E5ECF6",
           "showlakes": true,
           "showland": true,
           "subunitcolor": "white"
          },
          "hoverlabel": {
           "align": "left"
          },
          "hovermode": "closest",
          "mapbox": {
           "style": "light"
          },
          "paper_bgcolor": "white",
          "plot_bgcolor": "#E5ECF6",
          "polar": {
           "angularaxis": {
            "gridcolor": "white",
            "linecolor": "white",
            "ticks": ""
           },
           "bgcolor": "#E5ECF6",
           "radialaxis": {
            "gridcolor": "white",
            "linecolor": "white",
            "ticks": ""
           }
          },
          "scene": {
           "xaxis": {
            "backgroundcolor": "#E5ECF6",
            "gridcolor": "white",
            "gridwidth": 2,
            "linecolor": "white",
            "showbackground": true,
            "ticks": "",
            "zerolinecolor": "white"
           },
           "yaxis": {
            "backgroundcolor": "#E5ECF6",
            "gridcolor": "white",
            "gridwidth": 2,
            "linecolor": "white",
            "showbackground": true,
            "ticks": "",
            "zerolinecolor": "white"
           },
           "zaxis": {
            "backgroundcolor": "#E5ECF6",
            "gridcolor": "white",
            "gridwidth": 2,
            "linecolor": "white",
            "showbackground": true,
            "ticks": "",
            "zerolinecolor": "white"
           }
          },
          "shapedefaults": {
           "line": {
            "color": "#2a3f5f"
           }
          },
          "ternary": {
           "aaxis": {
            "gridcolor": "white",
            "linecolor": "white",
            "ticks": ""
           },
           "baxis": {
            "gridcolor": "white",
            "linecolor": "white",
            "ticks": ""
           },
           "bgcolor": "#E5ECF6",
           "caxis": {
            "gridcolor": "white",
            "linecolor": "white",
            "ticks": ""
           }
          },
          "title": {
           "x": 0.05
          },
          "xaxis": {
           "automargin": true,
           "gridcolor": "white",
           "linecolor": "white",
           "ticks": "",
           "title": {
            "standoff": 15
           },
           "zerolinecolor": "white",
           "zerolinewidth": 2
          },
          "yaxis": {
           "automargin": true,
           "gridcolor": "white",
           "linecolor": "white",
           "ticks": "",
           "title": {
            "standoff": 15
           },
           "zerolinecolor": "white",
           "zerolinewidth": 2
          }
         }
        },
        "title": {
         "text": "Comparing Tweet is a real disaster (1) or not (0) in %"
        }
       }
      },
      "text/html": [
       "<div>\n",
       "        \n",
       "        \n",
       "            <div id=\"d3381b8f-2580-4119-82ac-e102b71e84d4\" class=\"plotly-graph-div\" style=\"height:525px; width:100%;\"></div>\n",
       "            <script type=\"text/javascript\">\n",
       "                require([\"plotly\"], function(Plotly) {\n",
       "                    window.PLOTLYENV=window.PLOTLYENV || {};\n",
       "                    \n",
       "                if (document.getElementById(\"d3381b8f-2580-4119-82ac-e102b71e84d4\")) {\n",
       "                    Plotly.newPlot(\n",
       "                        'd3381b8f-2580-4119-82ac-e102b71e84d4',\n",
       "                        [{\"hole\": 0.3, \"hoverinfo\": \"label+percent+value\", \"labels\": [0, 1], \"pull\": [0.03, 0], \"type\": \"pie\", \"values\": [4342, 3271]}],\n",
       "                        {\"annotations\": [{\"font\": {\"size\": 20}, \"showarrow\": false, \"text\": \"Train\", \"x\": 0.5, \"y\": 0.5}], \"template\": {\"data\": {\"bar\": [{\"error_x\": {\"color\": \"#2a3f5f\"}, \"error_y\": {\"color\": \"#2a3f5f\"}, \"marker\": {\"line\": {\"color\": \"#E5ECF6\", \"width\": 0.5}}, \"type\": \"bar\"}], \"barpolar\": [{\"marker\": {\"line\": {\"color\": \"#E5ECF6\", \"width\": 0.5}}, \"type\": \"barpolar\"}], \"carpet\": [{\"aaxis\": {\"endlinecolor\": \"#2a3f5f\", \"gridcolor\": \"white\", \"linecolor\": \"white\", \"minorgridcolor\": \"white\", \"startlinecolor\": \"#2a3f5f\"}, \"baxis\": {\"endlinecolor\": \"#2a3f5f\", \"gridcolor\": \"white\", \"linecolor\": \"white\", \"minorgridcolor\": \"white\", \"startlinecolor\": \"#2a3f5f\"}, \"type\": \"carpet\"}], \"choropleth\": [{\"colorbar\": {\"outlinewidth\": 0, \"ticks\": \"\"}, \"type\": \"choropleth\"}], \"contour\": [{\"colorbar\": {\"outlinewidth\": 0, \"ticks\": \"\"}, \"colorscale\": [[0.0, \"#0d0887\"], [0.1111111111111111, \"#46039f\"], [0.2222222222222222, \"#7201a8\"], [0.3333333333333333, \"#9c179e\"], [0.4444444444444444, \"#bd3786\"], [0.5555555555555556, \"#d8576b\"], [0.6666666666666666, \"#ed7953\"], [0.7777777777777778, \"#fb9f3a\"], [0.8888888888888888, \"#fdca26\"], [1.0, \"#f0f921\"]], \"type\": \"contour\"}], \"contourcarpet\": [{\"colorbar\": {\"outlinewidth\": 0, \"ticks\": \"\"}, \"type\": \"contourcarpet\"}], \"heatmap\": [{\"colorbar\": {\"outlinewidth\": 0, \"ticks\": \"\"}, \"colorscale\": [[0.0, \"#0d0887\"], [0.1111111111111111, \"#46039f\"], [0.2222222222222222, \"#7201a8\"], [0.3333333333333333, \"#9c179e\"], [0.4444444444444444, \"#bd3786\"], [0.5555555555555556, \"#d8576b\"], [0.6666666666666666, \"#ed7953\"], [0.7777777777777778, \"#fb9f3a\"], [0.8888888888888888, \"#fdca26\"], [1.0, \"#f0f921\"]], \"type\": \"heatmap\"}], \"heatmapgl\": [{\"colorbar\": {\"outlinewidth\": 0, \"ticks\": \"\"}, \"colorscale\": [[0.0, \"#0d0887\"], [0.1111111111111111, \"#46039f\"], [0.2222222222222222, \"#7201a8\"], [0.3333333333333333, \"#9c179e\"], [0.4444444444444444, \"#bd3786\"], [0.5555555555555556, \"#d8576b\"], [0.6666666666666666, \"#ed7953\"], [0.7777777777777778, \"#fb9f3a\"], [0.8888888888888888, \"#fdca26\"], [1.0, \"#f0f921\"]], \"type\": \"heatmapgl\"}], \"histogram\": [{\"marker\": {\"colorbar\": {\"outlinewidth\": 0, \"ticks\": \"\"}}, \"type\": \"histogram\"}], \"histogram2d\": [{\"colorbar\": {\"outlinewidth\": 0, \"ticks\": \"\"}, \"colorscale\": [[0.0, \"#0d0887\"], [0.1111111111111111, \"#46039f\"], [0.2222222222222222, \"#7201a8\"], [0.3333333333333333, \"#9c179e\"], [0.4444444444444444, \"#bd3786\"], [0.5555555555555556, \"#d8576b\"], [0.6666666666666666, \"#ed7953\"], [0.7777777777777778, \"#fb9f3a\"], [0.8888888888888888, \"#fdca26\"], [1.0, \"#f0f921\"]], \"type\": \"histogram2d\"}], \"histogram2dcontour\": [{\"colorbar\": {\"outlinewidth\": 0, \"ticks\": \"\"}, \"colorscale\": [[0.0, \"#0d0887\"], [0.1111111111111111, \"#46039f\"], [0.2222222222222222, \"#7201a8\"], [0.3333333333333333, \"#9c179e\"], [0.4444444444444444, \"#bd3786\"], [0.5555555555555556, \"#d8576b\"], [0.6666666666666666, \"#ed7953\"], [0.7777777777777778, \"#fb9f3a\"], [0.8888888888888888, \"#fdca26\"], [1.0, \"#f0f921\"]], \"type\": \"histogram2dcontour\"}], \"mesh3d\": [{\"colorbar\": {\"outlinewidth\": 0, \"ticks\": \"\"}, \"type\": \"mesh3d\"}], \"parcoords\": [{\"line\": {\"colorbar\": {\"outlinewidth\": 0, \"ticks\": \"\"}}, \"type\": \"parcoords\"}], \"pie\": [{\"automargin\": true, \"type\": \"pie\"}], \"scatter\": [{\"marker\": {\"colorbar\": {\"outlinewidth\": 0, \"ticks\": \"\"}}, \"type\": \"scatter\"}], \"scatter3d\": [{\"line\": {\"colorbar\": {\"outlinewidth\": 0, \"ticks\": \"\"}}, \"marker\": {\"colorbar\": {\"outlinewidth\": 0, \"ticks\": \"\"}}, \"type\": \"scatter3d\"}], \"scattercarpet\": [{\"marker\": {\"colorbar\": {\"outlinewidth\": 0, \"ticks\": \"\"}}, \"type\": \"scattercarpet\"}], \"scattergeo\": [{\"marker\": {\"colorbar\": {\"outlinewidth\": 0, \"ticks\": \"\"}}, \"type\": \"scattergeo\"}], \"scattergl\": [{\"marker\": {\"colorbar\": {\"outlinewidth\": 0, \"ticks\": \"\"}}, \"type\": \"scattergl\"}], \"scattermapbox\": [{\"marker\": {\"colorbar\": {\"outlinewidth\": 0, \"ticks\": \"\"}}, \"type\": \"scattermapbox\"}], \"scatterpolar\": [{\"marker\": {\"colorbar\": {\"outlinewidth\": 0, \"ticks\": \"\"}}, \"type\": \"scatterpolar\"}], \"scatterpolargl\": [{\"marker\": {\"colorbar\": {\"outlinewidth\": 0, \"ticks\": \"\"}}, \"type\": \"scatterpolargl\"}], \"scatterternary\": [{\"marker\": {\"colorbar\": {\"outlinewidth\": 0, \"ticks\": \"\"}}, \"type\": \"scatterternary\"}], \"surface\": [{\"colorbar\": {\"outlinewidth\": 0, \"ticks\": \"\"}, \"colorscale\": [[0.0, \"#0d0887\"], [0.1111111111111111, \"#46039f\"], [0.2222222222222222, \"#7201a8\"], [0.3333333333333333, \"#9c179e\"], [0.4444444444444444, \"#bd3786\"], [0.5555555555555556, \"#d8576b\"], [0.6666666666666666, \"#ed7953\"], [0.7777777777777778, \"#fb9f3a\"], [0.8888888888888888, \"#fdca26\"], [1.0, \"#f0f921\"]], \"type\": \"surface\"}], \"table\": [{\"cells\": {\"fill\": {\"color\": \"#EBF0F8\"}, \"line\": {\"color\": \"white\"}}, \"header\": {\"fill\": {\"color\": \"#C8D4E3\"}, \"line\": {\"color\": \"white\"}}, \"type\": \"table\"}]}, \"layout\": {\"annotationdefaults\": {\"arrowcolor\": \"#2a3f5f\", \"arrowhead\": 0, \"arrowwidth\": 1}, \"coloraxis\": {\"colorbar\": {\"outlinewidth\": 0, \"ticks\": \"\"}}, \"colorscale\": {\"diverging\": [[0, \"#8e0152\"], [0.1, \"#c51b7d\"], [0.2, \"#de77ae\"], [0.3, \"#f1b6da\"], [0.4, \"#fde0ef\"], [0.5, \"#f7f7f7\"], [0.6, \"#e6f5d0\"], [0.7, \"#b8e186\"], [0.8, \"#7fbc41\"], [0.9, \"#4d9221\"], [1, \"#276419\"]], \"sequential\": [[0.0, \"#0d0887\"], [0.1111111111111111, \"#46039f\"], [0.2222222222222222, \"#7201a8\"], [0.3333333333333333, \"#9c179e\"], [0.4444444444444444, \"#bd3786\"], [0.5555555555555556, \"#d8576b\"], [0.6666666666666666, \"#ed7953\"], [0.7777777777777778, \"#fb9f3a\"], [0.8888888888888888, \"#fdca26\"], [1.0, \"#f0f921\"]], \"sequentialminus\": [[0.0, \"#0d0887\"], [0.1111111111111111, \"#46039f\"], [0.2222222222222222, \"#7201a8\"], [0.3333333333333333, \"#9c179e\"], [0.4444444444444444, \"#bd3786\"], [0.5555555555555556, \"#d8576b\"], [0.6666666666666666, \"#ed7953\"], [0.7777777777777778, \"#fb9f3a\"], [0.8888888888888888, \"#fdca26\"], [1.0, \"#f0f921\"]]}, \"colorway\": [\"#636efa\", \"#EF553B\", \"#00cc96\", \"#ab63fa\", \"#FFA15A\", \"#19d3f3\", \"#FF6692\", \"#B6E880\", \"#FF97FF\", \"#FECB52\"], \"font\": {\"color\": \"#2a3f5f\"}, \"geo\": {\"bgcolor\": \"white\", \"lakecolor\": \"white\", \"landcolor\": \"#E5ECF6\", \"showlakes\": true, \"showland\": true, \"subunitcolor\": \"white\"}, \"hoverlabel\": {\"align\": \"left\"}, \"hovermode\": \"closest\", \"mapbox\": {\"style\": \"light\"}, \"paper_bgcolor\": \"white\", \"plot_bgcolor\": \"#E5ECF6\", \"polar\": {\"angularaxis\": {\"gridcolor\": \"white\", \"linecolor\": \"white\", \"ticks\": \"\"}, \"bgcolor\": \"#E5ECF6\", \"radialaxis\": {\"gridcolor\": \"white\", \"linecolor\": \"white\", \"ticks\": \"\"}}, \"scene\": {\"xaxis\": {\"backgroundcolor\": \"#E5ECF6\", \"gridcolor\": \"white\", \"gridwidth\": 2, \"linecolor\": \"white\", \"showbackground\": true, \"ticks\": \"\", \"zerolinecolor\": \"white\"}, \"yaxis\": {\"backgroundcolor\": \"#E5ECF6\", \"gridcolor\": \"white\", \"gridwidth\": 2, \"linecolor\": \"white\", \"showbackground\": true, \"ticks\": \"\", \"zerolinecolor\": \"white\"}, \"zaxis\": {\"backgroundcolor\": \"#E5ECF6\", \"gridcolor\": \"white\", \"gridwidth\": 2, \"linecolor\": \"white\", \"showbackground\": true, \"ticks\": \"\", \"zerolinecolor\": \"white\"}}, \"shapedefaults\": {\"line\": {\"color\": \"#2a3f5f\"}}, \"ternary\": {\"aaxis\": {\"gridcolor\": \"white\", \"linecolor\": \"white\", \"ticks\": \"\"}, \"baxis\": {\"gridcolor\": \"white\", \"linecolor\": \"white\", \"ticks\": \"\"}, \"bgcolor\": \"#E5ECF6\", \"caxis\": {\"gridcolor\": \"white\", \"linecolor\": \"white\", \"ticks\": \"\"}}, \"title\": {\"x\": 0.05}, \"xaxis\": {\"automargin\": true, \"gridcolor\": \"white\", \"linecolor\": \"white\", \"ticks\": \"\", \"title\": {\"standoff\": 15}, \"zerolinecolor\": \"white\", \"zerolinewidth\": 2}, \"yaxis\": {\"automargin\": true, \"gridcolor\": \"white\", \"linecolor\": \"white\", \"ticks\": \"\", \"title\": {\"standoff\": 15}, \"zerolinecolor\": \"white\", \"zerolinewidth\": 2}}}, \"title\": {\"text\": \"Comparing Tweet is a real disaster (1) or not (0) in %\"}},\n",
       "                        {\"responsive\": true}\n",
       "                    ).then(function(){\n",
       "                            \n",
       "var gd = document.getElementById('d3381b8f-2580-4119-82ac-e102b71e84d4');\n",
       "var x = new MutationObserver(function (mutations, observer) {{\n",
       "        var display = window.getComputedStyle(gd).display;\n",
       "        if (!display || display === 'none') {{\n",
       "            console.log([gd, 'removed!']);\n",
       "            Plotly.purge(gd);\n",
       "            observer.disconnect();\n",
       "        }}\n",
       "}});\n",
       "\n",
       "// Listen for the removal of the full notebook cells\n",
       "var notebookContainer = gd.closest('#notebook-container');\n",
       "if (notebookContainer) {{\n",
       "    x.observe(notebookContainer, {childList: true});\n",
       "}}\n",
       "\n",
       "// Listen for the clearing of the current output cell\n",
       "var outputEl = gd.closest('.output');\n",
       "if (outputEl) {{\n",
       "    x.observe(outputEl, {childList: true});\n",
       "}}\n",
       "\n",
       "                        })\n",
       "                };\n",
       "                });\n",
       "            </script>\n",
       "        </div>"
      ]
     },
     "metadata": {},
     "output_type": "display_data"
    }
   ],
   "source": [
    "counts_train = train.target.value_counts(sort=False)\n",
    "labels = counts_train.index\n",
    "values_train = counts_train.values\n",
    "\n",
    "data = go.Pie(labels=labels, values=values_train ,pull=[0.03, 0])\n",
    "layout = go.Layout(title='Comparing Tweet is a real disaster (1) or not (0) in %')\n",
    "\n",
    "fig = go.Figure(data=[data], layout=layout)\n",
    "fig.update_traces(hole=.3, hoverinfo=\"label+percent+value\")\n",
    "fig.update_layout(\n",
    "    # Add annotations in the center of the donut pies.\n",
    "    annotations=[dict(text='Train', x=0.5, y=0.5, font_size=20, showarrow=False)])\n",
    "fig.show()"
   ]
  },
  {
   "cell_type": "code",
   "execution_count": 19,
   "metadata": {},
   "outputs": [],
   "source": [
    "train['length'] = train['text'].apply(len)"
   ]
  },
  {
   "cell_type": "code",
   "execution_count": 21,
   "metadata": {
    "_kg_hide-input": true
   },
   "outputs": [
    {
     "data": {
      "application/vnd.plotly.v1+json": {
       "config": {
        "plotlyServerURL": "https://plot.ly"
       },
       "data": [
        {
         "name": "Fake",
         "type": "box",
         "y": [
          14,
          13,
          16,
          17,
          28,
          22,
          17,
          11,
          21,
          8,
          30,
          21,
          18,
          9,
          18,
          8,
          67,
          34,
          76,
          122,
          22,
          114,
          61,
          120,
          44,
          92,
          96,
          63,
          114,
          138,
          134,
          130,
          124,
          119,
          85,
          135,
          98,
          80,
          85,
          140,
          129,
          139,
          90,
          67,
          142,
          80,
          46,
          138,
          53,
          139,
          49,
          110,
          138,
          73,
          138,
          53,
          125,
          69,
          83,
          60,
          109,
          34,
          138,
          138,
          138,
          54,
          138,
          138,
          139,
          123,
          136,
          72,
          130,
          128,
          132,
          110,
          135,
          61,
          27,
          34,
          114,
          101,
          78,
          136,
          80,
          71,
          126,
          68,
          104,
          85,
          103,
          89,
          72,
          34,
          83,
          103,
          121,
          109,
          103,
          103,
          133,
          47,
          102,
          97,
          64,
          120,
          69,
          101,
          110,
          43,
          110,
          127,
          105,
          82,
          90,
          24,
          94,
          89,
          125,
          123,
          86,
          78,
          140,
          122,
          73,
          139,
          133,
          136,
          138,
          46,
          115,
          62,
          138,
          123,
          139,
          118,
          138,
          84,
          92,
          139,
          124,
          148,
          144,
          140,
          139,
          139,
          95,
          87,
          139,
          46,
          49,
          126,
          17,
          99,
          120,
          36,
          65,
          25,
          142,
          139,
          133,
          142,
          73,
          88,
          97,
          82,
          134,
          140,
          114,
          70,
          138,
          133,
          91,
          94,
          120,
          35,
          65,
          65,
          116,
          78,
          133,
          78,
          132,
          110,
          125,
          133,
          96,
          103,
          120,
          27,
          140,
          135,
          131,
          107,
          107,
          139,
          134,
          81,
          44,
          126,
          41,
          136,
          141,
          63,
          102,
          136,
          138,
          122,
          83,
          89,
          103,
          98,
          89,
          89,
          103,
          102,
          127,
          107,
          73,
          139,
          103,
          140,
          103,
          89,
          103,
          84,
          97,
          138,
          137,
          89,
          88,
          89,
          88,
          139,
          137,
          137,
          103,
          97,
          117,
          31,
          18,
          107,
          58,
          139,
          101,
          23,
          127,
          107,
          80,
          97,
          59,
          21,
          98,
          27,
          64,
          136,
          139,
          46,
          118,
          39,
          61,
          136,
          24,
          98,
          21,
          56,
          79,
          107,
          46,
          60,
          35,
          48,
          136,
          120,
          100,
          63,
          90,
          95,
          69,
          137,
          45,
          133,
          77,
          56,
          17,
          40,
          127,
          28,
          47,
          122,
          133,
          67,
          42,
          130,
          136,
          89,
          133,
          80,
          53,
          112,
          92,
          34,
          125,
          102,
          60,
          131,
          126,
          117,
          131,
          99,
          114,
          96,
          131,
          117,
          121,
          116,
          138,
          106,
          128,
          73,
          49,
          79,
          81,
          114,
          52,
          97,
          120,
          133,
          138,
          84,
          136,
          138,
          49,
          75,
          44,
          88,
          88,
          79,
          30,
          137,
          54,
          44,
          126,
          106,
          138,
          123,
          83,
          138,
          104,
          95,
          139,
          112,
          135,
          106,
          107,
          107,
          83,
          138,
          84,
          98,
          140,
          141,
          136,
          124,
          26,
          136,
          140,
          129,
          26,
          139,
          23,
          44,
          92,
          131,
          38,
          22,
          120,
          137,
          47,
          40,
          80,
          19,
          92,
          125,
          140,
          39,
          77,
          125,
          75,
          38,
          61,
          118,
          118,
          59,
          93,
          100,
          93,
          76,
          125,
          110,
          29,
          33,
          140,
          76,
          91,
          135,
          139,
          139,
          68,
          120,
          86,
          141,
          41,
          70,
          105,
          79,
          127,
          95,
          43,
          129,
          121,
          123,
          56,
          18,
          95,
          37,
          139,
          96,
          104,
          32,
          96,
          139,
          136,
          139,
          79,
          85,
          81,
          64,
          62,
          127,
          59,
          97,
          132,
          86,
          78,
          96,
          44,
          39,
          58,
          121,
          45,
          57,
          43,
          67,
          90,
          139,
          76,
          59,
          55,
          68,
          115,
          110,
          35,
          32,
          55,
          80,
          46,
          50,
          72,
          51,
          99,
          91,
          134,
          112,
          138,
          118,
          52,
          54,
          73,
          125,
          26,
          35,
          116,
          143,
          59,
          117,
          22,
          91,
          37,
          31,
          75,
          87,
          140,
          54,
          26,
          26,
          126,
          86,
          136,
          139,
          19,
          12,
          140,
          87,
          84,
          89,
          115,
          95,
          139,
          49,
          138,
          114,
          119,
          59,
          41,
          62,
          68,
          117,
          106,
          51,
          139,
          130,
          130,
          126,
          138,
          64,
          34,
          125,
          49,
          111,
          38,
          137,
          139,
          71,
          28,
          117,
          20,
          61,
          48,
          51,
          65,
          72,
          140,
          100,
          55,
          41,
          65,
          33,
          73,
          34,
          68,
          34,
          32,
          41,
          88,
          66,
          74,
          68,
          132,
          24,
          14,
          62,
          86,
          122,
          134,
          108,
          92,
          31,
          73,
          120,
          121,
          74,
          54,
          65,
          94,
          114,
          37,
          32,
          53,
          99,
          58,
          74,
          23,
          97,
          118,
          26,
          88,
          119,
          35,
          128,
          70,
          46,
          33,
          121,
          90,
          68,
          88,
          79,
          144,
          49,
          97,
          95,
          121,
          140,
          15,
          37,
          144,
          123,
          93,
          118,
          55,
          138,
          53,
          58,
          134,
          42,
          67,
          105,
          80,
          122,
          112,
          85,
          127,
          121,
          139,
          46,
          20,
          32,
          122,
          65,
          46,
          129,
          134,
          129,
          110,
          97,
          142,
          121,
          137,
          101,
          82,
          120,
          113,
          131,
          138,
          35,
          66,
          30,
          92,
          136,
          139,
          139,
          138,
          114,
          137,
          133,
          133,
          108,
          115,
          137,
          139,
          97,
          139,
          136,
          139,
          139,
          116,
          129,
          97,
          139,
          133,
          139,
          55,
          139,
          130,
          139,
          139,
          133,
          129,
          48,
          139,
          123,
          101,
          68,
          33,
          122,
          138,
          86,
          85,
          51,
          48,
          132,
          86,
          82,
          104,
          71,
          84,
          113,
          77,
          85,
          138,
          132,
          139,
          123,
          56,
          101,
          139,
          60,
          45,
          72,
          132,
          83,
          121,
          99,
          38,
          81,
          100,
          119,
          34,
          116,
          136,
          99,
          132,
          126,
          121,
          36,
          83,
          139,
          114,
          18,
          114,
          144,
          120,
          125,
          39,
          66,
          122,
          138,
          66,
          56,
          35,
          132,
          138,
          132,
          124,
          35,
          138,
          108,
          144,
          125,
          125,
          138,
          70,
          35,
          37,
          78,
          64,
          87,
          45,
          107,
          49,
          35,
          45,
          57,
          43,
          35,
          88,
          137,
          44,
          138,
          37,
          82,
          55,
          40,
          130,
          138,
          43,
          96,
          77,
          140,
          135,
          126,
          67,
          113,
          86,
          73,
          31,
          31,
          63,
          54,
          105,
          136,
          136,
          138,
          140,
          105,
          87,
          47,
          131,
          93,
          69,
          129,
          86,
          82,
          97,
          117,
          64,
          122,
          94,
          135,
          140,
          139,
          124,
          79,
          136,
          138,
          19,
          39,
          157,
          132,
          132,
          136,
          70,
          113,
          41,
          75,
          63,
          44,
          139,
          85,
          83,
          52,
          111,
          95,
          112,
          61,
          103,
          52,
          50,
          87,
          106,
          140,
          114,
          135,
          59,
          72,
          138,
          89,
          57,
          124,
          136,
          93,
          86,
          75,
          47,
          115,
          40,
          112,
          94,
          133,
          102,
          140,
          84,
          93,
          140,
          95,
          118,
          140,
          131,
          132,
          111,
          125,
          129,
          115,
          139,
          113,
          96,
          116,
          130,
          130,
          126,
          112,
          112,
          127,
          130,
          108,
          135,
          138,
          103,
          110,
          58,
          60,
          139,
          126,
          116,
          131,
          36,
          137,
          88,
          107,
          117,
          36,
          123,
          62,
          31,
          97,
          32,
          111,
          45,
          87,
          136,
          139,
          122,
          105,
          140,
          50,
          140,
          133,
          128,
          99,
          21,
          93,
          106,
          140,
          102,
          86,
          136,
          133,
          74,
          74,
          98,
          118,
          138,
          135,
          74,
          128,
          87,
          77,
          112,
          143,
          123,
          135,
          62,
          135,
          136,
          126,
          136,
          114,
          107,
          140,
          124,
          138,
          138,
          138,
          139,
          138,
          88,
          138,
          114,
          107,
          137,
          102,
          136,
          138,
          111,
          143,
          135,
          107,
          121,
          68,
          58,
          132,
          136,
          46,
          60,
          46,
          98,
          79,
          34,
          114,
          29,
          140,
          124,
          64,
          27,
          59,
          98,
          60,
          72,
          131,
          77,
          86,
          108,
          131,
          137,
          137,
          70,
          100,
          90,
          127,
          111,
          96,
          135,
          92,
          98,
          88,
          96,
          73,
          113,
          133,
          136,
          76,
          83,
          129,
          132,
          135,
          138,
          138,
          139,
          85,
          135,
          89,
          46,
          109,
          44,
          128,
          136,
          128,
          130,
          44,
          123,
          143,
          93,
          69,
          46,
          73,
          18,
          133,
          110,
          53,
          80,
          113,
          45,
          117,
          138,
          130,
          55,
          42,
          98,
          63,
          59,
          128,
          52,
          125,
          129,
          130,
          52,
          83,
          140,
          93,
          108,
          137,
          117,
          113,
          108,
          102,
          57,
          88,
          120,
          139,
          138,
          91,
          120,
          136,
          127,
          123,
          75,
          130,
          141,
          25,
          64,
          137,
          138,
          125,
          132,
          90,
          61,
          135,
          93,
          82,
          88,
          64,
          75,
          63,
          137,
          136,
          53,
          108,
          124,
          78,
          104,
          57,
          109,
          45,
          33,
          122,
          73,
          131,
          142,
          116,
          114,
          80,
          109,
          45,
          66,
          108,
          79,
          104,
          61,
          95,
          37,
          119,
          110,
          37,
          128,
          101,
          95,
          132,
          80,
          105,
          53,
          62,
          101,
          39,
          108,
          64,
          47,
          27,
          52,
          73,
          45,
          50,
          43,
          99,
          45,
          75,
          137,
          58,
          82,
          69,
          42,
          73,
          81,
          77,
          78,
          51,
          77,
          84,
          105,
          64,
          66,
          27,
          7,
          35,
          26,
          41,
          35,
          119,
          125,
          19,
          46,
          39,
          88,
          96,
          121,
          90,
          54,
          104,
          33,
          37,
          96,
          73,
          105,
          52,
          128,
          140,
          55,
          75,
          137,
          79,
          32,
          33,
          142,
          97,
          88,
          43,
          49,
          63,
          142,
          65,
          44,
          104,
          41,
          43,
          74,
          42,
          139,
          88,
          58,
          111,
          139,
          130,
          142,
          127,
          48,
          27,
          98,
          40,
          132,
          70,
          68,
          60,
          142,
          139,
          136,
          106,
          52,
          117,
          57,
          140,
          78,
          71,
          123,
          127,
          106,
          38,
          129,
          99,
          52,
          139,
          55,
          56,
          62,
          82,
          140,
          71,
          127,
          135,
          133,
          26,
          91,
          140,
          122,
          135,
          34,
          58,
          146,
          133,
          44,
          136,
          140,
          131,
          125,
          113,
          116,
          139,
          67,
          136,
          47,
          104,
          63,
          138,
          134,
          115,
          111,
          97,
          109,
          88,
          102,
          115,
          43,
          95,
          141,
          138,
          56,
          131,
          69,
          139,
          68,
          101,
          80,
          34,
          84,
          141,
          122,
          41,
          44,
          132,
          140,
          92,
          66,
          41,
          142,
          76,
          24,
          100,
          83,
          140,
          120,
          35,
          50,
          108,
          80,
          136,
          17,
          87,
          118,
          97,
          96,
          70,
          24,
          99,
          70,
          51,
          139,
          39,
          109,
          112,
          81,
          44,
          110,
          77,
          49,
          32,
          144,
          138,
          133,
          139,
          62,
          130,
          31,
          138,
          138,
          144,
          92,
          130,
          84,
          72,
          94,
          138,
          46,
          138,
          107,
          85,
          136,
          124,
          63,
          102,
          133,
          112,
          130,
          121,
          57,
          97,
          105,
          140,
          89,
          80,
          137,
          119,
          75,
          39,
          140,
          140,
          134,
          143,
          136,
          135,
          87,
          141,
          132,
          139,
          87,
          88,
          132,
          132,
          137,
          132,
          132,
          132,
          139,
          101,
          108,
          132,
          132,
          132,
          136,
          99,
          132,
          132,
          100,
          136,
          105,
          136,
          141,
          101,
          136,
          135,
          46,
          79,
          105,
          85,
          121,
          56,
          59,
          36,
          117,
          131,
          138,
          53,
          85,
          56,
          83,
          137,
          132,
          131,
          138,
          139,
          113,
          148,
          83,
          92,
          33,
          69,
          137,
          79,
          135,
          43,
          53,
          138,
          60,
          89,
          29,
          138,
          69,
          139,
          86,
          138,
          75,
          51,
          63,
          117,
          73,
          138,
          56,
          88,
          129,
          58,
          107,
          114,
          64,
          137,
          43,
          35,
          131,
          91,
          137,
          139,
          124,
          77,
          108,
          68,
          131,
          99,
          138,
          103,
          85,
          118,
          140,
          136,
          141,
          140,
          104,
          146,
          112,
          142,
          140,
          132,
          134,
          62,
          83,
          140,
          140,
          136,
          114,
          121,
          133,
          91,
          81,
          140,
          129,
          135,
          35,
          115,
          107,
          73,
          130,
          110,
          117,
          138,
          83,
          126,
          85,
          114,
          92,
          73,
          124,
          133,
          132,
          109,
          117,
          13,
          65,
          111,
          131,
          137,
          69,
          111,
          90,
          100,
          131,
          139,
          103,
          85,
          109,
          139,
          124,
          65,
          120,
          72,
          95,
          104,
          140,
          108,
          121,
          138,
          136,
          89,
          124,
          131,
          115,
          137,
          83,
          74,
          112,
          34,
          132,
          129,
          42,
          102,
          139,
          79,
          68,
          114,
          130,
          137,
          96,
          100,
          73,
          120,
          128,
          45,
          98,
          119,
          124,
          97,
          80,
          66,
          17,
          46,
          143,
          121,
          78,
          25,
          135,
          126,
          139,
          78,
          96,
          106,
          137,
          130,
          26,
          37,
          94,
          106,
          106,
          134,
          106,
          86,
          34,
          113,
          84,
          120,
          106,
          129,
          116,
          105,
          125,
          111,
          106,
          116,
          136,
          64,
          137,
          136,
          92,
          140,
          67,
          102,
          86,
          47,
          134,
          55,
          108,
          136,
          73,
          84,
          62,
          136,
          61,
          110,
          136,
          39,
          51,
          138,
          114,
          38,
          51,
          99,
          59,
          91,
          101,
          58,
          101,
          60,
          78,
          97,
          58,
          87,
          32,
          64,
          99,
          99,
          62,
          73,
          55,
          82,
          108,
          134,
          101,
          89,
          83,
          99,
          124,
          122,
          118,
          101,
          100,
          99,
          136,
          95,
          108,
          118,
          79,
          94,
          101,
          139,
          107,
          118,
          85,
          119,
          124,
          139,
          114,
          139,
          125,
          101,
          113,
          39,
          133,
          70,
          87,
          114,
          109,
          32,
          65,
          34,
          25,
          70,
          129,
          135,
          117,
          138,
          136,
          68,
          138,
          122,
          101,
          102,
          52,
          40,
          109,
          56,
          42,
          64,
          125,
          42,
          52,
          34,
          133,
          60,
          109,
          95,
          143,
          122,
          93,
          133,
          106,
          89,
          131,
          136,
          134,
          134,
          76,
          89,
          71,
          136,
          108,
          99,
          106,
          56,
          48,
          85,
          77,
          132,
          78,
          140,
          117,
          42,
          115,
          89,
          93,
          23,
          90,
          57,
          60,
          63,
          43,
          46,
          90,
          49,
          145,
          36,
          45,
          43,
          127,
          65,
          53,
          136,
          116,
          90,
          132,
          97,
          47,
          139,
          111,
          123,
          49,
          136,
          55,
          103,
          143,
          135,
          118,
          76,
          136,
          38,
          81,
          55,
          65,
          121,
          112,
          138,
          79,
          31,
          133,
          136,
          102,
          32,
          138,
          138,
          138,
          100,
          131,
          138,
          61,
          28,
          65,
          96,
          100,
          52,
          139,
          39,
          138,
          131,
          38,
          139,
          135,
          27,
          116,
          98,
          45,
          59,
          134,
          95,
          125,
          65,
          94,
          118,
          140,
          94,
          129,
          133,
          94,
          117,
          94,
          77,
          136,
          53,
          97,
          80,
          135,
          135,
          23,
          29,
          73,
          137,
          48,
          114,
          105,
          128,
          69,
          20,
          27,
          62,
          34,
          91,
          74,
          54,
          132,
          51,
          92,
          108,
          109,
          81,
          22,
          117,
          38,
          117,
          117,
          126,
          117,
          38,
          119,
          70,
          85,
          95,
          56,
          141,
          57,
          140,
          69,
          111,
          72,
          101,
          89,
          123,
          132,
          103,
          64,
          120,
          89,
          39,
          100,
          103,
          83,
          134,
          76,
          139,
          17,
          139,
          90,
          104,
          108,
          135,
          125,
          140,
          138,
          59,
          86,
          135,
          136,
          139,
          113,
          97,
          110,
          111,
          102,
          135,
          59,
          112,
          127,
          102,
          140,
          107,
          84,
          91,
          111,
          68,
          93,
          134,
          131,
          122,
          142,
          134,
          101,
          137,
          137,
          88,
          113,
          117,
          138,
          109,
          134,
          136,
          141,
          137,
          132,
          130,
          142,
          104,
          127,
          138,
          126,
          141,
          123,
          106,
          56,
          102,
          123,
          34,
          100,
          51,
          103,
          102,
          130,
          123,
          137,
          98,
          100,
          123,
          102,
          101,
          103,
          121,
          66,
          68,
          120,
          70,
          50,
          134,
          74,
          120,
          138,
          69,
          87,
          116,
          44,
          66,
          87,
          79,
          78,
          138,
          44,
          96,
          24,
          99,
          136,
          138,
          112,
          114,
          73,
          87,
          132,
          111,
          112,
          104,
          98,
          140,
          114,
          54,
          143,
          78,
          124,
          84,
          131,
          99,
          143,
          62,
          96,
          111,
          68,
          43,
          33,
          121,
          143,
          126,
          108,
          25,
          143,
          26,
          76,
          130,
          94,
          72,
          138,
          143,
          65,
          29,
          143,
          78,
          24,
          44,
          57,
          111,
          139,
          133,
          146,
          137,
          79,
          92,
          76,
          139,
          137,
          108,
          79,
          76,
          36,
          52,
          100,
          76,
          129,
          24,
          131,
          137,
          62,
          75,
          137,
          139,
          139,
          73,
          76,
          97,
          128,
          92,
          139,
          140,
          95,
          139,
          139,
          124,
          113,
          132,
          120,
          139,
          126,
          139,
          134,
          126,
          31,
          82,
          119,
          136,
          130,
          130,
          124,
          109,
          135,
          113,
          113,
          112,
          61,
          138,
          137,
          113,
          108,
          132,
          130,
          47,
          94,
          138,
          44,
          72,
          141,
          139,
          139,
          105,
          67,
          83,
          93,
          79,
          79,
          64,
          48,
          82,
          73,
          69,
          74,
          118,
          52,
          101,
          61,
          16,
          123,
          91,
          111,
          107,
          135,
          48,
          106,
          139,
          53,
          45,
          112,
          73,
          76,
          138,
          58,
          134,
          83,
          124,
          83,
          124,
          59,
          129,
          130,
          68,
          9,
          8,
          125,
          33,
          46,
          108,
          47,
          38,
          26,
          33,
          138,
          36,
          40,
          72,
          25,
          97,
          64,
          130,
          126,
          130,
          13,
          80,
          36,
          83,
          137,
          88,
          128,
          61,
          81,
          132,
          138,
          64,
          140,
          132,
          120,
          37,
          140,
          114,
          38,
          66,
          98,
          99,
          32,
          38,
          140,
          97,
          90,
          72,
          139,
          138,
          35,
          111,
          138,
          105,
          140,
          20,
          134,
          118,
          95,
          134,
          43,
          31,
          78,
          46,
          79,
          50,
          10,
          36,
          135,
          127,
          138,
          52,
          35,
          30,
          64,
          136,
          49,
          115,
          78,
          77,
          104,
          23,
          57,
          76,
          113,
          121,
          46,
          126,
          141,
          123,
          103,
          39,
          50,
          111,
          101,
          97,
          68,
          140,
          132,
          139,
          140,
          130,
          87,
          124,
          78,
          130,
          103,
          116,
          112,
          117,
          92,
          105,
          139,
          139,
          109,
          44,
          87,
          138,
          37,
          97,
          48,
          45,
          45,
          64,
          139,
          124,
          140,
          50,
          134,
          102,
          69,
          36,
          87,
          115,
          104,
          105,
          109,
          82,
          71,
          94,
          106,
          47,
          42,
          47,
          33,
          70,
          122,
          127,
          116,
          80,
          31,
          140,
          105,
          60,
          33,
          130,
          133,
          133,
          128,
          135,
          30,
          39,
          139,
          131,
          139,
          115,
          139,
          88,
          139,
          139,
          126,
          131,
          139,
          22,
          139,
          68,
          145,
          126,
          137,
          139,
          139,
          139,
          139,
          139,
          139,
          139,
          139,
          130,
          134,
          65,
          138,
          86,
          76,
          105,
          84,
          52,
          42,
          77,
          40,
          143,
          126,
          143,
          135,
          137,
          91,
          96,
          112,
          137,
          125,
          137,
          94,
          138,
          70,
          97,
          136,
          87,
          92,
          96,
          53,
          40,
          60,
          72,
          102,
          44,
          80,
          96,
          113,
          133,
          113,
          29,
          33,
          39,
          105,
          131,
          67,
          29,
          114,
          49,
          97,
          98,
          94,
          39,
          118,
          98,
          134,
          85,
          65,
          107,
          51,
          129,
          120,
          90,
          56,
          136,
          143,
          112,
          80,
          144,
          132,
          138,
          35,
          140,
          57,
          90,
          92,
          58,
          112,
          88,
          82,
          51,
          84,
          137,
          101,
          132,
          140,
          63,
          56,
          96,
          137,
          138,
          142,
          82,
          115,
          108,
          62,
          19,
          128,
          81,
          68,
          121,
          126,
          49,
          84,
          82,
          106,
          76,
          139,
          140,
          136,
          125,
          123,
          97,
          73,
          73,
          110,
          131,
          93,
          128,
          105,
          65,
          121,
          78,
          133,
          74,
          135,
          137,
          139,
          140,
          51,
          64,
          117,
          135,
          137,
          86,
          36,
          119,
          94,
          111,
          121,
          131,
          49,
          97,
          114,
          100,
          114,
          100,
          120,
          70,
          138,
          120,
          107,
          107,
          130,
          38,
          58,
          78,
          138,
          133,
          80,
          132,
          120,
          114,
          114,
          130,
          107,
          114,
          107,
          100,
          50,
          55,
          124,
          123,
          137,
          96,
          119,
          87,
          133,
          84,
          97,
          132,
          119,
          82,
          42,
          114,
          37,
          135,
          127,
          134,
          122,
          128,
          105,
          108,
          108,
          100,
          117,
          108,
          108,
          133,
          103,
          94,
          109,
          109,
          114,
          108,
          87,
          109,
          119,
          119,
          119,
          119,
          119,
          119,
          119,
          85,
          119,
          119,
          130,
          119,
          119,
          119,
          138,
          121,
          140,
          70,
          120,
          23,
          89,
          117,
          44,
          136,
          59,
          69,
          136,
          114,
          67,
          137,
          43,
          140,
          113,
          57,
          138,
          88,
          97,
          133,
          131,
          126,
          114,
          115,
          66,
          93,
          45,
          40,
          42,
          139,
          93,
          55,
          75,
          122,
          33,
          71,
          87,
          139,
          56,
          139,
          21,
          140,
          66,
          74,
          131,
          66,
          46,
          120,
          72,
          110,
          28,
          136,
          48,
          50,
          141,
          111,
          129,
          107,
          128,
          120,
          50,
          133,
          98,
          133,
          138,
          107,
          94,
          124,
          84,
          131,
          78,
          79,
          134,
          87,
          85,
          46,
          70,
          122,
          120,
          115,
          95,
          142,
          98,
          123,
          133,
          140,
          113,
          98,
          126,
          133,
          89,
          76,
          88,
          122,
          87,
          61,
          115,
          138,
          98,
          82,
          127,
          98,
          139,
          74,
          137,
          58,
          108,
          130,
          134,
          137,
          101,
          75,
          139,
          79,
          138,
          129,
          139,
          122,
          61,
          134,
          111,
          95,
          128,
          127,
          144,
          40,
          138,
          139,
          140,
          136,
          133,
          138,
          136,
          110,
          138,
          77,
          126,
          67,
          77,
          39,
          58,
          136,
          50,
          88,
          54,
          137,
          136,
          138,
          71,
          85,
          111,
          139,
          137,
          115,
          61,
          68,
          140,
          142,
          76,
          140,
          67,
          131,
          67,
          82,
          139,
          114,
          129,
          115,
          54,
          67,
          116,
          22,
          40,
          80,
          132,
          48,
          139,
          87,
          16,
          104,
          11,
          118,
          53,
          139,
          138,
          139,
          35,
          76,
          126,
          139,
          103,
          145,
          90,
          92,
          29,
          123,
          107,
          100,
          71,
          55,
          66,
          28,
          109,
          130,
          105,
          134,
          136,
          78,
          60,
          133,
          134,
          135,
          139,
          140,
          110,
          139,
          67,
          138,
          124,
          90,
          137,
          138,
          133,
          152,
          135,
          137,
          58,
          131,
          136,
          68,
          134,
          82,
          100,
          92,
          135,
          142,
          135,
          40,
          126,
          110,
          136,
          47,
          139,
          98,
          71,
          137,
          81,
          76,
          108,
          51,
          123,
          134,
          129,
          7,
          27,
          140,
          61,
          117,
          113,
          106,
          62,
          121,
          62,
          115,
          44,
          126,
          65,
          126,
          116,
          19,
          41,
          135,
          135,
          32,
          85,
          76,
          145,
          126,
          70,
          129,
          116,
          139,
          115,
          83,
          126,
          90,
          87,
          135,
          142,
          110,
          60,
          92,
          127,
          136,
          68,
          39,
          135,
          87,
          127,
          136,
          138,
          133,
          45,
          104,
          92,
          76,
          24,
          109,
          130,
          91,
          43,
          46,
          140,
          8,
          94,
          78,
          132,
          88,
          122,
          140,
          108,
          109,
          94,
          136,
          134,
          108,
          98,
          111,
          114,
          142,
          135,
          111,
          110,
          138,
          111,
          111,
          90,
          137,
          136,
          132,
          134,
          120,
          63,
          56,
          106,
          42,
          69,
          100,
          103,
          48,
          49,
          110,
          59,
          135,
          49,
          77,
          95,
          117,
          94,
          61,
          41,
          26,
          45,
          74,
          99,
          34,
          52,
          64,
          104,
          118,
          72,
          140,
          82,
          138,
          88,
          116,
          74,
          115,
          142,
          111,
          115,
          72,
          129,
          106,
          126,
          120,
          7,
          140,
          87,
          92,
          109,
          140,
          54,
          95,
          64,
          133,
          89,
          72,
          99,
          51,
          55,
          96,
          113,
          138,
          82,
          111,
          98,
          62,
          136,
          140,
          144,
          140,
          64,
          139,
          70,
          138,
          53,
          80,
          60,
          86,
          28,
          119,
          46,
          81,
          76,
          102,
          135,
          82,
          121,
          126,
          110,
          91,
          139,
          110,
          135,
          64,
          46,
          11,
          87,
          69,
          27,
          106,
          140,
          101,
          84,
          92,
          139,
          127,
          122,
          128,
          30,
          84,
          34,
          80,
          50,
          61,
          83,
          84,
          104,
          139,
          58,
          36,
          117,
          82,
          95,
          125,
          143,
          135,
          135,
          76,
          76,
          79,
          96,
          44,
          78,
          76,
          139,
          128,
          138,
          138,
          77,
          95,
          124,
          72,
          95,
          135,
          139,
          38,
          124,
          34,
          104,
          125,
          136,
          108,
          94,
          120,
          86,
          43,
          86,
          71,
          113,
          95,
          71,
          88,
          146,
          88,
          133,
          59,
          91,
          88,
          88,
          65,
          109,
          103,
          63,
          108,
          128,
          134,
          16,
          43,
          71,
          133,
          130,
          66,
          76,
          128,
          48,
          46,
          136,
          116,
          91,
          68,
          96,
          94,
          121,
          92,
          88,
          81,
          147,
          131,
          134,
          22,
          138,
          61,
          133,
          136,
          75,
          102,
          132,
          93,
          32,
          25,
          132,
          60,
          43,
          78,
          71,
          55,
          23,
          98,
          130,
          78,
          71,
          66,
          72,
          131,
          95,
          93,
          59,
          117,
          114,
          49,
          89,
          100,
          85,
          66,
          27,
          124,
          103,
          66,
          62,
          65,
          103,
          73,
          141,
          111,
          76,
          136,
          90,
          138,
          102,
          135,
          62,
          83,
          139,
          95,
          138,
          128,
          127,
          67,
          109,
          113,
          121,
          116,
          80,
          136,
          113,
          80,
          67,
          122,
          136,
          136,
          84,
          78,
          106,
          140,
          67,
          125,
          136,
          135,
          136,
          67,
          67,
          91,
          113,
          99,
          67,
          92,
          124,
          133,
          137,
          124,
          136,
          136,
          114,
          69,
          137,
          63,
          82,
          124,
          137,
          124,
          141,
          138,
          136,
          137,
          142,
          124,
          132,
          124,
          136,
          85,
          137,
          133,
          103,
          130,
          50,
          94,
          112,
          119,
          97,
          100,
          102,
          111,
          25,
          68,
          128,
          29,
          136,
          112,
          70,
          78,
          138,
          109,
          105,
          119,
          139,
          135,
          123,
          136,
          136,
          92,
          131,
          139,
          121,
          141,
          59,
          121,
          139,
          66,
          113,
          137,
          137,
          113,
          112,
          48,
          59,
          105,
          105,
          104,
          82,
          97,
          58,
          79,
          71,
          113,
          138,
          106,
          113,
          110,
          45,
          137,
          78,
          89,
          112,
          140,
          107,
          113,
          67,
          79,
          130,
          143,
          124,
          129,
          71,
          128,
          131,
          135,
          66,
          134,
          120,
          122,
          92,
          91,
          96,
          135,
          75,
          128,
          141,
          95,
          136,
          117,
          95,
          78,
          116,
          113,
          141,
          138,
          142,
          105,
          124,
          135,
          66,
          137,
          59,
          137,
          43,
          59,
          143,
          109,
          94,
          87,
          28,
          76,
          67,
          137,
          117,
          99,
          138,
          113,
          138,
          145,
          138,
          95,
          138,
          142,
          80,
          96,
          138,
          31,
          129,
          92,
          138,
          82,
          95,
          122,
          83,
          22,
          47,
          138,
          41,
          75,
          72,
          25,
          117,
          101,
          110,
          38,
          85,
          51,
          63,
          83,
          83,
          97,
          36,
          112,
          78,
          43,
          32,
          109,
          40,
          102,
          54,
          99,
          94,
          54,
          141,
          74,
          114,
          31,
          42,
          81,
          139,
          66,
          61,
          87,
          46,
          44,
          65,
          90,
          59,
          78,
          139,
          65,
          79,
          106,
          119,
          52,
          66,
          85,
          130,
          87,
          79,
          110,
          81,
          128,
          118,
          134,
          114,
          127,
          71,
          86,
          53,
          50,
          140,
          87,
          89,
          39,
          50,
          134,
          47,
          87,
          63,
          133,
          32,
          24,
          44,
          109,
          59,
          58,
          57,
          68,
          134,
          60,
          25,
          19,
          63,
          117,
          123,
          117,
          80,
          66,
          59,
          47,
          73,
          98,
          138,
          37,
          55,
          40,
          58,
          72,
          143,
          47,
          56,
          26,
          119,
          35,
          20,
          32,
          133,
          135,
          80,
          78,
          60,
          47,
          31,
          31,
          77,
          23,
          70,
          74,
          47,
          77,
          97,
          48,
          77,
          54,
          120,
          59,
          64,
          83,
          11,
          47,
          136,
          134,
          123,
          118,
          136,
          84,
          125,
          101,
          88,
          121,
          122,
          63,
          130,
          101,
          139,
          83,
          136,
          139,
          90,
          115,
          138,
          90,
          129,
          67,
          136,
          88,
          128,
          68,
          112,
          109,
          136,
          129,
          101,
          86,
          137,
          129,
          91,
          130,
          67,
          100,
          35,
          104,
          129,
          98,
          72,
          138,
          95,
          139,
          78,
          65,
          130,
          130,
          129,
          109,
          104,
          131,
          109,
          70,
          36,
          41,
          109,
          80,
          103,
          140,
          20,
          47,
          100,
          40,
          142,
          128,
          129,
          86,
          79,
          119,
          52,
          140,
          87,
          54,
          61,
          97,
          130,
          136,
          136,
          72,
          143,
          50,
          60,
          45,
          48,
          45,
          126,
          128,
          44,
          81,
          106,
          64,
          141,
          104,
          93,
          26,
          70,
          14,
          35,
          127,
          43,
          118,
          37,
          128,
          29,
          62,
          90,
          129,
          79,
          89,
          81,
          35,
          75,
          120,
          61,
          49,
          47,
          22,
          44,
          134,
          92,
          95,
          54,
          100,
          18,
          78,
          33,
          108,
          84,
          38,
          34,
          123,
          72,
          93,
          41,
          35,
          96,
          35,
          124,
          68,
          15,
          62,
          136,
          93,
          48,
          78,
          139,
          140,
          140,
          50,
          80,
          139,
          116,
          111,
          86,
          64,
          131,
          134,
          135,
          146,
          137,
          15,
          136,
          33,
          124,
          115,
          89,
          77,
          106,
          69,
          141,
          14,
          44,
          135,
          63,
          47,
          70,
          97,
          98,
          93,
          126,
          64,
          138,
          144,
          102,
          100,
          54,
          135,
          51,
          98,
          62,
          55,
          105,
          62,
          63,
          63,
          63,
          111,
          57,
          56,
          70,
          91,
          57,
          77,
          138,
          100,
          80,
          63,
          102,
          125,
          91,
          121,
          101,
          139,
          132,
          134,
          131,
          52,
          128,
          133,
          132,
          123,
          20,
          121,
          87,
          70,
          89,
          78,
          134,
          72,
          50,
          94,
          91,
          103,
          147,
          53,
          59,
          138,
          126,
          90,
          139,
          54,
          70,
          109,
          38,
          53,
          138,
          138,
          140,
          125,
          44,
          52,
          133,
          140,
          57,
          106,
          136,
          96,
          68,
          96,
          95,
          138,
          104,
          34,
          53,
          118,
          77,
          127,
          61,
          124,
          144,
          67,
          134,
          99,
          12,
          126,
          129,
          49,
          120,
          34,
          100,
          126,
          119,
          138,
          123,
          130,
          41,
          63,
          132,
          70,
          66,
          79,
          101,
          80,
          62,
          130,
          44,
          67,
          71,
          147,
          131,
          127,
          139,
          79,
          57,
          43,
          25,
          135,
          118,
          127,
          122,
          97,
          137,
          90,
          120,
          120,
          114,
          64,
          94,
          102,
          109,
          132,
          120,
          100,
          43,
          30,
          101,
          28,
          76,
          70,
          142,
          124,
          137,
          85,
          138,
          80,
          81,
          128,
          139,
          53,
          112,
          60,
          31,
          82,
          25,
          72,
          107,
          38,
          116,
          27,
          71,
          40,
          102,
          51,
          51,
          116,
          134,
          137,
          43,
          45,
          16,
          34,
          102,
          137,
          31,
          10,
          58,
          51,
          89,
          91,
          134,
          111,
          104,
          29,
          75,
          33,
          82,
          92,
          39,
          90,
          97,
          118,
          127,
          40,
          104,
          104,
          125,
          26,
          89,
          45,
          91,
          114,
          109,
          78,
          81,
          59,
          142,
          128,
          81,
          65,
          106,
          120,
          140,
          138,
          54,
          128,
          60,
          39,
          84,
          95,
          136,
          53,
          137,
          77,
          113,
          137,
          54,
          130,
          137,
          77,
          136,
          28,
          112,
          136,
          101,
          91,
          135,
          136,
          77,
          77,
          105,
          120,
          140,
          123,
          83,
          49,
          68,
          122,
          139,
          102,
          138,
          68,
          126,
          43,
          84,
          124,
          139,
          106,
          117,
          112,
          110,
          116,
          73,
          19,
          71,
          83,
          72,
          128,
          34,
          30,
          108,
          87,
          60,
          25,
          111,
          44,
          28,
          92,
          133,
          94,
          135,
          121,
          123,
          86,
          135,
          68,
          136,
          52,
          89,
          74,
          69,
          63,
          84,
          77,
          88,
          136,
          108,
          135,
          12,
          44,
          50,
          99,
          87,
          122,
          85,
          147,
          71,
          46,
          75,
          81,
          129,
          92,
          107,
          70,
          64,
          126,
          132,
          80,
          140,
          58,
          69,
          18,
          146,
          73,
          29,
          69,
          133,
          43,
          96,
          133,
          23,
          121,
          80,
          35,
          38,
          29,
          140,
          86,
          122,
          96,
          28,
          138,
          18,
          34,
          105,
          148,
          67,
          84,
          136,
          75,
          39,
          55,
          121,
          52,
          136,
          81,
          139,
          128,
          111,
          93,
          62,
          54,
          34,
          123,
          100,
          69,
          138,
          49,
          96,
          117,
          57,
          34,
          122,
          29,
          137,
          122,
          91,
          127,
          131,
          80,
          140,
          79,
          129,
          41,
          82,
          98,
          138,
          134,
          125,
          75,
          139,
          103,
          138,
          79,
          79,
          67,
          100,
          99,
          86,
          80,
          80,
          117,
          122,
          135,
          122,
          136,
          132,
          77,
          87,
          117,
          129,
          137,
          104,
          139,
          119,
          66,
          135,
          140,
          136,
          142,
          132,
          132,
          132,
          143,
          120,
          67,
          38,
          113,
          123,
          89,
          90,
          31,
          60,
          87,
          99,
          61,
          108,
          47,
          93,
          48,
          134,
          82,
          36,
          107,
          73,
          134,
          105,
          95,
          33,
          130,
          19,
          96,
          121,
          77,
          81,
          109,
          54,
          56,
          51,
          106,
          34,
          120,
          130,
          62,
          109,
          124,
          123,
          42,
          19,
          56,
          121,
          122,
          118,
          102,
          113,
          129,
          132,
          69,
          29,
          139,
          102,
          144,
          100,
          137,
          127,
          130,
          129,
          123,
          138,
          129,
          88,
          129,
          138,
          133,
          36,
          122,
          138,
          80,
          88,
          140,
          129,
          128,
          41,
          122,
          100,
          147,
          132,
          110,
          139,
          18,
          139,
          140,
          112,
          68,
          107,
          51,
          143,
          133,
          142,
          78,
          140,
          140,
          140,
          72,
          51,
          130,
          138,
          95,
          52,
          125,
          51,
          90,
          102,
          95,
          77,
          84,
          84,
          73,
          136,
          95,
          140,
          75,
          69,
          96,
          136,
          98,
          132,
          140,
          107,
          58,
          134,
          136,
          138,
          95,
          69,
          52,
          128,
          74,
          134,
          139,
          68,
          71,
          88,
          119,
          139,
          80,
          128,
          134,
          44,
          18,
          137,
          139,
          73,
          66,
          84,
          123,
          120,
          106,
          52,
          101,
          92,
          128,
          123,
          76,
          12,
          107,
          79,
          69,
          85,
          102,
          101,
          140,
          84,
          124,
          136,
          123,
          45,
          120,
          33,
          68,
          74,
          140,
          121,
          110,
          114,
          130,
          78,
          85,
          136,
          138,
          45,
          101,
          41,
          109,
          129,
          93,
          100,
          120,
          87,
          97,
          46,
          94,
          118,
          112,
          46,
          70,
          40,
          38,
          29,
          26,
          25,
          117,
          48,
          96,
          17,
          137,
          91,
          88,
          70,
          80,
          63,
          51,
          49,
          107,
          48,
          107,
          93,
          104,
          80,
          127,
          18,
          60
         ]
        },
        {
         "name": "Real",
         "type": "box",
         "y": [
          69,
          38,
          133,
          65,
          88,
          110,
          95,
          59,
          79,
          52,
          43,
          129,
          76,
          39,
          56,
          55,
          82,
          55,
          140,
          97,
          73,
          75,
          95,
          135,
          97,
          138,
          138,
          76,
          98,
          123,
          139,
          35,
          90,
          67,
          95,
          91,
          98,
          132,
          79,
          136,
          67,
          142,
          128,
          47,
          57,
          93,
          79,
          49,
          138,
          136,
          97,
          124,
          136,
          136,
          136,
          104,
          110,
          75,
          84,
          135,
          97,
          140,
          136,
          95,
          136,
          126,
          87,
          83,
          70,
          138,
          80,
          136,
          136,
          129,
          136,
          75,
          112,
          136,
          26,
          87,
          62,
          136,
          116,
          110,
          138,
          106,
          136,
          87,
          124,
          107,
          110,
          73,
          110,
          87,
          66,
          96,
          110,
          110,
          110,
          98,
          98,
          110,
          43,
          136,
          136,
          106,
          131,
          135,
          42,
          128,
          134,
          136,
          111,
          120,
          41,
          85,
          139,
          138,
          91,
          148,
          87,
          123,
          138,
          96,
          139,
          115,
          49,
          137,
          106,
          113,
          28,
          137,
          98,
          34,
          99,
          91,
          136,
          141,
          96,
          103,
          104,
          118,
          135,
          123,
          100,
          136,
          105,
          105,
          85,
          73,
          79,
          81,
          136,
          48,
          115,
          135,
          136,
          105,
          105,
          81,
          100,
          110,
          105,
          85,
          47,
          64,
          67,
          85,
          141,
          80,
          89,
          91,
          107,
          101,
          48,
          123,
          113,
          80,
          94,
          115,
          80,
          127,
          102,
          109,
          108,
          88,
          115,
          138,
          112,
          106,
          144,
          141,
          112,
          101,
          127,
          79,
          117,
          136,
          87,
          122,
          122,
          122,
          124,
          62,
          122,
          122,
          122,
          103,
          122,
          122,
          122,
          122,
          122,
          122,
          122,
          131,
          122,
          122,
          75,
          108,
          70,
          139,
          126,
          126,
          96,
          107,
          105,
          104,
          112,
          94,
          115,
          137,
          136,
          129,
          137,
          106,
          126,
          129,
          98,
          140,
          138,
          91,
          140,
          112,
          83,
          98,
          99,
          140,
          112,
          26,
          133,
          126,
          151,
          117,
          96,
          132,
          137,
          134,
          138,
          140,
          56,
          136,
          143,
          26,
          138,
          150,
          150,
          129,
          61,
          130,
          75,
          66,
          101,
          88,
          115,
          98,
          68,
          52,
          46,
          48,
          76,
          136,
          78,
          69,
          135,
          134,
          97,
          89,
          40,
          97,
          116,
          24,
          48,
          77,
          137,
          40,
          129,
          135,
          109,
          138,
          134,
          137,
          129,
          96,
          25,
          110,
          125,
          41,
          104,
          114,
          78,
          136,
          87,
          82,
          87,
          58,
          135,
          94,
          134,
          47,
          136,
          65,
          97,
          136,
          132,
          128,
          136,
          66,
          135,
          136,
          109,
          138,
          121,
          69,
          119,
          105,
          116,
          127,
          74,
          140,
          93,
          74,
          139,
          98,
          99,
          92,
          142,
          136,
          140,
          139,
          100,
          120,
          135,
          57,
          92,
          75,
          79,
          79,
          79,
          79,
          144,
          99,
          106,
          79,
          92,
          138,
          82,
          142,
          140,
          92,
          131,
          106,
          136,
          138,
          79,
          135,
          117,
          92,
          120,
          83,
          123,
          135,
          83,
          97,
          110,
          125,
          83,
          83,
          114,
          105,
          139,
          83,
          83,
          114,
          96,
          131,
          83,
          138,
          126,
          83,
          84,
          117,
          130,
          82,
          119,
          137,
          102,
          133,
          78,
          36,
          121,
          144,
          103,
          120,
          110,
          69,
          88,
          125,
          56,
          76,
          137,
          136,
          141,
          122,
          131,
          96,
          79,
          91,
          74,
          137,
          136,
          97,
          121,
          62,
          101,
          113,
          141,
          137,
          133,
          62,
          127,
          113,
          127,
          140,
          66,
          94,
          137,
          119,
          136,
          136,
          125,
          109,
          140,
          80,
          71,
          134,
          101,
          139,
          82,
          114,
          115,
          64,
          139,
          44,
          18,
          76,
          74,
          136,
          136,
          140,
          110,
          119,
          127,
          142,
          130,
          66,
          56,
          126,
          99,
          108,
          82,
          137,
          91,
          121,
          115,
          138,
          135,
          82,
          139,
          65,
          129,
          138,
          91,
          82,
          140,
          85,
          128,
          50,
          49,
          138,
          68,
          140,
          127,
          139,
          105,
          123,
          33,
          131,
          135,
          83,
          100,
          94,
          136,
          126,
          136,
          135,
          81,
          34,
          91,
          125,
          133,
          119,
          107,
          135,
          129,
          98,
          127,
          137,
          112,
          133,
          103,
          120,
          137,
          90,
          101,
          80,
          135,
          102,
          137,
          138,
          108,
          91,
          119,
          120,
          136,
          108,
          100,
          133,
          138,
          60,
          92,
          137,
          133,
          100,
          140,
          133,
          139,
          74,
          137,
          112,
          112,
          112,
          136,
          89,
          112,
          113,
          112,
          118,
          91,
          89,
          112,
          100,
          112,
          91,
          76,
          138,
          91,
          109,
          130,
          140,
          142,
          89,
          90,
          129,
          138,
          133,
          133,
          112,
          89,
          109,
          98,
          94,
          139,
          56,
          128,
          48,
          110,
          140,
          136,
          114,
          71,
          115,
          129,
          92,
          138,
          138,
          101,
          54,
          54,
          69,
          106,
          135,
          53,
          78,
          41,
          133,
          110,
          123,
          62,
          121,
          138,
          117,
          94,
          126,
          66,
          68,
          118,
          128,
          55,
          142,
          141,
          137,
          92,
          111,
          138,
          135,
          87,
          73,
          132,
          142,
          109,
          136,
          137,
          138,
          92,
          137,
          137,
          136,
          136,
          82,
          116,
          121,
          136,
          60,
          131,
          83,
          87,
          121,
          104,
          87,
          108,
          131,
          82,
          131,
          136,
          85,
          90,
          79,
          128,
          85,
          90,
          139,
          134,
          123,
          134,
          99,
          137,
          82,
          93,
          91,
          85,
          106,
          83,
          82,
          102,
          51,
          95,
          27,
          136,
          41,
          45,
          61,
          70,
          81,
          136,
          84,
          137,
          136,
          136,
          139,
          88,
          136,
          139,
          64,
          121,
          40,
          67,
          114,
          119,
          144,
          138,
          140,
          101,
          132,
          119,
          86,
          49,
          22,
          77,
          45,
          54,
          136,
          27,
          130,
          140,
          137,
          94,
          129,
          100,
          122,
          91,
          84,
          96,
          116,
          142,
          93,
          61,
          106,
          135,
          135,
          96,
          86,
          137,
          132,
          122,
          120,
          137,
          136,
          102,
          61,
          62,
          46,
          127,
          138,
          80,
          115,
          97,
          95,
          140,
          126,
          27,
          74,
          107,
          136,
          113,
          39,
          128,
          121,
          121,
          52,
          120,
          118,
          40,
          118,
          137,
          137,
          136,
          136,
          126,
          65,
          68,
          30,
          41,
          55,
          49,
          111,
          67,
          35,
          107,
          134,
          103,
          134,
          103,
          132,
          69,
          139,
          142,
          143,
          142,
          133,
          94,
          31,
          138,
          131,
          96,
          108,
          53,
          139,
          133,
          118,
          135,
          139,
          73,
          104,
          126,
          133,
          140,
          140,
          122,
          122,
          98,
          34,
          122,
          102,
          124,
          101,
          102,
          102,
          134,
          124,
          104,
          131,
          79,
          138,
          98,
          116,
          123,
          84,
          86,
          60,
          116,
          76,
          83,
          102,
          136,
          105,
          136,
          136,
          110,
          114,
          57,
          136,
          136,
          92,
          123,
          62,
          132,
          136,
          142,
          124,
          94,
          101,
          73,
          140,
          132,
          59,
          117,
          136,
          105,
          138,
          139,
          118,
          127,
          111,
          139,
          131,
          116,
          74,
          115,
          78,
          123,
          108,
          75,
          115,
          83,
          105,
          99,
          104,
          84,
          95,
          123,
          142,
          119,
          95,
          92,
          63,
          44,
          95,
          113,
          98,
          119,
          72,
          91,
          91,
          95,
          97,
          139,
          129,
          132,
          103,
          130,
          56,
          140,
          83,
          44,
          118,
          142,
          135,
          135,
          107,
          140,
          96,
          116,
          128,
          141,
          72,
          127,
          82,
          136,
          137,
          43,
          63,
          101,
          63,
          136,
          107,
          146,
          92,
          100,
          116,
          128,
          63,
          136,
          106,
          136,
          110,
          63,
          100,
          136,
          112,
          85,
          136,
          101,
          124,
          136,
          83,
          135,
          121,
          136,
          106,
          102,
          108,
          99,
          124,
          128,
          139,
          79,
          128,
          135,
          63,
          130,
          96,
          136,
          54,
          132,
          56,
          125,
          79,
          140,
          138,
          138,
          78,
          132,
          128,
          32,
          81,
          143,
          104,
          139,
          139,
          137,
          112,
          138,
          92,
          135,
          102,
          135,
          142,
          135,
          133,
          92,
          117,
          133,
          86,
          108,
          87,
          66,
          126,
          57,
          62,
          133,
          135,
          90,
          139,
          67,
          143,
          126,
          100,
          105,
          115,
          100,
          107,
          135,
          139,
          99,
          107,
          111,
          139,
          118,
          149,
          137,
          136,
          87,
          136,
          139,
          136,
          139,
          136,
          136,
          136,
          54,
          95,
          78,
          136,
          67,
          116,
          139,
          131,
          135,
          140,
          135,
          135,
          81,
          135,
          135,
          138,
          135,
          103,
          139,
          135,
          143,
          136,
          108,
          135,
          135,
          140,
          140,
          135,
          137,
          120,
          141,
          77,
          135,
          139,
          134,
          53,
          113,
          123,
          100,
          102,
          126,
          87,
          104,
          139,
          124,
          88,
          136,
          132,
          134,
          132,
          139,
          141,
          133,
          92,
          96,
          141,
          114,
          134,
          134,
          134,
          116,
          136,
          139,
          107,
          136,
          79,
          113,
          140,
          123,
          113,
          112,
          129,
          135,
          55,
          53,
          118,
          140,
          79,
          77,
          135,
          62,
          134,
          76,
          140,
          115,
          136,
          110,
          135,
          93,
          26,
          140,
          123,
          137,
          103,
          130,
          55,
          58,
          121,
          72,
          140,
          132,
          45,
          137,
          37,
          81,
          135,
          114,
          114,
          98,
          80,
          87,
          136,
          90,
          101,
          62,
          105,
          81,
          132,
          134,
          50,
          53,
          102,
          76,
          51,
          128,
          114,
          126,
          122,
          102,
          104,
          124,
          133,
          140,
          102,
          50,
          72,
          98,
          104,
          105,
          73,
          25,
          135,
          134,
          62,
          120,
          87,
          138,
          138,
          128,
          76,
          133,
          135,
          111,
          121,
          140,
          117,
          135,
          93,
          140,
          135,
          110,
          140,
          136,
          135,
          135,
          87,
          110,
          106,
          99,
          135,
          135,
          135,
          76,
          20,
          142,
          19,
          107,
          72,
          123,
          133,
          86,
          139,
          136,
          93,
          99,
          91,
          137,
          144,
          135,
          114,
          128,
          136,
          139,
          138,
          69,
          139,
          92,
          139,
          101,
          137,
          138,
          137,
          133,
          52,
          136,
          140,
          139,
          120,
          119,
          137,
          139,
          124,
          139,
          133,
          75,
          134,
          107,
          76,
          95,
          136,
          136,
          124,
          124,
          132,
          136,
          139,
          104,
          103,
          93,
          94,
          132,
          90,
          96,
          137,
          139,
          133,
          136,
          131,
          60,
          141,
          138,
          57,
          126,
          126,
          140,
          126,
          123,
          139,
          117,
          123,
          126,
          84,
          130,
          64,
          83,
          126,
          126,
          126,
          111,
          100,
          134,
          138,
          139,
          140,
          110,
          114,
          113,
          66,
          81,
          137,
          90,
          93,
          114,
          95,
          123,
          102,
          88,
          121,
          116,
          138,
          85,
          88,
          138,
          117,
          112,
          43,
          80,
          134,
          130,
          127,
          138,
          34,
          101,
          136,
          127,
          133,
          137,
          136,
          93,
          100,
          137,
          131,
          92,
          114,
          95,
          136,
          85,
          75,
          138,
          87,
          33,
          83,
          118,
          82,
          114,
          137,
          136,
          86,
          136,
          122,
          77,
          139,
          74,
          107,
          119,
          137,
          139,
          137,
          134,
          137,
          129,
          80,
          136,
          131,
          136,
          135,
          127,
          105,
          142,
          126,
          92,
          137,
          138,
          73,
          100,
          95,
          98,
          107,
          49,
          87,
          125,
          46,
          79,
          138,
          132,
          132,
          115,
          136,
          103,
          135,
          84,
          131,
          92,
          101,
          98,
          113,
          61,
          116,
          137,
          116,
          71,
          121,
          58,
          94,
          26,
          89,
          132,
          76,
          116,
          135,
          116,
          132,
          136,
          140,
          104,
          75,
          93,
          134,
          135,
          140,
          135,
          87,
          138,
          92,
          140,
          136,
          87,
          123,
          63,
          92,
          119,
          137,
          124,
          97,
          140,
          107,
          138,
          115,
          140,
          135,
          73,
          94,
          92,
          141,
          132,
          105,
          136,
          134,
          98,
          79,
          110,
          90,
          136,
          136,
          93,
          137,
          101,
          99,
          136,
          98,
          136,
          79,
          136,
          136,
          90,
          136,
          136,
          79,
          69,
          136,
          136,
          79,
          103,
          136,
          135,
          126,
          136,
          129,
          84,
          136,
          73,
          112,
          95,
          85,
          129,
          111,
          115,
          99,
          115,
          81,
          117,
          129,
          134,
          140,
          124,
          139,
          140,
          102,
          22,
          76,
          68,
          79,
          97,
          103,
          32,
          102,
          80,
          135,
          64,
          138,
          136,
          45,
          69,
          124,
          42,
          72,
          70,
          48,
          122,
          110,
          30,
          95,
          80,
          88,
          115,
          63,
          135,
          134,
          67,
          120,
          104,
          136,
          55,
          137,
          76,
          116,
          55,
          133,
          116,
          138,
          54,
          51,
          62,
          138,
          116,
          107,
          132,
          104,
          137,
          112,
          102,
          89,
          100,
          108,
          134,
          134,
          122,
          143,
          134,
          71,
          110,
          135,
          129,
          27,
          90,
          135,
          135,
          124,
          130,
          135,
          135,
          130,
          139,
          135,
          22,
          136,
          85,
          139,
          85,
          101,
          77,
          139,
          138,
          114,
          93,
          88,
          128,
          81,
          116,
          114,
          136,
          144,
          80,
          80,
          139,
          131,
          36,
          116,
          107,
          85,
          136,
          80,
          123,
          100,
          117,
          140,
          113,
          46,
          135,
          118,
          136,
          106,
          135,
          90,
          137,
          139,
          115,
          137,
          134,
          136,
          140,
          129,
          65,
          110,
          55,
          135,
          134,
          117,
          96,
          136,
          81,
          85,
          135,
          139,
          105,
          135,
          99,
          97,
          89,
          112,
          21,
          122,
          135,
          101,
          107,
          98,
          53,
          72,
          128,
          91,
          42,
          123,
          70,
          72,
          137,
          137,
          134,
          62,
          138,
          135,
          138,
          72,
          139,
          89,
          137,
          111,
          97,
          128,
          82,
          138,
          110,
          139,
          78,
          129,
          104,
          135,
          90,
          101,
          135,
          103,
          109,
          128,
          125,
          140,
          126,
          89,
          127,
          140,
          123,
          83,
          140,
          139,
          134,
          113,
          32,
          36,
          84,
          134,
          142,
          73,
          130,
          137,
          101,
          134,
          138,
          79,
          111,
          84,
          74,
          49,
          82,
          98,
          139,
          140,
          97,
          137,
          142,
          125,
          88,
          33,
          123,
          132,
          103,
          128,
          138,
          113,
          136,
          110,
          140,
          124,
          76,
          138,
          101,
          71,
          92,
          111,
          91,
          138,
          133,
          65,
          70,
          117,
          78,
          124,
          133,
          70,
          70,
          51,
          86,
          65,
          83,
          117,
          138,
          65,
          125,
          78,
          133,
          70,
          78,
          112,
          136,
          76,
          79,
          140,
          91,
          100,
          33,
          141,
          138,
          121,
          66,
          101,
          131,
          128,
          115,
          87,
          115,
          105,
          113,
          120,
          136,
          34,
          111,
          137,
          114,
          100,
          117,
          138,
          71,
          114,
          114,
          88,
          135,
          139,
          122,
          122,
          87,
          109,
          136,
          106,
          136,
          118,
          101,
          76,
          109,
          88,
          101,
          106,
          138,
          108,
          104,
          69,
          132,
          70,
          108,
          69,
          76,
          79,
          113,
          84,
          69,
          103,
          88,
          94,
          76,
          102,
          73,
          119,
          120,
          73,
          147,
          119,
          91,
          117,
          95,
          119,
          119,
          73,
          102,
          73,
          119,
          116,
          111,
          92,
          83,
          85,
          104,
          130,
          83,
          110,
          83,
          137,
          112,
          67,
          125,
          71,
          139,
          126,
          126,
          140,
          127,
          133,
          105,
          126,
          126,
          130,
          139,
          81,
          136,
          92,
          140,
          50,
          126,
          140,
          139,
          143,
          136,
          139,
          103,
          126,
          126,
          140,
          136,
          33,
          134,
          134,
          56,
          86,
          67,
          27,
          17,
          106,
          63,
          26,
          85,
          137,
          141,
          137,
          136,
          134,
          132,
          24,
          75,
          139,
          143,
          72,
          116,
          136,
          73,
          132,
          115,
          105,
          68,
          90,
          131,
          135,
          139,
          109,
          137,
          127,
          117,
          120,
          138,
          135,
          90,
          127,
          135,
          130,
          105,
          138,
          116,
          83,
          84,
          127,
          135,
          133,
          88,
          85,
          93,
          84,
          88,
          128,
          93,
          48,
          53,
          80,
          80,
          126,
          138,
          142,
          110,
          141,
          63,
          110,
          141,
          34,
          145,
          88,
          139,
          133,
          124,
          81,
          140,
          117,
          96,
          119,
          133,
          90,
          74,
          46,
          114,
          55,
          73,
          75,
          88,
          44,
          103,
          130,
          105,
          103,
          140,
          75,
          100,
          74,
          103,
          120,
          139,
          123,
          73,
          96,
          101,
          136,
          132,
          123,
          131,
          83,
          136,
          132,
          120,
          107,
          52,
          142,
          127,
          139,
          39,
          140,
          86,
          68,
          133,
          115,
          137,
          87,
          134,
          76,
          135,
          143,
          134,
          107,
          44,
          96,
          102,
          126,
          110,
          121,
          137,
          102,
          136,
          119,
          81,
          111,
          140,
          130,
          135,
          77,
          132,
          48,
          125,
          49,
          139,
          53,
          85,
          72,
          87,
          62,
          100,
          135,
          137,
          86,
          90,
          132,
          138,
          137,
          118,
          113,
          120,
          58,
          137,
          18,
          118,
          135,
          76,
          85,
          131,
          139,
          74,
          143,
          137,
          129,
          134,
          116,
          87,
          73,
          66,
          38,
          57,
          112,
          81,
          119,
          138,
          140,
          59,
          139,
          139,
          140,
          140,
          139,
          60,
          114,
          103,
          62,
          117,
          34,
          33,
          114,
          25,
          42,
          76,
          127,
          134,
          75,
          96,
          106,
          43,
          139,
          137,
          112,
          116,
          97,
          115,
          105,
          130,
          119,
          51,
          104,
          137,
          135,
          133,
          118,
          145,
          132,
          135,
          126,
          81,
          71,
          135,
          89,
          142,
          89,
          84,
          124,
          144,
          137,
          115,
          89,
          124,
          116,
          97,
          131,
          133,
          88,
          136,
          89,
          89,
          129,
          144,
          139,
          137,
          97,
          136,
          137,
          113,
          137,
          140,
          79,
          143,
          135,
          119,
          96,
          113,
          121,
          130,
          137,
          98,
          110,
          138,
          128,
          84,
          139,
          96,
          137,
          86,
          36,
          102,
          137,
          98,
          135,
          95,
          101,
          85,
          85,
          85,
          85,
          85,
          94,
          140,
          86,
          134,
          136,
          135,
          97,
          85,
          96,
          136,
          117,
          136,
          132,
          139,
          92,
          79,
          85,
          85,
          92,
          91,
          111,
          91,
          139,
          85,
          95,
          75,
          101,
          136,
          136,
          136,
          87,
          119,
          136,
          120,
          136,
          139,
          101,
          136,
          136,
          136,
          136,
          136,
          136,
          136,
          136,
          136,
          136,
          136,
          79,
          136,
          136,
          136,
          136,
          136,
          82,
          136,
          136,
          98,
          136,
          136,
          136,
          136,
          138,
          136,
          133,
          129,
          113,
          88,
          63,
          73,
          88,
          84,
          87,
          139,
          114,
          78,
          111,
          88,
          63,
          113,
          136,
          139,
          137,
          100,
          138,
          134,
          129,
          113,
          120,
          137,
          104,
          125,
          116,
          98,
          105,
          112,
          128,
          110,
          85,
          136,
          135,
          116,
          90,
          68,
          67,
          83,
          81,
          137,
          136,
          76,
          133,
          96,
          136,
          115,
          116,
          88,
          131,
          99,
          95,
          101,
          82,
          137,
          142,
          130,
          117,
          115,
          137,
          118,
          136,
          88,
          118,
          140,
          95,
          112,
          136,
          140,
          45,
          136,
          119,
          71,
          66,
          108,
          94,
          100,
          137,
          108,
          94,
          94,
          135,
          122,
          94,
          94,
          108,
          108,
          108,
          108,
          108,
          94,
          45,
          94,
          94,
          108,
          100,
          93,
          98,
          94,
          94,
          94,
          118,
          108,
          96,
          108,
          94,
          142,
          82,
          116,
          101,
          59,
          86,
          89,
          62,
          135,
          83,
          139,
          67,
          102,
          89,
          86,
          144,
          131,
          122,
          79,
          89,
          140,
          140,
          87,
          75,
          75,
          135,
          96,
          136,
          107,
          87,
          60,
          125,
          60,
          61,
          65,
          132,
          116,
          59,
          69,
          107,
          123,
          62,
          140,
          60,
          136,
          136,
          136,
          136,
          140,
          136,
          136,
          137,
          136,
          89,
          136,
          136,
          136,
          136,
          136,
          138,
          136,
          129,
          139,
          141,
          136,
          136,
          136,
          113,
          136,
          136,
          96,
          137,
          77,
          140,
          137,
          136,
          26,
          44,
          91,
          135,
          100,
          138,
          135,
          89,
          88,
          73,
          109,
          117,
          76,
          72,
          128,
          144,
          136,
          139,
          55,
          139,
          76,
          136,
          137,
          122,
          82,
          75,
          134,
          138,
          143,
          138,
          96,
          114,
          95,
          131,
          92,
          127,
          86,
          101,
          95,
          84,
          91,
          91,
          91,
          91,
          91,
          91,
          91,
          91,
          138,
          22,
          91,
          91,
          91,
          91,
          140,
          91,
          91,
          91,
          91,
          91,
          91,
          91,
          91,
          91,
          91,
          97,
          91,
          91,
          133,
          139,
          104,
          53,
          52,
          33,
          50,
          139,
          134,
          118,
          113,
          46,
          92,
          76,
          124,
          118,
          101,
          116,
          118,
          101,
          99,
          72,
          141,
          78,
          130,
          115,
          73,
          73,
          85,
          68,
          147,
          78,
          92,
          81,
          129,
          129,
          82,
          136,
          81,
          77,
          95,
          32,
          97,
          141,
          138,
          68,
          71,
          76,
          137,
          33,
          109,
          81,
          129,
          96,
          76,
          112,
          129,
          102,
          129,
          98,
          113,
          140,
          69,
          85,
          134,
          77,
          89,
          116,
          111,
          130,
          111,
          137,
          110,
          31,
          70,
          116,
          133,
          97,
          63,
          112,
          134,
          116,
          55,
          121,
          132,
          126,
          137,
          128,
          58,
          90,
          138,
          59,
          79,
          137,
          79,
          101,
          132,
          101,
          20,
          134,
          140,
          93,
          125,
          79,
          131,
          139,
          140,
          56,
          140,
          81,
          100,
          138,
          136,
          136,
          118,
          117,
          116,
          140,
          140,
          136,
          94,
          136,
          135,
          138,
          137,
          134,
          94,
          136,
          115,
          139,
          138,
          140,
          130,
          130,
          140,
          84,
          130,
          107,
          124,
          135,
          140,
          130,
          138,
          120,
          140,
          140,
          120,
          114,
          125,
          100,
          100,
          100,
          130,
          117,
          107,
          99,
          117,
          100,
          125,
          140,
          139,
          122,
          117,
          86,
          85,
          135,
          105,
          76,
          77,
          136,
          136,
          136,
          89,
          91,
          137,
          136,
          57,
          92,
          140,
          86,
          105,
          138,
          109,
          108,
          136,
          63,
          86,
          136,
          134,
          136,
          136,
          67,
          105,
          137,
          139,
          96,
          141,
          140,
          96,
          47,
          77,
          103,
          100,
          81,
          120,
          140,
          132,
          49,
          98,
          128,
          81,
          81,
          138,
          134,
          135,
          77,
          141,
          67,
          137,
          135,
          81,
          127,
          136,
          123,
          79,
          139,
          107,
          81,
          139,
          123,
          134,
          139,
          53,
          132,
          67,
          27,
          81,
          143,
          93,
          85,
          99,
          138,
          132,
          109,
          140,
          136,
          139,
          126,
          132,
          93,
          86,
          125,
          132,
          136,
          71,
          142,
          59,
          85,
          138,
          74,
          99,
          85,
          116,
          100,
          138,
          141,
          131,
          144,
          59,
          69,
          93,
          137,
          120,
          58,
          105,
          93,
          140,
          79,
          136,
          49,
          121,
          85,
          143,
          110,
          90,
          102,
          53,
          120,
          134,
          120,
          140,
          90,
          120,
          100,
          87,
          139,
          101,
          137,
          116,
          78,
          90,
          139,
          110,
          52,
          102,
          130,
          139,
          140,
          131,
          93,
          100,
          133,
          48,
          140,
          138,
          133,
          100,
          59,
          86,
          139,
          62,
          135,
          51,
          73,
          33,
          85,
          63,
          90,
          146,
          65,
          91,
          103,
          66,
          136,
          119,
          99,
          136,
          127,
          78,
          140,
          134,
          112,
          136,
          124,
          138,
          91,
          138,
          78,
          100,
          118,
          77,
          122,
          134,
          120,
          63,
          75,
          136,
          140,
          130,
          67,
          130,
          87,
          81,
          91,
          57,
          137,
          84,
          127,
          134,
          141,
          87,
          56,
          44,
          101,
          75,
          137,
          137,
          125,
          109,
          130,
          83,
          137,
          138,
          138,
          49,
          137,
          137,
          124,
          139,
          137,
          137,
          137,
          137,
          142,
          50,
          142,
          135,
          134,
          132,
          95,
          77,
          51,
          136,
          136,
          133,
          136,
          109,
          136,
          133,
          96,
          26,
          91,
          140,
          136,
          137,
          142,
          56,
          85,
          88,
          49,
          112,
          133,
          98,
          148,
          89,
          125,
          101,
          119,
          119,
          67,
          138,
          87,
          97,
          53,
          136,
          139,
          131,
          91,
          136,
          140,
          134,
          128,
          136,
          137,
          136,
          136,
          139,
          136,
          105,
          136,
          128,
          65,
          121,
          91,
          136,
          137,
          136,
          136,
          53,
          136,
          77,
          138,
          140,
          84,
          59,
          69,
          121,
          140,
          69,
          98,
          46,
          37,
          136,
          136,
          65,
          138,
          66,
          139,
          80,
          70,
          79,
          134,
          55,
          74,
          134,
          134,
          136,
          135,
          118,
          138,
          106,
          133,
          139,
          90,
          103,
          78,
          106,
          135,
          74,
          60,
          133,
          136,
          104,
          139,
          78,
          132,
          126,
          117,
          126,
          115,
          135,
          106,
          128,
          129,
          110,
          135,
          135,
          82,
          65,
          113,
          139,
          30,
          77,
          92,
          135,
          96,
          53,
          140,
          125,
          32,
          95,
          47,
          128,
          139,
          138,
          140,
          91,
          102,
          46,
          140,
          60,
          83,
          62,
          106,
          140,
          78,
          114,
          142,
          133,
          137,
          133,
          134,
          117,
          105,
          137,
          47,
          140,
          99,
          44,
          140,
          101,
          117,
          111,
          46,
          91,
          54,
          72,
          101,
          113,
          100,
          103,
          81,
          100,
          68,
          108,
          62,
          139,
          108,
          88,
          125,
          138,
          137,
          137,
          144,
          76,
          119,
          70,
          143,
          87,
          137,
          139,
          46,
          73,
          122,
          120,
          36,
          81,
          125,
          107,
          60,
          122,
          37,
          69,
          137,
          136,
          78,
          89,
          136,
          135,
          78,
          131,
          38,
          120,
          135,
          84,
          80,
          105,
          140,
          100,
          133,
          117,
          92,
          96,
          135,
          112,
          139,
          128,
          125,
          136,
          75,
          136,
          100,
          106,
          94,
          105,
          88,
          40,
          85,
          115,
          89,
          137,
          100,
          89,
          113,
          142,
          99,
          71,
          92,
          136,
          136,
          81,
          138,
          134,
          88,
          69,
          145,
          117,
          132,
          68,
          136,
          88,
          136,
          83,
          99,
          96,
          139,
          134,
          134,
          58,
          135,
          140,
          136,
          105,
          91,
          134,
          133,
          140,
          140,
          120,
          114,
          146,
          95,
          50,
          135,
          105,
          29,
          63,
          126,
          54,
          85,
          46,
          56,
          136,
          103,
          136,
          105,
          136,
          139,
          136,
          136,
          139,
          137,
          92,
          136,
          136,
          136,
          136,
          136,
          60,
          136,
          102,
          136,
          137,
          136,
          137,
          136,
          136,
          84,
          92,
          137,
          60,
          136,
          109,
          136,
          60,
          136,
          136,
          136,
          136,
          83,
          136,
          70,
          65,
          49,
          130,
          69,
          97,
          132,
          14,
          145,
          79,
          136,
          91,
          107,
          134,
          122,
          114,
          131,
          92,
          99,
          65,
          136,
          136,
          114,
          121,
          134,
          83,
          125,
          65,
          137,
          94
         ]
        }
       ],
       "layout": {
        "template": {
         "data": {
          "bar": [
           {
            "error_x": {
             "color": "#2a3f5f"
            },
            "error_y": {
             "color": "#2a3f5f"
            },
            "marker": {
             "line": {
              "color": "#E5ECF6",
              "width": 0.5
             }
            },
            "type": "bar"
           }
          ],
          "barpolar": [
           {
            "marker": {
             "line": {
              "color": "#E5ECF6",
              "width": 0.5
             }
            },
            "type": "barpolar"
           }
          ],
          "carpet": [
           {
            "aaxis": {
             "endlinecolor": "#2a3f5f",
             "gridcolor": "white",
             "linecolor": "white",
             "minorgridcolor": "white",
             "startlinecolor": "#2a3f5f"
            },
            "baxis": {
             "endlinecolor": "#2a3f5f",
             "gridcolor": "white",
             "linecolor": "white",
             "minorgridcolor": "white",
             "startlinecolor": "#2a3f5f"
            },
            "type": "carpet"
           }
          ],
          "choropleth": [
           {
            "colorbar": {
             "outlinewidth": 0,
             "ticks": ""
            },
            "type": "choropleth"
           }
          ],
          "contour": [
           {
            "colorbar": {
             "outlinewidth": 0,
             "ticks": ""
            },
            "colorscale": [
             [
              0,
              "#0d0887"
             ],
             [
              0.1111111111111111,
              "#46039f"
             ],
             [
              0.2222222222222222,
              "#7201a8"
             ],
             [
              0.3333333333333333,
              "#9c179e"
             ],
             [
              0.4444444444444444,
              "#bd3786"
             ],
             [
              0.5555555555555556,
              "#d8576b"
             ],
             [
              0.6666666666666666,
              "#ed7953"
             ],
             [
              0.7777777777777778,
              "#fb9f3a"
             ],
             [
              0.8888888888888888,
              "#fdca26"
             ],
             [
              1,
              "#f0f921"
             ]
            ],
            "type": "contour"
           }
          ],
          "contourcarpet": [
           {
            "colorbar": {
             "outlinewidth": 0,
             "ticks": ""
            },
            "type": "contourcarpet"
           }
          ],
          "heatmap": [
           {
            "colorbar": {
             "outlinewidth": 0,
             "ticks": ""
            },
            "colorscale": [
             [
              0,
              "#0d0887"
             ],
             [
              0.1111111111111111,
              "#46039f"
             ],
             [
              0.2222222222222222,
              "#7201a8"
             ],
             [
              0.3333333333333333,
              "#9c179e"
             ],
             [
              0.4444444444444444,
              "#bd3786"
             ],
             [
              0.5555555555555556,
              "#d8576b"
             ],
             [
              0.6666666666666666,
              "#ed7953"
             ],
             [
              0.7777777777777778,
              "#fb9f3a"
             ],
             [
              0.8888888888888888,
              "#fdca26"
             ],
             [
              1,
              "#f0f921"
             ]
            ],
            "type": "heatmap"
           }
          ],
          "heatmapgl": [
           {
            "colorbar": {
             "outlinewidth": 0,
             "ticks": ""
            },
            "colorscale": [
             [
              0,
              "#0d0887"
             ],
             [
              0.1111111111111111,
              "#46039f"
             ],
             [
              0.2222222222222222,
              "#7201a8"
             ],
             [
              0.3333333333333333,
              "#9c179e"
             ],
             [
              0.4444444444444444,
              "#bd3786"
             ],
             [
              0.5555555555555556,
              "#d8576b"
             ],
             [
              0.6666666666666666,
              "#ed7953"
             ],
             [
              0.7777777777777778,
              "#fb9f3a"
             ],
             [
              0.8888888888888888,
              "#fdca26"
             ],
             [
              1,
              "#f0f921"
             ]
            ],
            "type": "heatmapgl"
           }
          ],
          "histogram": [
           {
            "marker": {
             "colorbar": {
              "outlinewidth": 0,
              "ticks": ""
             }
            },
            "type": "histogram"
           }
          ],
          "histogram2d": [
           {
            "colorbar": {
             "outlinewidth": 0,
             "ticks": ""
            },
            "colorscale": [
             [
              0,
              "#0d0887"
             ],
             [
              0.1111111111111111,
              "#46039f"
             ],
             [
              0.2222222222222222,
              "#7201a8"
             ],
             [
              0.3333333333333333,
              "#9c179e"
             ],
             [
              0.4444444444444444,
              "#bd3786"
             ],
             [
              0.5555555555555556,
              "#d8576b"
             ],
             [
              0.6666666666666666,
              "#ed7953"
             ],
             [
              0.7777777777777778,
              "#fb9f3a"
             ],
             [
              0.8888888888888888,
              "#fdca26"
             ],
             [
              1,
              "#f0f921"
             ]
            ],
            "type": "histogram2d"
           }
          ],
          "histogram2dcontour": [
           {
            "colorbar": {
             "outlinewidth": 0,
             "ticks": ""
            },
            "colorscale": [
             [
              0,
              "#0d0887"
             ],
             [
              0.1111111111111111,
              "#46039f"
             ],
             [
              0.2222222222222222,
              "#7201a8"
             ],
             [
              0.3333333333333333,
              "#9c179e"
             ],
             [
              0.4444444444444444,
              "#bd3786"
             ],
             [
              0.5555555555555556,
              "#d8576b"
             ],
             [
              0.6666666666666666,
              "#ed7953"
             ],
             [
              0.7777777777777778,
              "#fb9f3a"
             ],
             [
              0.8888888888888888,
              "#fdca26"
             ],
             [
              1,
              "#f0f921"
             ]
            ],
            "type": "histogram2dcontour"
           }
          ],
          "mesh3d": [
           {
            "colorbar": {
             "outlinewidth": 0,
             "ticks": ""
            },
            "type": "mesh3d"
           }
          ],
          "parcoords": [
           {
            "line": {
             "colorbar": {
              "outlinewidth": 0,
              "ticks": ""
             }
            },
            "type": "parcoords"
           }
          ],
          "pie": [
           {
            "automargin": true,
            "type": "pie"
           }
          ],
          "scatter": [
           {
            "marker": {
             "colorbar": {
              "outlinewidth": 0,
              "ticks": ""
             }
            },
            "type": "scatter"
           }
          ],
          "scatter3d": [
           {
            "line": {
             "colorbar": {
              "outlinewidth": 0,
              "ticks": ""
             }
            },
            "marker": {
             "colorbar": {
              "outlinewidth": 0,
              "ticks": ""
             }
            },
            "type": "scatter3d"
           }
          ],
          "scattercarpet": [
           {
            "marker": {
             "colorbar": {
              "outlinewidth": 0,
              "ticks": ""
             }
            },
            "type": "scattercarpet"
           }
          ],
          "scattergeo": [
           {
            "marker": {
             "colorbar": {
              "outlinewidth": 0,
              "ticks": ""
             }
            },
            "type": "scattergeo"
           }
          ],
          "scattergl": [
           {
            "marker": {
             "colorbar": {
              "outlinewidth": 0,
              "ticks": ""
             }
            },
            "type": "scattergl"
           }
          ],
          "scattermapbox": [
           {
            "marker": {
             "colorbar": {
              "outlinewidth": 0,
              "ticks": ""
             }
            },
            "type": "scattermapbox"
           }
          ],
          "scatterpolar": [
           {
            "marker": {
             "colorbar": {
              "outlinewidth": 0,
              "ticks": ""
             }
            },
            "type": "scatterpolar"
           }
          ],
          "scatterpolargl": [
           {
            "marker": {
             "colorbar": {
              "outlinewidth": 0,
              "ticks": ""
             }
            },
            "type": "scatterpolargl"
           }
          ],
          "scatterternary": [
           {
            "marker": {
             "colorbar": {
              "outlinewidth": 0,
              "ticks": ""
             }
            },
            "type": "scatterternary"
           }
          ],
          "surface": [
           {
            "colorbar": {
             "outlinewidth": 0,
             "ticks": ""
            },
            "colorscale": [
             [
              0,
              "#0d0887"
             ],
             [
              0.1111111111111111,
              "#46039f"
             ],
             [
              0.2222222222222222,
              "#7201a8"
             ],
             [
              0.3333333333333333,
              "#9c179e"
             ],
             [
              0.4444444444444444,
              "#bd3786"
             ],
             [
              0.5555555555555556,
              "#d8576b"
             ],
             [
              0.6666666666666666,
              "#ed7953"
             ],
             [
              0.7777777777777778,
              "#fb9f3a"
             ],
             [
              0.8888888888888888,
              "#fdca26"
             ],
             [
              1,
              "#f0f921"
             ]
            ],
            "type": "surface"
           }
          ],
          "table": [
           {
            "cells": {
             "fill": {
              "color": "#EBF0F8"
             },
             "line": {
              "color": "white"
             }
            },
            "header": {
             "fill": {
              "color": "#C8D4E3"
             },
             "line": {
              "color": "white"
             }
            },
            "type": "table"
           }
          ]
         },
         "layout": {
          "annotationdefaults": {
           "arrowcolor": "#2a3f5f",
           "arrowhead": 0,
           "arrowwidth": 1
          },
          "coloraxis": {
           "colorbar": {
            "outlinewidth": 0,
            "ticks": ""
           }
          },
          "colorscale": {
           "diverging": [
            [
             0,
             "#8e0152"
            ],
            [
             0.1,
             "#c51b7d"
            ],
            [
             0.2,
             "#de77ae"
            ],
            [
             0.3,
             "#f1b6da"
            ],
            [
             0.4,
             "#fde0ef"
            ],
            [
             0.5,
             "#f7f7f7"
            ],
            [
             0.6,
             "#e6f5d0"
            ],
            [
             0.7,
             "#b8e186"
            ],
            [
             0.8,
             "#7fbc41"
            ],
            [
             0.9,
             "#4d9221"
            ],
            [
             1,
             "#276419"
            ]
           ],
           "sequential": [
            [
             0,
             "#0d0887"
            ],
            [
             0.1111111111111111,
             "#46039f"
            ],
            [
             0.2222222222222222,
             "#7201a8"
            ],
            [
             0.3333333333333333,
             "#9c179e"
            ],
            [
             0.4444444444444444,
             "#bd3786"
            ],
            [
             0.5555555555555556,
             "#d8576b"
            ],
            [
             0.6666666666666666,
             "#ed7953"
            ],
            [
             0.7777777777777778,
             "#fb9f3a"
            ],
            [
             0.8888888888888888,
             "#fdca26"
            ],
            [
             1,
             "#f0f921"
            ]
           ],
           "sequentialminus": [
            [
             0,
             "#0d0887"
            ],
            [
             0.1111111111111111,
             "#46039f"
            ],
            [
             0.2222222222222222,
             "#7201a8"
            ],
            [
             0.3333333333333333,
             "#9c179e"
            ],
            [
             0.4444444444444444,
             "#bd3786"
            ],
            [
             0.5555555555555556,
             "#d8576b"
            ],
            [
             0.6666666666666666,
             "#ed7953"
            ],
            [
             0.7777777777777778,
             "#fb9f3a"
            ],
            [
             0.8888888888888888,
             "#fdca26"
            ],
            [
             1,
             "#f0f921"
            ]
           ]
          },
          "colorway": [
           "#636efa",
           "#EF553B",
           "#00cc96",
           "#ab63fa",
           "#FFA15A",
           "#19d3f3",
           "#FF6692",
           "#B6E880",
           "#FF97FF",
           "#FECB52"
          ],
          "font": {
           "color": "#2a3f5f"
          },
          "geo": {
           "bgcolor": "white",
           "lakecolor": "white",
           "landcolor": "#E5ECF6",
           "showlakes": true,
           "showland": true,
           "subunitcolor": "white"
          },
          "hoverlabel": {
           "align": "left"
          },
          "hovermode": "closest",
          "mapbox": {
           "style": "light"
          },
          "paper_bgcolor": "white",
          "plot_bgcolor": "#E5ECF6",
          "polar": {
           "angularaxis": {
            "gridcolor": "white",
            "linecolor": "white",
            "ticks": ""
           },
           "bgcolor": "#E5ECF6",
           "radialaxis": {
            "gridcolor": "white",
            "linecolor": "white",
            "ticks": ""
           }
          },
          "scene": {
           "xaxis": {
            "backgroundcolor": "#E5ECF6",
            "gridcolor": "white",
            "gridwidth": 2,
            "linecolor": "white",
            "showbackground": true,
            "ticks": "",
            "zerolinecolor": "white"
           },
           "yaxis": {
            "backgroundcolor": "#E5ECF6",
            "gridcolor": "white",
            "gridwidth": 2,
            "linecolor": "white",
            "showbackground": true,
            "ticks": "",
            "zerolinecolor": "white"
           },
           "zaxis": {
            "backgroundcolor": "#E5ECF6",
            "gridcolor": "white",
            "gridwidth": 2,
            "linecolor": "white",
            "showbackground": true,
            "ticks": "",
            "zerolinecolor": "white"
           }
          },
          "shapedefaults": {
           "line": {
            "color": "#2a3f5f"
           }
          },
          "ternary": {
           "aaxis": {
            "gridcolor": "white",
            "linecolor": "white",
            "ticks": ""
           },
           "baxis": {
            "gridcolor": "white",
            "linecolor": "white",
            "ticks": ""
           },
           "bgcolor": "#E5ECF6",
           "caxis": {
            "gridcolor": "white",
            "linecolor": "white",
            "ticks": ""
           }
          },
          "title": {
           "x": 0.05
          },
          "xaxis": {
           "automargin": true,
           "gridcolor": "white",
           "linecolor": "white",
           "ticks": "",
           "title": {
            "standoff": 15
           },
           "zerolinecolor": "white",
           "zerolinewidth": 2
          },
          "yaxis": {
           "automargin": true,
           "gridcolor": "white",
           "linecolor": "white",
           "ticks": "",
           "title": {
            "standoff": 15
           },
           "zerolinecolor": "white",
           "zerolinewidth": 2
          }
         }
        },
        "title": {
         "text": "Comparison of text length in Tweets "
        }
       }
      },
      "text/html": [
       "<div>\n",
       "        \n",
       "        \n",
       "            <div id=\"f16fbc29-e2db-4666-8d54-07cba5d06596\" class=\"plotly-graph-div\" style=\"height:525px; width:100%;\"></div>\n",
       "            <script type=\"text/javascript\">\n",
       "                require([\"plotly\"], function(Plotly) {\n",
       "                    window.PLOTLYENV=window.PLOTLYENV || {};\n",
       "                    \n",
       "                if (document.getElementById(\"f16fbc29-e2db-4666-8d54-07cba5d06596\")) {\n",
       "                    Plotly.newPlot(\n",
       "                        'f16fbc29-e2db-4666-8d54-07cba5d06596',\n",
       "                        [{\"name\": \"Fake\", \"type\": \"box\", \"y\": [14, 13, 16, 17, 28, 22, 17, 11, 21, 8, 30, 21, 18, 9, 18, 8, 67, 34, 76, 122, 22, 114, 61, 120, 44, 92, 96, 63, 114, 138, 134, 130, 124, 119, 85, 135, 98, 80, 85, 140, 129, 139, 90, 67, 142, 80, 46, 138, 53, 139, 49, 110, 138, 73, 138, 53, 125, 69, 83, 60, 109, 34, 138, 138, 138, 54, 138, 138, 139, 123, 136, 72, 130, 128, 132, 110, 135, 61, 27, 34, 114, 101, 78, 136, 80, 71, 126, 68, 104, 85, 103, 89, 72, 34, 83, 103, 121, 109, 103, 103, 133, 47, 102, 97, 64, 120, 69, 101, 110, 43, 110, 127, 105, 82, 90, 24, 94, 89, 125, 123, 86, 78, 140, 122, 73, 139, 133, 136, 138, 46, 115, 62, 138, 123, 139, 118, 138, 84, 92, 139, 124, 148, 144, 140, 139, 139, 95, 87, 139, 46, 49, 126, 17, 99, 120, 36, 65, 25, 142, 139, 133, 142, 73, 88, 97, 82, 134, 140, 114, 70, 138, 133, 91, 94, 120, 35, 65, 65, 116, 78, 133, 78, 132, 110, 125, 133, 96, 103, 120, 27, 140, 135, 131, 107, 107, 139, 134, 81, 44, 126, 41, 136, 141, 63, 102, 136, 138, 122, 83, 89, 103, 98, 89, 89, 103, 102, 127, 107, 73, 139, 103, 140, 103, 89, 103, 84, 97, 138, 137, 89, 88, 89, 88, 139, 137, 137, 103, 97, 117, 31, 18, 107, 58, 139, 101, 23, 127, 107, 80, 97, 59, 21, 98, 27, 64, 136, 139, 46, 118, 39, 61, 136, 24, 98, 21, 56, 79, 107, 46, 60, 35, 48, 136, 120, 100, 63, 90, 95, 69, 137, 45, 133, 77, 56, 17, 40, 127, 28, 47, 122, 133, 67, 42, 130, 136, 89, 133, 80, 53, 112, 92, 34, 125, 102, 60, 131, 126, 117, 131, 99, 114, 96, 131, 117, 121, 116, 138, 106, 128, 73, 49, 79, 81, 114, 52, 97, 120, 133, 138, 84, 136, 138, 49, 75, 44, 88, 88, 79, 30, 137, 54, 44, 126, 106, 138, 123, 83, 138, 104, 95, 139, 112, 135, 106, 107, 107, 83, 138, 84, 98, 140, 141, 136, 124, 26, 136, 140, 129, 26, 139, 23, 44, 92, 131, 38, 22, 120, 137, 47, 40, 80, 19, 92, 125, 140, 39, 77, 125, 75, 38, 61, 118, 118, 59, 93, 100, 93, 76, 125, 110, 29, 33, 140, 76, 91, 135, 139, 139, 68, 120, 86, 141, 41, 70, 105, 79, 127, 95, 43, 129, 121, 123, 56, 18, 95, 37, 139, 96, 104, 32, 96, 139, 136, 139, 79, 85, 81, 64, 62, 127, 59, 97, 132, 86, 78, 96, 44, 39, 58, 121, 45, 57, 43, 67, 90, 139, 76, 59, 55, 68, 115, 110, 35, 32, 55, 80, 46, 50, 72, 51, 99, 91, 134, 112, 138, 118, 52, 54, 73, 125, 26, 35, 116, 143, 59, 117, 22, 91, 37, 31, 75, 87, 140, 54, 26, 26, 126, 86, 136, 139, 19, 12, 140, 87, 84, 89, 115, 95, 139, 49, 138, 114, 119, 59, 41, 62, 68, 117, 106, 51, 139, 130, 130, 126, 138, 64, 34, 125, 49, 111, 38, 137, 139, 71, 28, 117, 20, 61, 48, 51, 65, 72, 140, 100, 55, 41, 65, 33, 73, 34, 68, 34, 32, 41, 88, 66, 74, 68, 132, 24, 14, 62, 86, 122, 134, 108, 92, 31, 73, 120, 121, 74, 54, 65, 94, 114, 37, 32, 53, 99, 58, 74, 23, 97, 118, 26, 88, 119, 35, 128, 70, 46, 33, 121, 90, 68, 88, 79, 144, 49, 97, 95, 121, 140, 15, 37, 144, 123, 93, 118, 55, 138, 53, 58, 134, 42, 67, 105, 80, 122, 112, 85, 127, 121, 139, 46, 20, 32, 122, 65, 46, 129, 134, 129, 110, 97, 142, 121, 137, 101, 82, 120, 113, 131, 138, 35, 66, 30, 92, 136, 139, 139, 138, 114, 137, 133, 133, 108, 115, 137, 139, 97, 139, 136, 139, 139, 116, 129, 97, 139, 133, 139, 55, 139, 130, 139, 139, 133, 129, 48, 139, 123, 101, 68, 33, 122, 138, 86, 85, 51, 48, 132, 86, 82, 104, 71, 84, 113, 77, 85, 138, 132, 139, 123, 56, 101, 139, 60, 45, 72, 132, 83, 121, 99, 38, 81, 100, 119, 34, 116, 136, 99, 132, 126, 121, 36, 83, 139, 114, 18, 114, 144, 120, 125, 39, 66, 122, 138, 66, 56, 35, 132, 138, 132, 124, 35, 138, 108, 144, 125, 125, 138, 70, 35, 37, 78, 64, 87, 45, 107, 49, 35, 45, 57, 43, 35, 88, 137, 44, 138, 37, 82, 55, 40, 130, 138, 43, 96, 77, 140, 135, 126, 67, 113, 86, 73, 31, 31, 63, 54, 105, 136, 136, 138, 140, 105, 87, 47, 131, 93, 69, 129, 86, 82, 97, 117, 64, 122, 94, 135, 140, 139, 124, 79, 136, 138, 19, 39, 157, 132, 132, 136, 70, 113, 41, 75, 63, 44, 139, 85, 83, 52, 111, 95, 112, 61, 103, 52, 50, 87, 106, 140, 114, 135, 59, 72, 138, 89, 57, 124, 136, 93, 86, 75, 47, 115, 40, 112, 94, 133, 102, 140, 84, 93, 140, 95, 118, 140, 131, 132, 111, 125, 129, 115, 139, 113, 96, 116, 130, 130, 126, 112, 112, 127, 130, 108, 135, 138, 103, 110, 58, 60, 139, 126, 116, 131, 36, 137, 88, 107, 117, 36, 123, 62, 31, 97, 32, 111, 45, 87, 136, 139, 122, 105, 140, 50, 140, 133, 128, 99, 21, 93, 106, 140, 102, 86, 136, 133, 74, 74, 98, 118, 138, 135, 74, 128, 87, 77, 112, 143, 123, 135, 62, 135, 136, 126, 136, 114, 107, 140, 124, 138, 138, 138, 139, 138, 88, 138, 114, 107, 137, 102, 136, 138, 111, 143, 135, 107, 121, 68, 58, 132, 136, 46, 60, 46, 98, 79, 34, 114, 29, 140, 124, 64, 27, 59, 98, 60, 72, 131, 77, 86, 108, 131, 137, 137, 70, 100, 90, 127, 111, 96, 135, 92, 98, 88, 96, 73, 113, 133, 136, 76, 83, 129, 132, 135, 138, 138, 139, 85, 135, 89, 46, 109, 44, 128, 136, 128, 130, 44, 123, 143, 93, 69, 46, 73, 18, 133, 110, 53, 80, 113, 45, 117, 138, 130, 55, 42, 98, 63, 59, 128, 52, 125, 129, 130, 52, 83, 140, 93, 108, 137, 117, 113, 108, 102, 57, 88, 120, 139, 138, 91, 120, 136, 127, 123, 75, 130, 141, 25, 64, 137, 138, 125, 132, 90, 61, 135, 93, 82, 88, 64, 75, 63, 137, 136, 53, 108, 124, 78, 104, 57, 109, 45, 33, 122, 73, 131, 142, 116, 114, 80, 109, 45, 66, 108, 79, 104, 61, 95, 37, 119, 110, 37, 128, 101, 95, 132, 80, 105, 53, 62, 101, 39, 108, 64, 47, 27, 52, 73, 45, 50, 43, 99, 45, 75, 137, 58, 82, 69, 42, 73, 81, 77, 78, 51, 77, 84, 105, 64, 66, 27, 7, 35, 26, 41, 35, 119, 125, 19, 46, 39, 88, 96, 121, 90, 54, 104, 33, 37, 96, 73, 105, 52, 128, 140, 55, 75, 137, 79, 32, 33, 142, 97, 88, 43, 49, 63, 142, 65, 44, 104, 41, 43, 74, 42, 139, 88, 58, 111, 139, 130, 142, 127, 48, 27, 98, 40, 132, 70, 68, 60, 142, 139, 136, 106, 52, 117, 57, 140, 78, 71, 123, 127, 106, 38, 129, 99, 52, 139, 55, 56, 62, 82, 140, 71, 127, 135, 133, 26, 91, 140, 122, 135, 34, 58, 146, 133, 44, 136, 140, 131, 125, 113, 116, 139, 67, 136, 47, 104, 63, 138, 134, 115, 111, 97, 109, 88, 102, 115, 43, 95, 141, 138, 56, 131, 69, 139, 68, 101, 80, 34, 84, 141, 122, 41, 44, 132, 140, 92, 66, 41, 142, 76, 24, 100, 83, 140, 120, 35, 50, 108, 80, 136, 17, 87, 118, 97, 96, 70, 24, 99, 70, 51, 139, 39, 109, 112, 81, 44, 110, 77, 49, 32, 144, 138, 133, 139, 62, 130, 31, 138, 138, 144, 92, 130, 84, 72, 94, 138, 46, 138, 107, 85, 136, 124, 63, 102, 133, 112, 130, 121, 57, 97, 105, 140, 89, 80, 137, 119, 75, 39, 140, 140, 134, 143, 136, 135, 87, 141, 132, 139, 87, 88, 132, 132, 137, 132, 132, 132, 139, 101, 108, 132, 132, 132, 136, 99, 132, 132, 100, 136, 105, 136, 141, 101, 136, 135, 46, 79, 105, 85, 121, 56, 59, 36, 117, 131, 138, 53, 85, 56, 83, 137, 132, 131, 138, 139, 113, 148, 83, 92, 33, 69, 137, 79, 135, 43, 53, 138, 60, 89, 29, 138, 69, 139, 86, 138, 75, 51, 63, 117, 73, 138, 56, 88, 129, 58, 107, 114, 64, 137, 43, 35, 131, 91, 137, 139, 124, 77, 108, 68, 131, 99, 138, 103, 85, 118, 140, 136, 141, 140, 104, 146, 112, 142, 140, 132, 134, 62, 83, 140, 140, 136, 114, 121, 133, 91, 81, 140, 129, 135, 35, 115, 107, 73, 130, 110, 117, 138, 83, 126, 85, 114, 92, 73, 124, 133, 132, 109, 117, 13, 65, 111, 131, 137, 69, 111, 90, 100, 131, 139, 103, 85, 109, 139, 124, 65, 120, 72, 95, 104, 140, 108, 121, 138, 136, 89, 124, 131, 115, 137, 83, 74, 112, 34, 132, 129, 42, 102, 139, 79, 68, 114, 130, 137, 96, 100, 73, 120, 128, 45, 98, 119, 124, 97, 80, 66, 17, 46, 143, 121, 78, 25, 135, 126, 139, 78, 96, 106, 137, 130, 26, 37, 94, 106, 106, 134, 106, 86, 34, 113, 84, 120, 106, 129, 116, 105, 125, 111, 106, 116, 136, 64, 137, 136, 92, 140, 67, 102, 86, 47, 134, 55, 108, 136, 73, 84, 62, 136, 61, 110, 136, 39, 51, 138, 114, 38, 51, 99, 59, 91, 101, 58, 101, 60, 78, 97, 58, 87, 32, 64, 99, 99, 62, 73, 55, 82, 108, 134, 101, 89, 83, 99, 124, 122, 118, 101, 100, 99, 136, 95, 108, 118, 79, 94, 101, 139, 107, 118, 85, 119, 124, 139, 114, 139, 125, 101, 113, 39, 133, 70, 87, 114, 109, 32, 65, 34, 25, 70, 129, 135, 117, 138, 136, 68, 138, 122, 101, 102, 52, 40, 109, 56, 42, 64, 125, 42, 52, 34, 133, 60, 109, 95, 143, 122, 93, 133, 106, 89, 131, 136, 134, 134, 76, 89, 71, 136, 108, 99, 106, 56, 48, 85, 77, 132, 78, 140, 117, 42, 115, 89, 93, 23, 90, 57, 60, 63, 43, 46, 90, 49, 145, 36, 45, 43, 127, 65, 53, 136, 116, 90, 132, 97, 47, 139, 111, 123, 49, 136, 55, 103, 143, 135, 118, 76, 136, 38, 81, 55, 65, 121, 112, 138, 79, 31, 133, 136, 102, 32, 138, 138, 138, 100, 131, 138, 61, 28, 65, 96, 100, 52, 139, 39, 138, 131, 38, 139, 135, 27, 116, 98, 45, 59, 134, 95, 125, 65, 94, 118, 140, 94, 129, 133, 94, 117, 94, 77, 136, 53, 97, 80, 135, 135, 23, 29, 73, 137, 48, 114, 105, 128, 69, 20, 27, 62, 34, 91, 74, 54, 132, 51, 92, 108, 109, 81, 22, 117, 38, 117, 117, 126, 117, 38, 119, 70, 85, 95, 56, 141, 57, 140, 69, 111, 72, 101, 89, 123, 132, 103, 64, 120, 89, 39, 100, 103, 83, 134, 76, 139, 17, 139, 90, 104, 108, 135, 125, 140, 138, 59, 86, 135, 136, 139, 113, 97, 110, 111, 102, 135, 59, 112, 127, 102, 140, 107, 84, 91, 111, 68, 93, 134, 131, 122, 142, 134, 101, 137, 137, 88, 113, 117, 138, 109, 134, 136, 141, 137, 132, 130, 142, 104, 127, 138, 126, 141, 123, 106, 56, 102, 123, 34, 100, 51, 103, 102, 130, 123, 137, 98, 100, 123, 102, 101, 103, 121, 66, 68, 120, 70, 50, 134, 74, 120, 138, 69, 87, 116, 44, 66, 87, 79, 78, 138, 44, 96, 24, 99, 136, 138, 112, 114, 73, 87, 132, 111, 112, 104, 98, 140, 114, 54, 143, 78, 124, 84, 131, 99, 143, 62, 96, 111, 68, 43, 33, 121, 143, 126, 108, 25, 143, 26, 76, 130, 94, 72, 138, 143, 65, 29, 143, 78, 24, 44, 57, 111, 139, 133, 146, 137, 79, 92, 76, 139, 137, 108, 79, 76, 36, 52, 100, 76, 129, 24, 131, 137, 62, 75, 137, 139, 139, 73, 76, 97, 128, 92, 139, 140, 95, 139, 139, 124, 113, 132, 120, 139, 126, 139, 134, 126, 31, 82, 119, 136, 130, 130, 124, 109, 135, 113, 113, 112, 61, 138, 137, 113, 108, 132, 130, 47, 94, 138, 44, 72, 141, 139, 139, 105, 67, 83, 93, 79, 79, 64, 48, 82, 73, 69, 74, 118, 52, 101, 61, 16, 123, 91, 111, 107, 135, 48, 106, 139, 53, 45, 112, 73, 76, 138, 58, 134, 83, 124, 83, 124, 59, 129, 130, 68, 9, 8, 125, 33, 46, 108, 47, 38, 26, 33, 138, 36, 40, 72, 25, 97, 64, 130, 126, 130, 13, 80, 36, 83, 137, 88, 128, 61, 81, 132, 138, 64, 140, 132, 120, 37, 140, 114, 38, 66, 98, 99, 32, 38, 140, 97, 90, 72, 139, 138, 35, 111, 138, 105, 140, 20, 134, 118, 95, 134, 43, 31, 78, 46, 79, 50, 10, 36, 135, 127, 138, 52, 35, 30, 64, 136, 49, 115, 78, 77, 104, 23, 57, 76, 113, 121, 46, 126, 141, 123, 103, 39, 50, 111, 101, 97, 68, 140, 132, 139, 140, 130, 87, 124, 78, 130, 103, 116, 112, 117, 92, 105, 139, 139, 109, 44, 87, 138, 37, 97, 48, 45, 45, 64, 139, 124, 140, 50, 134, 102, 69, 36, 87, 115, 104, 105, 109, 82, 71, 94, 106, 47, 42, 47, 33, 70, 122, 127, 116, 80, 31, 140, 105, 60, 33, 130, 133, 133, 128, 135, 30, 39, 139, 131, 139, 115, 139, 88, 139, 139, 126, 131, 139, 22, 139, 68, 145, 126, 137, 139, 139, 139, 139, 139, 139, 139, 139, 130, 134, 65, 138, 86, 76, 105, 84, 52, 42, 77, 40, 143, 126, 143, 135, 137, 91, 96, 112, 137, 125, 137, 94, 138, 70, 97, 136, 87, 92, 96, 53, 40, 60, 72, 102, 44, 80, 96, 113, 133, 113, 29, 33, 39, 105, 131, 67, 29, 114, 49, 97, 98, 94, 39, 118, 98, 134, 85, 65, 107, 51, 129, 120, 90, 56, 136, 143, 112, 80, 144, 132, 138, 35, 140, 57, 90, 92, 58, 112, 88, 82, 51, 84, 137, 101, 132, 140, 63, 56, 96, 137, 138, 142, 82, 115, 108, 62, 19, 128, 81, 68, 121, 126, 49, 84, 82, 106, 76, 139, 140, 136, 125, 123, 97, 73, 73, 110, 131, 93, 128, 105, 65, 121, 78, 133, 74, 135, 137, 139, 140, 51, 64, 117, 135, 137, 86, 36, 119, 94, 111, 121, 131, 49, 97, 114, 100, 114, 100, 120, 70, 138, 120, 107, 107, 130, 38, 58, 78, 138, 133, 80, 132, 120, 114, 114, 130, 107, 114, 107, 100, 50, 55, 124, 123, 137, 96, 119, 87, 133, 84, 97, 132, 119, 82, 42, 114, 37, 135, 127, 134, 122, 128, 105, 108, 108, 100, 117, 108, 108, 133, 103, 94, 109, 109, 114, 108, 87, 109, 119, 119, 119, 119, 119, 119, 119, 85, 119, 119, 130, 119, 119, 119, 138, 121, 140, 70, 120, 23, 89, 117, 44, 136, 59, 69, 136, 114, 67, 137, 43, 140, 113, 57, 138, 88, 97, 133, 131, 126, 114, 115, 66, 93, 45, 40, 42, 139, 93, 55, 75, 122, 33, 71, 87, 139, 56, 139, 21, 140, 66, 74, 131, 66, 46, 120, 72, 110, 28, 136, 48, 50, 141, 111, 129, 107, 128, 120, 50, 133, 98, 133, 138, 107, 94, 124, 84, 131, 78, 79, 134, 87, 85, 46, 70, 122, 120, 115, 95, 142, 98, 123, 133, 140, 113, 98, 126, 133, 89, 76, 88, 122, 87, 61, 115, 138, 98, 82, 127, 98, 139, 74, 137, 58, 108, 130, 134, 137, 101, 75, 139, 79, 138, 129, 139, 122, 61, 134, 111, 95, 128, 127, 144, 40, 138, 139, 140, 136, 133, 138, 136, 110, 138, 77, 126, 67, 77, 39, 58, 136, 50, 88, 54, 137, 136, 138, 71, 85, 111, 139, 137, 115, 61, 68, 140, 142, 76, 140, 67, 131, 67, 82, 139, 114, 129, 115, 54, 67, 116, 22, 40, 80, 132, 48, 139, 87, 16, 104, 11, 118, 53, 139, 138, 139, 35, 76, 126, 139, 103, 145, 90, 92, 29, 123, 107, 100, 71, 55, 66, 28, 109, 130, 105, 134, 136, 78, 60, 133, 134, 135, 139, 140, 110, 139, 67, 138, 124, 90, 137, 138, 133, 152, 135, 137, 58, 131, 136, 68, 134, 82, 100, 92, 135, 142, 135, 40, 126, 110, 136, 47, 139, 98, 71, 137, 81, 76, 108, 51, 123, 134, 129, 7, 27, 140, 61, 117, 113, 106, 62, 121, 62, 115, 44, 126, 65, 126, 116, 19, 41, 135, 135, 32, 85, 76, 145, 126, 70, 129, 116, 139, 115, 83, 126, 90, 87, 135, 142, 110, 60, 92, 127, 136, 68, 39, 135, 87, 127, 136, 138, 133, 45, 104, 92, 76, 24, 109, 130, 91, 43, 46, 140, 8, 94, 78, 132, 88, 122, 140, 108, 109, 94, 136, 134, 108, 98, 111, 114, 142, 135, 111, 110, 138, 111, 111, 90, 137, 136, 132, 134, 120, 63, 56, 106, 42, 69, 100, 103, 48, 49, 110, 59, 135, 49, 77, 95, 117, 94, 61, 41, 26, 45, 74, 99, 34, 52, 64, 104, 118, 72, 140, 82, 138, 88, 116, 74, 115, 142, 111, 115, 72, 129, 106, 126, 120, 7, 140, 87, 92, 109, 140, 54, 95, 64, 133, 89, 72, 99, 51, 55, 96, 113, 138, 82, 111, 98, 62, 136, 140, 144, 140, 64, 139, 70, 138, 53, 80, 60, 86, 28, 119, 46, 81, 76, 102, 135, 82, 121, 126, 110, 91, 139, 110, 135, 64, 46, 11, 87, 69, 27, 106, 140, 101, 84, 92, 139, 127, 122, 128, 30, 84, 34, 80, 50, 61, 83, 84, 104, 139, 58, 36, 117, 82, 95, 125, 143, 135, 135, 76, 76, 79, 96, 44, 78, 76, 139, 128, 138, 138, 77, 95, 124, 72, 95, 135, 139, 38, 124, 34, 104, 125, 136, 108, 94, 120, 86, 43, 86, 71, 113, 95, 71, 88, 146, 88, 133, 59, 91, 88, 88, 65, 109, 103, 63, 108, 128, 134, 16, 43, 71, 133, 130, 66, 76, 128, 48, 46, 136, 116, 91, 68, 96, 94, 121, 92, 88, 81, 147, 131, 134, 22, 138, 61, 133, 136, 75, 102, 132, 93, 32, 25, 132, 60, 43, 78, 71, 55, 23, 98, 130, 78, 71, 66, 72, 131, 95, 93, 59, 117, 114, 49, 89, 100, 85, 66, 27, 124, 103, 66, 62, 65, 103, 73, 141, 111, 76, 136, 90, 138, 102, 135, 62, 83, 139, 95, 138, 128, 127, 67, 109, 113, 121, 116, 80, 136, 113, 80, 67, 122, 136, 136, 84, 78, 106, 140, 67, 125, 136, 135, 136, 67, 67, 91, 113, 99, 67, 92, 124, 133, 137, 124, 136, 136, 114, 69, 137, 63, 82, 124, 137, 124, 141, 138, 136, 137, 142, 124, 132, 124, 136, 85, 137, 133, 103, 130, 50, 94, 112, 119, 97, 100, 102, 111, 25, 68, 128, 29, 136, 112, 70, 78, 138, 109, 105, 119, 139, 135, 123, 136, 136, 92, 131, 139, 121, 141, 59, 121, 139, 66, 113, 137, 137, 113, 112, 48, 59, 105, 105, 104, 82, 97, 58, 79, 71, 113, 138, 106, 113, 110, 45, 137, 78, 89, 112, 140, 107, 113, 67, 79, 130, 143, 124, 129, 71, 128, 131, 135, 66, 134, 120, 122, 92, 91, 96, 135, 75, 128, 141, 95, 136, 117, 95, 78, 116, 113, 141, 138, 142, 105, 124, 135, 66, 137, 59, 137, 43, 59, 143, 109, 94, 87, 28, 76, 67, 137, 117, 99, 138, 113, 138, 145, 138, 95, 138, 142, 80, 96, 138, 31, 129, 92, 138, 82, 95, 122, 83, 22, 47, 138, 41, 75, 72, 25, 117, 101, 110, 38, 85, 51, 63, 83, 83, 97, 36, 112, 78, 43, 32, 109, 40, 102, 54, 99, 94, 54, 141, 74, 114, 31, 42, 81, 139, 66, 61, 87, 46, 44, 65, 90, 59, 78, 139, 65, 79, 106, 119, 52, 66, 85, 130, 87, 79, 110, 81, 128, 118, 134, 114, 127, 71, 86, 53, 50, 140, 87, 89, 39, 50, 134, 47, 87, 63, 133, 32, 24, 44, 109, 59, 58, 57, 68, 134, 60, 25, 19, 63, 117, 123, 117, 80, 66, 59, 47, 73, 98, 138, 37, 55, 40, 58, 72, 143, 47, 56, 26, 119, 35, 20, 32, 133, 135, 80, 78, 60, 47, 31, 31, 77, 23, 70, 74, 47, 77, 97, 48, 77, 54, 120, 59, 64, 83, 11, 47, 136, 134, 123, 118, 136, 84, 125, 101, 88, 121, 122, 63, 130, 101, 139, 83, 136, 139, 90, 115, 138, 90, 129, 67, 136, 88, 128, 68, 112, 109, 136, 129, 101, 86, 137, 129, 91, 130, 67, 100, 35, 104, 129, 98, 72, 138, 95, 139, 78, 65, 130, 130, 129, 109, 104, 131, 109, 70, 36, 41, 109, 80, 103, 140, 20, 47, 100, 40, 142, 128, 129, 86, 79, 119, 52, 140, 87, 54, 61, 97, 130, 136, 136, 72, 143, 50, 60, 45, 48, 45, 126, 128, 44, 81, 106, 64, 141, 104, 93, 26, 70, 14, 35, 127, 43, 118, 37, 128, 29, 62, 90, 129, 79, 89, 81, 35, 75, 120, 61, 49, 47, 22, 44, 134, 92, 95, 54, 100, 18, 78, 33, 108, 84, 38, 34, 123, 72, 93, 41, 35, 96, 35, 124, 68, 15, 62, 136, 93, 48, 78, 139, 140, 140, 50, 80, 139, 116, 111, 86, 64, 131, 134, 135, 146, 137, 15, 136, 33, 124, 115, 89, 77, 106, 69, 141, 14, 44, 135, 63, 47, 70, 97, 98, 93, 126, 64, 138, 144, 102, 100, 54, 135, 51, 98, 62, 55, 105, 62, 63, 63, 63, 111, 57, 56, 70, 91, 57, 77, 138, 100, 80, 63, 102, 125, 91, 121, 101, 139, 132, 134, 131, 52, 128, 133, 132, 123, 20, 121, 87, 70, 89, 78, 134, 72, 50, 94, 91, 103, 147, 53, 59, 138, 126, 90, 139, 54, 70, 109, 38, 53, 138, 138, 140, 125, 44, 52, 133, 140, 57, 106, 136, 96, 68, 96, 95, 138, 104, 34, 53, 118, 77, 127, 61, 124, 144, 67, 134, 99, 12, 126, 129, 49, 120, 34, 100, 126, 119, 138, 123, 130, 41, 63, 132, 70, 66, 79, 101, 80, 62, 130, 44, 67, 71, 147, 131, 127, 139, 79, 57, 43, 25, 135, 118, 127, 122, 97, 137, 90, 120, 120, 114, 64, 94, 102, 109, 132, 120, 100, 43, 30, 101, 28, 76, 70, 142, 124, 137, 85, 138, 80, 81, 128, 139, 53, 112, 60, 31, 82, 25, 72, 107, 38, 116, 27, 71, 40, 102, 51, 51, 116, 134, 137, 43, 45, 16, 34, 102, 137, 31, 10, 58, 51, 89, 91, 134, 111, 104, 29, 75, 33, 82, 92, 39, 90, 97, 118, 127, 40, 104, 104, 125, 26, 89, 45, 91, 114, 109, 78, 81, 59, 142, 128, 81, 65, 106, 120, 140, 138, 54, 128, 60, 39, 84, 95, 136, 53, 137, 77, 113, 137, 54, 130, 137, 77, 136, 28, 112, 136, 101, 91, 135, 136, 77, 77, 105, 120, 140, 123, 83, 49, 68, 122, 139, 102, 138, 68, 126, 43, 84, 124, 139, 106, 117, 112, 110, 116, 73, 19, 71, 83, 72, 128, 34, 30, 108, 87, 60, 25, 111, 44, 28, 92, 133, 94, 135, 121, 123, 86, 135, 68, 136, 52, 89, 74, 69, 63, 84, 77, 88, 136, 108, 135, 12, 44, 50, 99, 87, 122, 85, 147, 71, 46, 75, 81, 129, 92, 107, 70, 64, 126, 132, 80, 140, 58, 69, 18, 146, 73, 29, 69, 133, 43, 96, 133, 23, 121, 80, 35, 38, 29, 140, 86, 122, 96, 28, 138, 18, 34, 105, 148, 67, 84, 136, 75, 39, 55, 121, 52, 136, 81, 139, 128, 111, 93, 62, 54, 34, 123, 100, 69, 138, 49, 96, 117, 57, 34, 122, 29, 137, 122, 91, 127, 131, 80, 140, 79, 129, 41, 82, 98, 138, 134, 125, 75, 139, 103, 138, 79, 79, 67, 100, 99, 86, 80, 80, 117, 122, 135, 122, 136, 132, 77, 87, 117, 129, 137, 104, 139, 119, 66, 135, 140, 136, 142, 132, 132, 132, 143, 120, 67, 38, 113, 123, 89, 90, 31, 60, 87, 99, 61, 108, 47, 93, 48, 134, 82, 36, 107, 73, 134, 105, 95, 33, 130, 19, 96, 121, 77, 81, 109, 54, 56, 51, 106, 34, 120, 130, 62, 109, 124, 123, 42, 19, 56, 121, 122, 118, 102, 113, 129, 132, 69, 29, 139, 102, 144, 100, 137, 127, 130, 129, 123, 138, 129, 88, 129, 138, 133, 36, 122, 138, 80, 88, 140, 129, 128, 41, 122, 100, 147, 132, 110, 139, 18, 139, 140, 112, 68, 107, 51, 143, 133, 142, 78, 140, 140, 140, 72, 51, 130, 138, 95, 52, 125, 51, 90, 102, 95, 77, 84, 84, 73, 136, 95, 140, 75, 69, 96, 136, 98, 132, 140, 107, 58, 134, 136, 138, 95, 69, 52, 128, 74, 134, 139, 68, 71, 88, 119, 139, 80, 128, 134, 44, 18, 137, 139, 73, 66, 84, 123, 120, 106, 52, 101, 92, 128, 123, 76, 12, 107, 79, 69, 85, 102, 101, 140, 84, 124, 136, 123, 45, 120, 33, 68, 74, 140, 121, 110, 114, 130, 78, 85, 136, 138, 45, 101, 41, 109, 129, 93, 100, 120, 87, 97, 46, 94, 118, 112, 46, 70, 40, 38, 29, 26, 25, 117, 48, 96, 17, 137, 91, 88, 70, 80, 63, 51, 49, 107, 48, 107, 93, 104, 80, 127, 18, 60]}, {\"name\": \"Real\", \"type\": \"box\", \"y\": [69, 38, 133, 65, 88, 110, 95, 59, 79, 52, 43, 129, 76, 39, 56, 55, 82, 55, 140, 97, 73, 75, 95, 135, 97, 138, 138, 76, 98, 123, 139, 35, 90, 67, 95, 91, 98, 132, 79, 136, 67, 142, 128, 47, 57, 93, 79, 49, 138, 136, 97, 124, 136, 136, 136, 104, 110, 75, 84, 135, 97, 140, 136, 95, 136, 126, 87, 83, 70, 138, 80, 136, 136, 129, 136, 75, 112, 136, 26, 87, 62, 136, 116, 110, 138, 106, 136, 87, 124, 107, 110, 73, 110, 87, 66, 96, 110, 110, 110, 98, 98, 110, 43, 136, 136, 106, 131, 135, 42, 128, 134, 136, 111, 120, 41, 85, 139, 138, 91, 148, 87, 123, 138, 96, 139, 115, 49, 137, 106, 113, 28, 137, 98, 34, 99, 91, 136, 141, 96, 103, 104, 118, 135, 123, 100, 136, 105, 105, 85, 73, 79, 81, 136, 48, 115, 135, 136, 105, 105, 81, 100, 110, 105, 85, 47, 64, 67, 85, 141, 80, 89, 91, 107, 101, 48, 123, 113, 80, 94, 115, 80, 127, 102, 109, 108, 88, 115, 138, 112, 106, 144, 141, 112, 101, 127, 79, 117, 136, 87, 122, 122, 122, 124, 62, 122, 122, 122, 103, 122, 122, 122, 122, 122, 122, 122, 131, 122, 122, 75, 108, 70, 139, 126, 126, 96, 107, 105, 104, 112, 94, 115, 137, 136, 129, 137, 106, 126, 129, 98, 140, 138, 91, 140, 112, 83, 98, 99, 140, 112, 26, 133, 126, 151, 117, 96, 132, 137, 134, 138, 140, 56, 136, 143, 26, 138, 150, 150, 129, 61, 130, 75, 66, 101, 88, 115, 98, 68, 52, 46, 48, 76, 136, 78, 69, 135, 134, 97, 89, 40, 97, 116, 24, 48, 77, 137, 40, 129, 135, 109, 138, 134, 137, 129, 96, 25, 110, 125, 41, 104, 114, 78, 136, 87, 82, 87, 58, 135, 94, 134, 47, 136, 65, 97, 136, 132, 128, 136, 66, 135, 136, 109, 138, 121, 69, 119, 105, 116, 127, 74, 140, 93, 74, 139, 98, 99, 92, 142, 136, 140, 139, 100, 120, 135, 57, 92, 75, 79, 79, 79, 79, 144, 99, 106, 79, 92, 138, 82, 142, 140, 92, 131, 106, 136, 138, 79, 135, 117, 92, 120, 83, 123, 135, 83, 97, 110, 125, 83, 83, 114, 105, 139, 83, 83, 114, 96, 131, 83, 138, 126, 83, 84, 117, 130, 82, 119, 137, 102, 133, 78, 36, 121, 144, 103, 120, 110, 69, 88, 125, 56, 76, 137, 136, 141, 122, 131, 96, 79, 91, 74, 137, 136, 97, 121, 62, 101, 113, 141, 137, 133, 62, 127, 113, 127, 140, 66, 94, 137, 119, 136, 136, 125, 109, 140, 80, 71, 134, 101, 139, 82, 114, 115, 64, 139, 44, 18, 76, 74, 136, 136, 140, 110, 119, 127, 142, 130, 66, 56, 126, 99, 108, 82, 137, 91, 121, 115, 138, 135, 82, 139, 65, 129, 138, 91, 82, 140, 85, 128, 50, 49, 138, 68, 140, 127, 139, 105, 123, 33, 131, 135, 83, 100, 94, 136, 126, 136, 135, 81, 34, 91, 125, 133, 119, 107, 135, 129, 98, 127, 137, 112, 133, 103, 120, 137, 90, 101, 80, 135, 102, 137, 138, 108, 91, 119, 120, 136, 108, 100, 133, 138, 60, 92, 137, 133, 100, 140, 133, 139, 74, 137, 112, 112, 112, 136, 89, 112, 113, 112, 118, 91, 89, 112, 100, 112, 91, 76, 138, 91, 109, 130, 140, 142, 89, 90, 129, 138, 133, 133, 112, 89, 109, 98, 94, 139, 56, 128, 48, 110, 140, 136, 114, 71, 115, 129, 92, 138, 138, 101, 54, 54, 69, 106, 135, 53, 78, 41, 133, 110, 123, 62, 121, 138, 117, 94, 126, 66, 68, 118, 128, 55, 142, 141, 137, 92, 111, 138, 135, 87, 73, 132, 142, 109, 136, 137, 138, 92, 137, 137, 136, 136, 82, 116, 121, 136, 60, 131, 83, 87, 121, 104, 87, 108, 131, 82, 131, 136, 85, 90, 79, 128, 85, 90, 139, 134, 123, 134, 99, 137, 82, 93, 91, 85, 106, 83, 82, 102, 51, 95, 27, 136, 41, 45, 61, 70, 81, 136, 84, 137, 136, 136, 139, 88, 136, 139, 64, 121, 40, 67, 114, 119, 144, 138, 140, 101, 132, 119, 86, 49, 22, 77, 45, 54, 136, 27, 130, 140, 137, 94, 129, 100, 122, 91, 84, 96, 116, 142, 93, 61, 106, 135, 135, 96, 86, 137, 132, 122, 120, 137, 136, 102, 61, 62, 46, 127, 138, 80, 115, 97, 95, 140, 126, 27, 74, 107, 136, 113, 39, 128, 121, 121, 52, 120, 118, 40, 118, 137, 137, 136, 136, 126, 65, 68, 30, 41, 55, 49, 111, 67, 35, 107, 134, 103, 134, 103, 132, 69, 139, 142, 143, 142, 133, 94, 31, 138, 131, 96, 108, 53, 139, 133, 118, 135, 139, 73, 104, 126, 133, 140, 140, 122, 122, 98, 34, 122, 102, 124, 101, 102, 102, 134, 124, 104, 131, 79, 138, 98, 116, 123, 84, 86, 60, 116, 76, 83, 102, 136, 105, 136, 136, 110, 114, 57, 136, 136, 92, 123, 62, 132, 136, 142, 124, 94, 101, 73, 140, 132, 59, 117, 136, 105, 138, 139, 118, 127, 111, 139, 131, 116, 74, 115, 78, 123, 108, 75, 115, 83, 105, 99, 104, 84, 95, 123, 142, 119, 95, 92, 63, 44, 95, 113, 98, 119, 72, 91, 91, 95, 97, 139, 129, 132, 103, 130, 56, 140, 83, 44, 118, 142, 135, 135, 107, 140, 96, 116, 128, 141, 72, 127, 82, 136, 137, 43, 63, 101, 63, 136, 107, 146, 92, 100, 116, 128, 63, 136, 106, 136, 110, 63, 100, 136, 112, 85, 136, 101, 124, 136, 83, 135, 121, 136, 106, 102, 108, 99, 124, 128, 139, 79, 128, 135, 63, 130, 96, 136, 54, 132, 56, 125, 79, 140, 138, 138, 78, 132, 128, 32, 81, 143, 104, 139, 139, 137, 112, 138, 92, 135, 102, 135, 142, 135, 133, 92, 117, 133, 86, 108, 87, 66, 126, 57, 62, 133, 135, 90, 139, 67, 143, 126, 100, 105, 115, 100, 107, 135, 139, 99, 107, 111, 139, 118, 149, 137, 136, 87, 136, 139, 136, 139, 136, 136, 136, 54, 95, 78, 136, 67, 116, 139, 131, 135, 140, 135, 135, 81, 135, 135, 138, 135, 103, 139, 135, 143, 136, 108, 135, 135, 140, 140, 135, 137, 120, 141, 77, 135, 139, 134, 53, 113, 123, 100, 102, 126, 87, 104, 139, 124, 88, 136, 132, 134, 132, 139, 141, 133, 92, 96, 141, 114, 134, 134, 134, 116, 136, 139, 107, 136, 79, 113, 140, 123, 113, 112, 129, 135, 55, 53, 118, 140, 79, 77, 135, 62, 134, 76, 140, 115, 136, 110, 135, 93, 26, 140, 123, 137, 103, 130, 55, 58, 121, 72, 140, 132, 45, 137, 37, 81, 135, 114, 114, 98, 80, 87, 136, 90, 101, 62, 105, 81, 132, 134, 50, 53, 102, 76, 51, 128, 114, 126, 122, 102, 104, 124, 133, 140, 102, 50, 72, 98, 104, 105, 73, 25, 135, 134, 62, 120, 87, 138, 138, 128, 76, 133, 135, 111, 121, 140, 117, 135, 93, 140, 135, 110, 140, 136, 135, 135, 87, 110, 106, 99, 135, 135, 135, 76, 20, 142, 19, 107, 72, 123, 133, 86, 139, 136, 93, 99, 91, 137, 144, 135, 114, 128, 136, 139, 138, 69, 139, 92, 139, 101, 137, 138, 137, 133, 52, 136, 140, 139, 120, 119, 137, 139, 124, 139, 133, 75, 134, 107, 76, 95, 136, 136, 124, 124, 132, 136, 139, 104, 103, 93, 94, 132, 90, 96, 137, 139, 133, 136, 131, 60, 141, 138, 57, 126, 126, 140, 126, 123, 139, 117, 123, 126, 84, 130, 64, 83, 126, 126, 126, 111, 100, 134, 138, 139, 140, 110, 114, 113, 66, 81, 137, 90, 93, 114, 95, 123, 102, 88, 121, 116, 138, 85, 88, 138, 117, 112, 43, 80, 134, 130, 127, 138, 34, 101, 136, 127, 133, 137, 136, 93, 100, 137, 131, 92, 114, 95, 136, 85, 75, 138, 87, 33, 83, 118, 82, 114, 137, 136, 86, 136, 122, 77, 139, 74, 107, 119, 137, 139, 137, 134, 137, 129, 80, 136, 131, 136, 135, 127, 105, 142, 126, 92, 137, 138, 73, 100, 95, 98, 107, 49, 87, 125, 46, 79, 138, 132, 132, 115, 136, 103, 135, 84, 131, 92, 101, 98, 113, 61, 116, 137, 116, 71, 121, 58, 94, 26, 89, 132, 76, 116, 135, 116, 132, 136, 140, 104, 75, 93, 134, 135, 140, 135, 87, 138, 92, 140, 136, 87, 123, 63, 92, 119, 137, 124, 97, 140, 107, 138, 115, 140, 135, 73, 94, 92, 141, 132, 105, 136, 134, 98, 79, 110, 90, 136, 136, 93, 137, 101, 99, 136, 98, 136, 79, 136, 136, 90, 136, 136, 79, 69, 136, 136, 79, 103, 136, 135, 126, 136, 129, 84, 136, 73, 112, 95, 85, 129, 111, 115, 99, 115, 81, 117, 129, 134, 140, 124, 139, 140, 102, 22, 76, 68, 79, 97, 103, 32, 102, 80, 135, 64, 138, 136, 45, 69, 124, 42, 72, 70, 48, 122, 110, 30, 95, 80, 88, 115, 63, 135, 134, 67, 120, 104, 136, 55, 137, 76, 116, 55, 133, 116, 138, 54, 51, 62, 138, 116, 107, 132, 104, 137, 112, 102, 89, 100, 108, 134, 134, 122, 143, 134, 71, 110, 135, 129, 27, 90, 135, 135, 124, 130, 135, 135, 130, 139, 135, 22, 136, 85, 139, 85, 101, 77, 139, 138, 114, 93, 88, 128, 81, 116, 114, 136, 144, 80, 80, 139, 131, 36, 116, 107, 85, 136, 80, 123, 100, 117, 140, 113, 46, 135, 118, 136, 106, 135, 90, 137, 139, 115, 137, 134, 136, 140, 129, 65, 110, 55, 135, 134, 117, 96, 136, 81, 85, 135, 139, 105, 135, 99, 97, 89, 112, 21, 122, 135, 101, 107, 98, 53, 72, 128, 91, 42, 123, 70, 72, 137, 137, 134, 62, 138, 135, 138, 72, 139, 89, 137, 111, 97, 128, 82, 138, 110, 139, 78, 129, 104, 135, 90, 101, 135, 103, 109, 128, 125, 140, 126, 89, 127, 140, 123, 83, 140, 139, 134, 113, 32, 36, 84, 134, 142, 73, 130, 137, 101, 134, 138, 79, 111, 84, 74, 49, 82, 98, 139, 140, 97, 137, 142, 125, 88, 33, 123, 132, 103, 128, 138, 113, 136, 110, 140, 124, 76, 138, 101, 71, 92, 111, 91, 138, 133, 65, 70, 117, 78, 124, 133, 70, 70, 51, 86, 65, 83, 117, 138, 65, 125, 78, 133, 70, 78, 112, 136, 76, 79, 140, 91, 100, 33, 141, 138, 121, 66, 101, 131, 128, 115, 87, 115, 105, 113, 120, 136, 34, 111, 137, 114, 100, 117, 138, 71, 114, 114, 88, 135, 139, 122, 122, 87, 109, 136, 106, 136, 118, 101, 76, 109, 88, 101, 106, 138, 108, 104, 69, 132, 70, 108, 69, 76, 79, 113, 84, 69, 103, 88, 94, 76, 102, 73, 119, 120, 73, 147, 119, 91, 117, 95, 119, 119, 73, 102, 73, 119, 116, 111, 92, 83, 85, 104, 130, 83, 110, 83, 137, 112, 67, 125, 71, 139, 126, 126, 140, 127, 133, 105, 126, 126, 130, 139, 81, 136, 92, 140, 50, 126, 140, 139, 143, 136, 139, 103, 126, 126, 140, 136, 33, 134, 134, 56, 86, 67, 27, 17, 106, 63, 26, 85, 137, 141, 137, 136, 134, 132, 24, 75, 139, 143, 72, 116, 136, 73, 132, 115, 105, 68, 90, 131, 135, 139, 109, 137, 127, 117, 120, 138, 135, 90, 127, 135, 130, 105, 138, 116, 83, 84, 127, 135, 133, 88, 85, 93, 84, 88, 128, 93, 48, 53, 80, 80, 126, 138, 142, 110, 141, 63, 110, 141, 34, 145, 88, 139, 133, 124, 81, 140, 117, 96, 119, 133, 90, 74, 46, 114, 55, 73, 75, 88, 44, 103, 130, 105, 103, 140, 75, 100, 74, 103, 120, 139, 123, 73, 96, 101, 136, 132, 123, 131, 83, 136, 132, 120, 107, 52, 142, 127, 139, 39, 140, 86, 68, 133, 115, 137, 87, 134, 76, 135, 143, 134, 107, 44, 96, 102, 126, 110, 121, 137, 102, 136, 119, 81, 111, 140, 130, 135, 77, 132, 48, 125, 49, 139, 53, 85, 72, 87, 62, 100, 135, 137, 86, 90, 132, 138, 137, 118, 113, 120, 58, 137, 18, 118, 135, 76, 85, 131, 139, 74, 143, 137, 129, 134, 116, 87, 73, 66, 38, 57, 112, 81, 119, 138, 140, 59, 139, 139, 140, 140, 139, 60, 114, 103, 62, 117, 34, 33, 114, 25, 42, 76, 127, 134, 75, 96, 106, 43, 139, 137, 112, 116, 97, 115, 105, 130, 119, 51, 104, 137, 135, 133, 118, 145, 132, 135, 126, 81, 71, 135, 89, 142, 89, 84, 124, 144, 137, 115, 89, 124, 116, 97, 131, 133, 88, 136, 89, 89, 129, 144, 139, 137, 97, 136, 137, 113, 137, 140, 79, 143, 135, 119, 96, 113, 121, 130, 137, 98, 110, 138, 128, 84, 139, 96, 137, 86, 36, 102, 137, 98, 135, 95, 101, 85, 85, 85, 85, 85, 94, 140, 86, 134, 136, 135, 97, 85, 96, 136, 117, 136, 132, 139, 92, 79, 85, 85, 92, 91, 111, 91, 139, 85, 95, 75, 101, 136, 136, 136, 87, 119, 136, 120, 136, 139, 101, 136, 136, 136, 136, 136, 136, 136, 136, 136, 136, 136, 79, 136, 136, 136, 136, 136, 82, 136, 136, 98, 136, 136, 136, 136, 138, 136, 133, 129, 113, 88, 63, 73, 88, 84, 87, 139, 114, 78, 111, 88, 63, 113, 136, 139, 137, 100, 138, 134, 129, 113, 120, 137, 104, 125, 116, 98, 105, 112, 128, 110, 85, 136, 135, 116, 90, 68, 67, 83, 81, 137, 136, 76, 133, 96, 136, 115, 116, 88, 131, 99, 95, 101, 82, 137, 142, 130, 117, 115, 137, 118, 136, 88, 118, 140, 95, 112, 136, 140, 45, 136, 119, 71, 66, 108, 94, 100, 137, 108, 94, 94, 135, 122, 94, 94, 108, 108, 108, 108, 108, 94, 45, 94, 94, 108, 100, 93, 98, 94, 94, 94, 118, 108, 96, 108, 94, 142, 82, 116, 101, 59, 86, 89, 62, 135, 83, 139, 67, 102, 89, 86, 144, 131, 122, 79, 89, 140, 140, 87, 75, 75, 135, 96, 136, 107, 87, 60, 125, 60, 61, 65, 132, 116, 59, 69, 107, 123, 62, 140, 60, 136, 136, 136, 136, 140, 136, 136, 137, 136, 89, 136, 136, 136, 136, 136, 138, 136, 129, 139, 141, 136, 136, 136, 113, 136, 136, 96, 137, 77, 140, 137, 136, 26, 44, 91, 135, 100, 138, 135, 89, 88, 73, 109, 117, 76, 72, 128, 144, 136, 139, 55, 139, 76, 136, 137, 122, 82, 75, 134, 138, 143, 138, 96, 114, 95, 131, 92, 127, 86, 101, 95, 84, 91, 91, 91, 91, 91, 91, 91, 91, 138, 22, 91, 91, 91, 91, 140, 91, 91, 91, 91, 91, 91, 91, 91, 91, 91, 97, 91, 91, 133, 139, 104, 53, 52, 33, 50, 139, 134, 118, 113, 46, 92, 76, 124, 118, 101, 116, 118, 101, 99, 72, 141, 78, 130, 115, 73, 73, 85, 68, 147, 78, 92, 81, 129, 129, 82, 136, 81, 77, 95, 32, 97, 141, 138, 68, 71, 76, 137, 33, 109, 81, 129, 96, 76, 112, 129, 102, 129, 98, 113, 140, 69, 85, 134, 77, 89, 116, 111, 130, 111, 137, 110, 31, 70, 116, 133, 97, 63, 112, 134, 116, 55, 121, 132, 126, 137, 128, 58, 90, 138, 59, 79, 137, 79, 101, 132, 101, 20, 134, 140, 93, 125, 79, 131, 139, 140, 56, 140, 81, 100, 138, 136, 136, 118, 117, 116, 140, 140, 136, 94, 136, 135, 138, 137, 134, 94, 136, 115, 139, 138, 140, 130, 130, 140, 84, 130, 107, 124, 135, 140, 130, 138, 120, 140, 140, 120, 114, 125, 100, 100, 100, 130, 117, 107, 99, 117, 100, 125, 140, 139, 122, 117, 86, 85, 135, 105, 76, 77, 136, 136, 136, 89, 91, 137, 136, 57, 92, 140, 86, 105, 138, 109, 108, 136, 63, 86, 136, 134, 136, 136, 67, 105, 137, 139, 96, 141, 140, 96, 47, 77, 103, 100, 81, 120, 140, 132, 49, 98, 128, 81, 81, 138, 134, 135, 77, 141, 67, 137, 135, 81, 127, 136, 123, 79, 139, 107, 81, 139, 123, 134, 139, 53, 132, 67, 27, 81, 143, 93, 85, 99, 138, 132, 109, 140, 136, 139, 126, 132, 93, 86, 125, 132, 136, 71, 142, 59, 85, 138, 74, 99, 85, 116, 100, 138, 141, 131, 144, 59, 69, 93, 137, 120, 58, 105, 93, 140, 79, 136, 49, 121, 85, 143, 110, 90, 102, 53, 120, 134, 120, 140, 90, 120, 100, 87, 139, 101, 137, 116, 78, 90, 139, 110, 52, 102, 130, 139, 140, 131, 93, 100, 133, 48, 140, 138, 133, 100, 59, 86, 139, 62, 135, 51, 73, 33, 85, 63, 90, 146, 65, 91, 103, 66, 136, 119, 99, 136, 127, 78, 140, 134, 112, 136, 124, 138, 91, 138, 78, 100, 118, 77, 122, 134, 120, 63, 75, 136, 140, 130, 67, 130, 87, 81, 91, 57, 137, 84, 127, 134, 141, 87, 56, 44, 101, 75, 137, 137, 125, 109, 130, 83, 137, 138, 138, 49, 137, 137, 124, 139, 137, 137, 137, 137, 142, 50, 142, 135, 134, 132, 95, 77, 51, 136, 136, 133, 136, 109, 136, 133, 96, 26, 91, 140, 136, 137, 142, 56, 85, 88, 49, 112, 133, 98, 148, 89, 125, 101, 119, 119, 67, 138, 87, 97, 53, 136, 139, 131, 91, 136, 140, 134, 128, 136, 137, 136, 136, 139, 136, 105, 136, 128, 65, 121, 91, 136, 137, 136, 136, 53, 136, 77, 138, 140, 84, 59, 69, 121, 140, 69, 98, 46, 37, 136, 136, 65, 138, 66, 139, 80, 70, 79, 134, 55, 74, 134, 134, 136, 135, 118, 138, 106, 133, 139, 90, 103, 78, 106, 135, 74, 60, 133, 136, 104, 139, 78, 132, 126, 117, 126, 115, 135, 106, 128, 129, 110, 135, 135, 82, 65, 113, 139, 30, 77, 92, 135, 96, 53, 140, 125, 32, 95, 47, 128, 139, 138, 140, 91, 102, 46, 140, 60, 83, 62, 106, 140, 78, 114, 142, 133, 137, 133, 134, 117, 105, 137, 47, 140, 99, 44, 140, 101, 117, 111, 46, 91, 54, 72, 101, 113, 100, 103, 81, 100, 68, 108, 62, 139, 108, 88, 125, 138, 137, 137, 144, 76, 119, 70, 143, 87, 137, 139, 46, 73, 122, 120, 36, 81, 125, 107, 60, 122, 37, 69, 137, 136, 78, 89, 136, 135, 78, 131, 38, 120, 135, 84, 80, 105, 140, 100, 133, 117, 92, 96, 135, 112, 139, 128, 125, 136, 75, 136, 100, 106, 94, 105, 88, 40, 85, 115, 89, 137, 100, 89, 113, 142, 99, 71, 92, 136, 136, 81, 138, 134, 88, 69, 145, 117, 132, 68, 136, 88, 136, 83, 99, 96, 139, 134, 134, 58, 135, 140, 136, 105, 91, 134, 133, 140, 140, 120, 114, 146, 95, 50, 135, 105, 29, 63, 126, 54, 85, 46, 56, 136, 103, 136, 105, 136, 139, 136, 136, 139, 137, 92, 136, 136, 136, 136, 136, 60, 136, 102, 136, 137, 136, 137, 136, 136, 84, 92, 137, 60, 136, 109, 136, 60, 136, 136, 136, 136, 83, 136, 70, 65, 49, 130, 69, 97, 132, 14, 145, 79, 136, 91, 107, 134, 122, 114, 131, 92, 99, 65, 136, 136, 114, 121, 134, 83, 125, 65, 137, 94]}],\n",
       "                        {\"template\": {\"data\": {\"bar\": [{\"error_x\": {\"color\": \"#2a3f5f\"}, \"error_y\": {\"color\": \"#2a3f5f\"}, \"marker\": {\"line\": {\"color\": \"#E5ECF6\", \"width\": 0.5}}, \"type\": \"bar\"}], \"barpolar\": [{\"marker\": {\"line\": {\"color\": \"#E5ECF6\", \"width\": 0.5}}, \"type\": \"barpolar\"}], \"carpet\": [{\"aaxis\": {\"endlinecolor\": \"#2a3f5f\", \"gridcolor\": \"white\", \"linecolor\": \"white\", \"minorgridcolor\": \"white\", \"startlinecolor\": \"#2a3f5f\"}, \"baxis\": {\"endlinecolor\": \"#2a3f5f\", \"gridcolor\": \"white\", \"linecolor\": \"white\", \"minorgridcolor\": \"white\", \"startlinecolor\": \"#2a3f5f\"}, \"type\": \"carpet\"}], \"choropleth\": [{\"colorbar\": {\"outlinewidth\": 0, \"ticks\": \"\"}, \"type\": \"choropleth\"}], \"contour\": [{\"colorbar\": {\"outlinewidth\": 0, \"ticks\": \"\"}, \"colorscale\": [[0.0, \"#0d0887\"], [0.1111111111111111, \"#46039f\"], [0.2222222222222222, \"#7201a8\"], [0.3333333333333333, \"#9c179e\"], [0.4444444444444444, \"#bd3786\"], [0.5555555555555556, \"#d8576b\"], [0.6666666666666666, \"#ed7953\"], [0.7777777777777778, \"#fb9f3a\"], [0.8888888888888888, \"#fdca26\"], [1.0, \"#f0f921\"]], \"type\": \"contour\"}], \"contourcarpet\": [{\"colorbar\": {\"outlinewidth\": 0, \"ticks\": \"\"}, \"type\": \"contourcarpet\"}], \"heatmap\": [{\"colorbar\": {\"outlinewidth\": 0, \"ticks\": \"\"}, \"colorscale\": [[0.0, \"#0d0887\"], [0.1111111111111111, \"#46039f\"], [0.2222222222222222, \"#7201a8\"], [0.3333333333333333, \"#9c179e\"], [0.4444444444444444, \"#bd3786\"], [0.5555555555555556, \"#d8576b\"], [0.6666666666666666, \"#ed7953\"], [0.7777777777777778, \"#fb9f3a\"], [0.8888888888888888, \"#fdca26\"], [1.0, \"#f0f921\"]], \"type\": \"heatmap\"}], \"heatmapgl\": [{\"colorbar\": {\"outlinewidth\": 0, \"ticks\": \"\"}, \"colorscale\": [[0.0, \"#0d0887\"], [0.1111111111111111, \"#46039f\"], [0.2222222222222222, \"#7201a8\"], [0.3333333333333333, \"#9c179e\"], [0.4444444444444444, \"#bd3786\"], [0.5555555555555556, \"#d8576b\"], [0.6666666666666666, \"#ed7953\"], [0.7777777777777778, \"#fb9f3a\"], [0.8888888888888888, \"#fdca26\"], [1.0, \"#f0f921\"]], \"type\": \"heatmapgl\"}], \"histogram\": [{\"marker\": {\"colorbar\": {\"outlinewidth\": 0, \"ticks\": \"\"}}, \"type\": \"histogram\"}], \"histogram2d\": [{\"colorbar\": {\"outlinewidth\": 0, \"ticks\": \"\"}, \"colorscale\": [[0.0, \"#0d0887\"], [0.1111111111111111, \"#46039f\"], [0.2222222222222222, \"#7201a8\"], [0.3333333333333333, \"#9c179e\"], [0.4444444444444444, \"#bd3786\"], [0.5555555555555556, \"#d8576b\"], [0.6666666666666666, \"#ed7953\"], [0.7777777777777778, \"#fb9f3a\"], [0.8888888888888888, \"#fdca26\"], [1.0, \"#f0f921\"]], \"type\": \"histogram2d\"}], \"histogram2dcontour\": [{\"colorbar\": {\"outlinewidth\": 0, \"ticks\": \"\"}, \"colorscale\": [[0.0, \"#0d0887\"], [0.1111111111111111, \"#46039f\"], [0.2222222222222222, \"#7201a8\"], [0.3333333333333333, \"#9c179e\"], [0.4444444444444444, \"#bd3786\"], [0.5555555555555556, \"#d8576b\"], [0.6666666666666666, \"#ed7953\"], [0.7777777777777778, \"#fb9f3a\"], [0.8888888888888888, \"#fdca26\"], [1.0, \"#f0f921\"]], \"type\": \"histogram2dcontour\"}], \"mesh3d\": [{\"colorbar\": {\"outlinewidth\": 0, \"ticks\": \"\"}, \"type\": \"mesh3d\"}], \"parcoords\": [{\"line\": {\"colorbar\": {\"outlinewidth\": 0, \"ticks\": \"\"}}, \"type\": \"parcoords\"}], \"pie\": [{\"automargin\": true, \"type\": \"pie\"}], \"scatter\": [{\"marker\": {\"colorbar\": {\"outlinewidth\": 0, \"ticks\": \"\"}}, \"type\": \"scatter\"}], \"scatter3d\": [{\"line\": {\"colorbar\": {\"outlinewidth\": 0, \"ticks\": \"\"}}, \"marker\": {\"colorbar\": {\"outlinewidth\": 0, \"ticks\": \"\"}}, \"type\": \"scatter3d\"}], \"scattercarpet\": [{\"marker\": {\"colorbar\": {\"outlinewidth\": 0, \"ticks\": \"\"}}, \"type\": \"scattercarpet\"}], \"scattergeo\": [{\"marker\": {\"colorbar\": {\"outlinewidth\": 0, \"ticks\": \"\"}}, \"type\": \"scattergeo\"}], \"scattergl\": [{\"marker\": {\"colorbar\": {\"outlinewidth\": 0, \"ticks\": \"\"}}, \"type\": \"scattergl\"}], \"scattermapbox\": [{\"marker\": {\"colorbar\": {\"outlinewidth\": 0, \"ticks\": \"\"}}, \"type\": \"scattermapbox\"}], \"scatterpolar\": [{\"marker\": {\"colorbar\": {\"outlinewidth\": 0, \"ticks\": \"\"}}, \"type\": \"scatterpolar\"}], \"scatterpolargl\": [{\"marker\": {\"colorbar\": {\"outlinewidth\": 0, \"ticks\": \"\"}}, \"type\": \"scatterpolargl\"}], \"scatterternary\": [{\"marker\": {\"colorbar\": {\"outlinewidth\": 0, \"ticks\": \"\"}}, \"type\": \"scatterternary\"}], \"surface\": [{\"colorbar\": {\"outlinewidth\": 0, \"ticks\": \"\"}, \"colorscale\": [[0.0, \"#0d0887\"], [0.1111111111111111, \"#46039f\"], [0.2222222222222222, \"#7201a8\"], [0.3333333333333333, \"#9c179e\"], [0.4444444444444444, \"#bd3786\"], [0.5555555555555556, \"#d8576b\"], [0.6666666666666666, \"#ed7953\"], [0.7777777777777778, \"#fb9f3a\"], [0.8888888888888888, \"#fdca26\"], [1.0, \"#f0f921\"]], \"type\": \"surface\"}], \"table\": [{\"cells\": {\"fill\": {\"color\": \"#EBF0F8\"}, \"line\": {\"color\": \"white\"}}, \"header\": {\"fill\": {\"color\": \"#C8D4E3\"}, \"line\": {\"color\": \"white\"}}, \"type\": \"table\"}]}, \"layout\": {\"annotationdefaults\": {\"arrowcolor\": \"#2a3f5f\", \"arrowhead\": 0, \"arrowwidth\": 1}, \"coloraxis\": {\"colorbar\": {\"outlinewidth\": 0, \"ticks\": \"\"}}, \"colorscale\": {\"diverging\": [[0, \"#8e0152\"], [0.1, \"#c51b7d\"], [0.2, \"#de77ae\"], [0.3, \"#f1b6da\"], [0.4, \"#fde0ef\"], [0.5, \"#f7f7f7\"], [0.6, \"#e6f5d0\"], [0.7, \"#b8e186\"], [0.8, \"#7fbc41\"], [0.9, \"#4d9221\"], [1, \"#276419\"]], \"sequential\": [[0.0, \"#0d0887\"], [0.1111111111111111, \"#46039f\"], [0.2222222222222222, \"#7201a8\"], [0.3333333333333333, \"#9c179e\"], [0.4444444444444444, \"#bd3786\"], [0.5555555555555556, \"#d8576b\"], [0.6666666666666666, \"#ed7953\"], [0.7777777777777778, \"#fb9f3a\"], [0.8888888888888888, \"#fdca26\"], [1.0, \"#f0f921\"]], \"sequentialminus\": [[0.0, \"#0d0887\"], [0.1111111111111111, \"#46039f\"], [0.2222222222222222, \"#7201a8\"], [0.3333333333333333, \"#9c179e\"], [0.4444444444444444, \"#bd3786\"], [0.5555555555555556, \"#d8576b\"], [0.6666666666666666, \"#ed7953\"], [0.7777777777777778, \"#fb9f3a\"], [0.8888888888888888, \"#fdca26\"], [1.0, \"#f0f921\"]]}, \"colorway\": [\"#636efa\", \"#EF553B\", \"#00cc96\", \"#ab63fa\", \"#FFA15A\", \"#19d3f3\", \"#FF6692\", \"#B6E880\", \"#FF97FF\", \"#FECB52\"], \"font\": {\"color\": \"#2a3f5f\"}, \"geo\": {\"bgcolor\": \"white\", \"lakecolor\": \"white\", \"landcolor\": \"#E5ECF6\", \"showlakes\": true, \"showland\": true, \"subunitcolor\": \"white\"}, \"hoverlabel\": {\"align\": \"left\"}, \"hovermode\": \"closest\", \"mapbox\": {\"style\": \"light\"}, \"paper_bgcolor\": \"white\", \"plot_bgcolor\": \"#E5ECF6\", \"polar\": {\"angularaxis\": {\"gridcolor\": \"white\", \"linecolor\": \"white\", \"ticks\": \"\"}, \"bgcolor\": \"#E5ECF6\", \"radialaxis\": {\"gridcolor\": \"white\", \"linecolor\": \"white\", \"ticks\": \"\"}}, \"scene\": {\"xaxis\": {\"backgroundcolor\": \"#E5ECF6\", \"gridcolor\": \"white\", \"gridwidth\": 2, \"linecolor\": \"white\", \"showbackground\": true, \"ticks\": \"\", \"zerolinecolor\": \"white\"}, \"yaxis\": {\"backgroundcolor\": \"#E5ECF6\", \"gridcolor\": \"white\", \"gridwidth\": 2, \"linecolor\": \"white\", \"showbackground\": true, \"ticks\": \"\", \"zerolinecolor\": \"white\"}, \"zaxis\": {\"backgroundcolor\": \"#E5ECF6\", \"gridcolor\": \"white\", \"gridwidth\": 2, \"linecolor\": \"white\", \"showbackground\": true, \"ticks\": \"\", \"zerolinecolor\": \"white\"}}, \"shapedefaults\": {\"line\": {\"color\": \"#2a3f5f\"}}, \"ternary\": {\"aaxis\": {\"gridcolor\": \"white\", \"linecolor\": \"white\", \"ticks\": \"\"}, \"baxis\": {\"gridcolor\": \"white\", \"linecolor\": \"white\", \"ticks\": \"\"}, \"bgcolor\": \"#E5ECF6\", \"caxis\": {\"gridcolor\": \"white\", \"linecolor\": \"white\", \"ticks\": \"\"}}, \"title\": {\"x\": 0.05}, \"xaxis\": {\"automargin\": true, \"gridcolor\": \"white\", \"linecolor\": \"white\", \"ticks\": \"\", \"title\": {\"standoff\": 15}, \"zerolinecolor\": \"white\", \"zerolinewidth\": 2}, \"yaxis\": {\"automargin\": true, \"gridcolor\": \"white\", \"linecolor\": \"white\", \"ticks\": \"\", \"title\": {\"standoff\": 15}, \"zerolinecolor\": \"white\", \"zerolinewidth\": 2}}}, \"title\": {\"text\": \"Comparison of text length in Tweets \"}},\n",
       "                        {\"responsive\": true}\n",
       "                    ).then(function(){\n",
       "                            \n",
       "var gd = document.getElementById('f16fbc29-e2db-4666-8d54-07cba5d06596');\n",
       "var x = new MutationObserver(function (mutations, observer) {{\n",
       "        var display = window.getComputedStyle(gd).display;\n",
       "        if (!display || display === 'none') {{\n",
       "            console.log([gd, 'removed!']);\n",
       "            Plotly.purge(gd);\n",
       "            observer.disconnect();\n",
       "        }}\n",
       "}});\n",
       "\n",
       "// Listen for the removal of the full notebook cells\n",
       "var notebookContainer = gd.closest('#notebook-container');\n",
       "if (notebookContainer) {{\n",
       "    x.observe(notebookContainer, {childList: true});\n",
       "}}\n",
       "\n",
       "// Listen for the clearing of the current output cell\n",
       "var outputEl = gd.closest('.output');\n",
       "if (outputEl) {{\n",
       "    x.observe(outputEl, {childList: true});\n",
       "}}\n",
       "\n",
       "                        })\n",
       "                };\n",
       "                });\n",
       "            </script>\n",
       "        </div>"
      ]
     },
     "metadata": {},
     "output_type": "display_data"
    }
   ],
   "source": [
    "data = [\n",
    "    go.Box(\n",
    "        y=train[train['target']==0]['length'],\n",
    "        name='Fake'\n",
    "    ),\n",
    "    go.Box(\n",
    "        y=train[train['target']==1]['length'],\n",
    "        name='Real'\n",
    "    )\n",
    "]\n",
    "layout = go.Layout(\n",
    "    title = 'Comparison of text length in Tweets '\n",
    ")\n",
    "fig = go.Figure(data=data, layout=layout)\n",
    "fig.show()"
   ]
  },
  {
   "cell_type": "code",
   "execution_count": 22,
   "metadata": {},
   "outputs": [
    {
     "data": {
      "text/plain": [
       "221"
      ]
     },
     "execution_count": 22,
     "metadata": {},
     "output_type": "execute_result"
    }
   ],
   "source": [
    "train.keyword.nunique()  # Total of 221 unique keywords"
   ]
  },
  {
   "cell_type": "code",
   "execution_count": 23,
   "metadata": {},
   "outputs": [
    {
     "data": {
      "application/vnd.plotly.v1+json": {
       "config": {
        "linkText": "Export to plot.ly",
        "plotlyServerURL": "https://plot.ly",
        "showLink": true
       },
       "data": [
        {
         "marker": {
          "color": "rgba(219, 64, 82, 0.6)",
          "line": {
           "color": "rgba(219, 64, 82, 1.0)",
           "width": 1
          }
         },
         "name": "keyword",
         "orientation": "v",
         "text": "",
         "type": "bar",
         "x": [
          "fatalities",
          "deluge",
          "armageddon",
          "harm",
          "body%20bags",
          "sinking",
          "damage",
          "fear",
          "twister",
          "windstorm",
          "collided",
          "evacuate",
          "siren",
          "outbreak",
          "wrecked",
          "famine",
          "weapons",
          "derailment",
          "earthquake",
          "sinkhole"
         ],
         "y": [
          45,
          42,
          42,
          41,
          41,
          41,
          41,
          40,
          40,
          40,
          40,
          40,
          40,
          40,
          39,
          39,
          39,
          39,
          39,
          39
         ]
        }
       ],
       "layout": {
        "legend": {
         "bgcolor": "#F5F6F9",
         "font": {
          "color": "#4D5663"
         }
        },
        "paper_bgcolor": "#F5F6F9",
        "plot_bgcolor": "#F5F6F9",
        "template": {
         "data": {
          "bar": [
           {
            "error_x": {
             "color": "#2a3f5f"
            },
            "error_y": {
             "color": "#2a3f5f"
            },
            "marker": {
             "line": {
              "color": "#E5ECF6",
              "width": 0.5
             }
            },
            "type": "bar"
           }
          ],
          "barpolar": [
           {
            "marker": {
             "line": {
              "color": "#E5ECF6",
              "width": 0.5
             }
            },
            "type": "barpolar"
           }
          ],
          "carpet": [
           {
            "aaxis": {
             "endlinecolor": "#2a3f5f",
             "gridcolor": "white",
             "linecolor": "white",
             "minorgridcolor": "white",
             "startlinecolor": "#2a3f5f"
            },
            "baxis": {
             "endlinecolor": "#2a3f5f",
             "gridcolor": "white",
             "linecolor": "white",
             "minorgridcolor": "white",
             "startlinecolor": "#2a3f5f"
            },
            "type": "carpet"
           }
          ],
          "choropleth": [
           {
            "colorbar": {
             "outlinewidth": 0,
             "ticks": ""
            },
            "type": "choropleth"
           }
          ],
          "contour": [
           {
            "colorbar": {
             "outlinewidth": 0,
             "ticks": ""
            },
            "colorscale": [
             [
              0,
              "#0d0887"
             ],
             [
              0.1111111111111111,
              "#46039f"
             ],
             [
              0.2222222222222222,
              "#7201a8"
             ],
             [
              0.3333333333333333,
              "#9c179e"
             ],
             [
              0.4444444444444444,
              "#bd3786"
             ],
             [
              0.5555555555555556,
              "#d8576b"
             ],
             [
              0.6666666666666666,
              "#ed7953"
             ],
             [
              0.7777777777777778,
              "#fb9f3a"
             ],
             [
              0.8888888888888888,
              "#fdca26"
             ],
             [
              1,
              "#f0f921"
             ]
            ],
            "type": "contour"
           }
          ],
          "contourcarpet": [
           {
            "colorbar": {
             "outlinewidth": 0,
             "ticks": ""
            },
            "type": "contourcarpet"
           }
          ],
          "heatmap": [
           {
            "colorbar": {
             "outlinewidth": 0,
             "ticks": ""
            },
            "colorscale": [
             [
              0,
              "#0d0887"
             ],
             [
              0.1111111111111111,
              "#46039f"
             ],
             [
              0.2222222222222222,
              "#7201a8"
             ],
             [
              0.3333333333333333,
              "#9c179e"
             ],
             [
              0.4444444444444444,
              "#bd3786"
             ],
             [
              0.5555555555555556,
              "#d8576b"
             ],
             [
              0.6666666666666666,
              "#ed7953"
             ],
             [
              0.7777777777777778,
              "#fb9f3a"
             ],
             [
              0.8888888888888888,
              "#fdca26"
             ],
             [
              1,
              "#f0f921"
             ]
            ],
            "type": "heatmap"
           }
          ],
          "heatmapgl": [
           {
            "colorbar": {
             "outlinewidth": 0,
             "ticks": ""
            },
            "colorscale": [
             [
              0,
              "#0d0887"
             ],
             [
              0.1111111111111111,
              "#46039f"
             ],
             [
              0.2222222222222222,
              "#7201a8"
             ],
             [
              0.3333333333333333,
              "#9c179e"
             ],
             [
              0.4444444444444444,
              "#bd3786"
             ],
             [
              0.5555555555555556,
              "#d8576b"
             ],
             [
              0.6666666666666666,
              "#ed7953"
             ],
             [
              0.7777777777777778,
              "#fb9f3a"
             ],
             [
              0.8888888888888888,
              "#fdca26"
             ],
             [
              1,
              "#f0f921"
             ]
            ],
            "type": "heatmapgl"
           }
          ],
          "histogram": [
           {
            "marker": {
             "colorbar": {
              "outlinewidth": 0,
              "ticks": ""
             }
            },
            "type": "histogram"
           }
          ],
          "histogram2d": [
           {
            "colorbar": {
             "outlinewidth": 0,
             "ticks": ""
            },
            "colorscale": [
             [
              0,
              "#0d0887"
             ],
             [
              0.1111111111111111,
              "#46039f"
             ],
             [
              0.2222222222222222,
              "#7201a8"
             ],
             [
              0.3333333333333333,
              "#9c179e"
             ],
             [
              0.4444444444444444,
              "#bd3786"
             ],
             [
              0.5555555555555556,
              "#d8576b"
             ],
             [
              0.6666666666666666,
              "#ed7953"
             ],
             [
              0.7777777777777778,
              "#fb9f3a"
             ],
             [
              0.8888888888888888,
              "#fdca26"
             ],
             [
              1,
              "#f0f921"
             ]
            ],
            "type": "histogram2d"
           }
          ],
          "histogram2dcontour": [
           {
            "colorbar": {
             "outlinewidth": 0,
             "ticks": ""
            },
            "colorscale": [
             [
              0,
              "#0d0887"
             ],
             [
              0.1111111111111111,
              "#46039f"
             ],
             [
              0.2222222222222222,
              "#7201a8"
             ],
             [
              0.3333333333333333,
              "#9c179e"
             ],
             [
              0.4444444444444444,
              "#bd3786"
             ],
             [
              0.5555555555555556,
              "#d8576b"
             ],
             [
              0.6666666666666666,
              "#ed7953"
             ],
             [
              0.7777777777777778,
              "#fb9f3a"
             ],
             [
              0.8888888888888888,
              "#fdca26"
             ],
             [
              1,
              "#f0f921"
             ]
            ],
            "type": "histogram2dcontour"
           }
          ],
          "mesh3d": [
           {
            "colorbar": {
             "outlinewidth": 0,
             "ticks": ""
            },
            "type": "mesh3d"
           }
          ],
          "parcoords": [
           {
            "line": {
             "colorbar": {
              "outlinewidth": 0,
              "ticks": ""
             }
            },
            "type": "parcoords"
           }
          ],
          "pie": [
           {
            "automargin": true,
            "type": "pie"
           }
          ],
          "scatter": [
           {
            "marker": {
             "colorbar": {
              "outlinewidth": 0,
              "ticks": ""
             }
            },
            "type": "scatter"
           }
          ],
          "scatter3d": [
           {
            "line": {
             "colorbar": {
              "outlinewidth": 0,
              "ticks": ""
             }
            },
            "marker": {
             "colorbar": {
              "outlinewidth": 0,
              "ticks": ""
             }
            },
            "type": "scatter3d"
           }
          ],
          "scattercarpet": [
           {
            "marker": {
             "colorbar": {
              "outlinewidth": 0,
              "ticks": ""
             }
            },
            "type": "scattercarpet"
           }
          ],
          "scattergeo": [
           {
            "marker": {
             "colorbar": {
              "outlinewidth": 0,
              "ticks": ""
             }
            },
            "type": "scattergeo"
           }
          ],
          "scattergl": [
           {
            "marker": {
             "colorbar": {
              "outlinewidth": 0,
              "ticks": ""
             }
            },
            "type": "scattergl"
           }
          ],
          "scattermapbox": [
           {
            "marker": {
             "colorbar": {
              "outlinewidth": 0,
              "ticks": ""
             }
            },
            "type": "scattermapbox"
           }
          ],
          "scatterpolar": [
           {
            "marker": {
             "colorbar": {
              "outlinewidth": 0,
              "ticks": ""
             }
            },
            "type": "scatterpolar"
           }
          ],
          "scatterpolargl": [
           {
            "marker": {
             "colorbar": {
              "outlinewidth": 0,
              "ticks": ""
             }
            },
            "type": "scatterpolargl"
           }
          ],
          "scatterternary": [
           {
            "marker": {
             "colorbar": {
              "outlinewidth": 0,
              "ticks": ""
             }
            },
            "type": "scatterternary"
           }
          ],
          "surface": [
           {
            "colorbar": {
             "outlinewidth": 0,
             "ticks": ""
            },
            "colorscale": [
             [
              0,
              "#0d0887"
             ],
             [
              0.1111111111111111,
              "#46039f"
             ],
             [
              0.2222222222222222,
              "#7201a8"
             ],
             [
              0.3333333333333333,
              "#9c179e"
             ],
             [
              0.4444444444444444,
              "#bd3786"
             ],
             [
              0.5555555555555556,
              "#d8576b"
             ],
             [
              0.6666666666666666,
              "#ed7953"
             ],
             [
              0.7777777777777778,
              "#fb9f3a"
             ],
             [
              0.8888888888888888,
              "#fdca26"
             ],
             [
              1,
              "#f0f921"
             ]
            ],
            "type": "surface"
           }
          ],
          "table": [
           {
            "cells": {
             "fill": {
              "color": "#EBF0F8"
             },
             "line": {
              "color": "white"
             }
            },
            "header": {
             "fill": {
              "color": "#C8D4E3"
             },
             "line": {
              "color": "white"
             }
            },
            "type": "table"
           }
          ]
         },
         "layout": {
          "annotationdefaults": {
           "arrowcolor": "#2a3f5f",
           "arrowhead": 0,
           "arrowwidth": 1
          },
          "coloraxis": {
           "colorbar": {
            "outlinewidth": 0,
            "ticks": ""
           }
          },
          "colorscale": {
           "diverging": [
            [
             0,
             "#8e0152"
            ],
            [
             0.1,
             "#c51b7d"
            ],
            [
             0.2,
             "#de77ae"
            ],
            [
             0.3,
             "#f1b6da"
            ],
            [
             0.4,
             "#fde0ef"
            ],
            [
             0.5,
             "#f7f7f7"
            ],
            [
             0.6,
             "#e6f5d0"
            ],
            [
             0.7,
             "#b8e186"
            ],
            [
             0.8,
             "#7fbc41"
            ],
            [
             0.9,
             "#4d9221"
            ],
            [
             1,
             "#276419"
            ]
           ],
           "sequential": [
            [
             0,
             "#0d0887"
            ],
            [
             0.1111111111111111,
             "#46039f"
            ],
            [
             0.2222222222222222,
             "#7201a8"
            ],
            [
             0.3333333333333333,
             "#9c179e"
            ],
            [
             0.4444444444444444,
             "#bd3786"
            ],
            [
             0.5555555555555556,
             "#d8576b"
            ],
            [
             0.6666666666666666,
             "#ed7953"
            ],
            [
             0.7777777777777778,
             "#fb9f3a"
            ],
            [
             0.8888888888888888,
             "#fdca26"
            ],
            [
             1,
             "#f0f921"
            ]
           ],
           "sequentialminus": [
            [
             0,
             "#0d0887"
            ],
            [
             0.1111111111111111,
             "#46039f"
            ],
            [
             0.2222222222222222,
             "#7201a8"
            ],
            [
             0.3333333333333333,
             "#9c179e"
            ],
            [
             0.4444444444444444,
             "#bd3786"
            ],
            [
             0.5555555555555556,
             "#d8576b"
            ],
            [
             0.6666666666666666,
             "#ed7953"
            ],
            [
             0.7777777777777778,
             "#fb9f3a"
            ],
            [
             0.8888888888888888,
             "#fdca26"
            ],
            [
             1,
             "#f0f921"
            ]
           ]
          },
          "colorway": [
           "#636efa",
           "#EF553B",
           "#00cc96",
           "#ab63fa",
           "#FFA15A",
           "#19d3f3",
           "#FF6692",
           "#B6E880",
           "#FF97FF",
           "#FECB52"
          ],
          "font": {
           "color": "#2a3f5f"
          },
          "geo": {
           "bgcolor": "white",
           "lakecolor": "white",
           "landcolor": "#E5ECF6",
           "showlakes": true,
           "showland": true,
           "subunitcolor": "white"
          },
          "hoverlabel": {
           "align": "left"
          },
          "hovermode": "closest",
          "mapbox": {
           "style": "light"
          },
          "paper_bgcolor": "white",
          "plot_bgcolor": "#E5ECF6",
          "polar": {
           "angularaxis": {
            "gridcolor": "white",
            "linecolor": "white",
            "ticks": ""
           },
           "bgcolor": "#E5ECF6",
           "radialaxis": {
            "gridcolor": "white",
            "linecolor": "white",
            "ticks": ""
           }
          },
          "scene": {
           "xaxis": {
            "backgroundcolor": "#E5ECF6",
            "gridcolor": "white",
            "gridwidth": 2,
            "linecolor": "white",
            "showbackground": true,
            "ticks": "",
            "zerolinecolor": "white"
           },
           "yaxis": {
            "backgroundcolor": "#E5ECF6",
            "gridcolor": "white",
            "gridwidth": 2,
            "linecolor": "white",
            "showbackground": true,
            "ticks": "",
            "zerolinecolor": "white"
           },
           "zaxis": {
            "backgroundcolor": "#E5ECF6",
            "gridcolor": "white",
            "gridwidth": 2,
            "linecolor": "white",
            "showbackground": true,
            "ticks": "",
            "zerolinecolor": "white"
           }
          },
          "shapedefaults": {
           "line": {
            "color": "#2a3f5f"
           }
          },
          "ternary": {
           "aaxis": {
            "gridcolor": "white",
            "linecolor": "white",
            "ticks": ""
           },
           "baxis": {
            "gridcolor": "white",
            "linecolor": "white",
            "ticks": ""
           },
           "bgcolor": "#E5ECF6",
           "caxis": {
            "gridcolor": "white",
            "linecolor": "white",
            "ticks": ""
           }
          },
          "title": {
           "x": 0.05
          },
          "xaxis": {
           "automargin": true,
           "gridcolor": "white",
           "linecolor": "white",
           "ticks": "",
           "title": {
            "standoff": 15
           },
           "zerolinecolor": "white",
           "zerolinewidth": 2
          },
          "yaxis": {
           "automargin": true,
           "gridcolor": "white",
           "linecolor": "white",
           "ticks": "",
           "title": {
            "standoff": 15
           },
           "zerolinecolor": "white",
           "zerolinewidth": 2
          }
         }
        },
        "title": {
         "font": {
          "color": "#4D5663"
         },
         "text": "Top 20 keywords in text"
        },
        "xaxis": {
         "gridcolor": "#E1E5ED",
         "showgrid": true,
         "tickfont": {
          "color": "#4D5663"
         },
         "title": {
          "font": {
           "color": "#4D5663"
          },
          "text": ""
         },
         "zerolinecolor": "#E1E5ED"
        },
        "yaxis": {
         "gridcolor": "#E1E5ED",
         "showgrid": true,
         "tickfont": {
          "color": "#4D5663"
         },
         "title": {
          "font": {
           "color": "#4D5663"
          },
          "text": ""
         },
         "zerolinecolor": "#E1E5ED"
        }
       }
      },
      "text/html": [
       "<div>\n",
       "        \n",
       "        \n",
       "            <div id=\"6935eb4e-f8bc-4b36-a9cd-dfbe4f2d38c3\" class=\"plotly-graph-div\" style=\"height:525px; width:100%;\"></div>\n",
       "            <script type=\"text/javascript\">\n",
       "                require([\"plotly\"], function(Plotly) {\n",
       "                    window.PLOTLYENV=window.PLOTLYENV || {};\n",
       "                    window.PLOTLYENV.BASE_URL='https://plot.ly';\n",
       "                    \n",
       "                if (document.getElementById(\"6935eb4e-f8bc-4b36-a9cd-dfbe4f2d38c3\")) {\n",
       "                    Plotly.newPlot(\n",
       "                        '6935eb4e-f8bc-4b36-a9cd-dfbe4f2d38c3',\n",
       "                        [{\"marker\": {\"color\": \"rgba(219, 64, 82, 0.6)\", \"line\": {\"color\": \"rgba(219, 64, 82, 1.0)\", \"width\": 1}}, \"name\": \"keyword\", \"orientation\": \"v\", \"text\": \"\", \"type\": \"bar\", \"x\": [\"fatalities\", \"deluge\", \"armageddon\", \"harm\", \"body%20bags\", \"sinking\", \"damage\", \"fear\", \"twister\", \"windstorm\", \"collided\", \"evacuate\", \"siren\", \"outbreak\", \"wrecked\", \"famine\", \"weapons\", \"derailment\", \"earthquake\", \"sinkhole\"], \"y\": [45, 42, 42, 41, 41, 41, 41, 40, 40, 40, 40, 40, 40, 40, 39, 39, 39, 39, 39, 39]}],\n",
       "                        {\"legend\": {\"bgcolor\": \"#F5F6F9\", \"font\": {\"color\": \"#4D5663\"}}, \"paper_bgcolor\": \"#F5F6F9\", \"plot_bgcolor\": \"#F5F6F9\", \"template\": {\"data\": {\"bar\": [{\"error_x\": {\"color\": \"#2a3f5f\"}, \"error_y\": {\"color\": \"#2a3f5f\"}, \"marker\": {\"line\": {\"color\": \"#E5ECF6\", \"width\": 0.5}}, \"type\": \"bar\"}], \"barpolar\": [{\"marker\": {\"line\": {\"color\": \"#E5ECF6\", \"width\": 0.5}}, \"type\": \"barpolar\"}], \"carpet\": [{\"aaxis\": {\"endlinecolor\": \"#2a3f5f\", \"gridcolor\": \"white\", \"linecolor\": \"white\", \"minorgridcolor\": \"white\", \"startlinecolor\": \"#2a3f5f\"}, \"baxis\": {\"endlinecolor\": \"#2a3f5f\", \"gridcolor\": \"white\", \"linecolor\": \"white\", \"minorgridcolor\": \"white\", \"startlinecolor\": \"#2a3f5f\"}, \"type\": \"carpet\"}], \"choropleth\": [{\"colorbar\": {\"outlinewidth\": 0, \"ticks\": \"\"}, \"type\": \"choropleth\"}], \"contour\": [{\"colorbar\": {\"outlinewidth\": 0, \"ticks\": \"\"}, \"colorscale\": [[0.0, \"#0d0887\"], [0.1111111111111111, \"#46039f\"], [0.2222222222222222, \"#7201a8\"], [0.3333333333333333, \"#9c179e\"], [0.4444444444444444, \"#bd3786\"], [0.5555555555555556, \"#d8576b\"], [0.6666666666666666, \"#ed7953\"], [0.7777777777777778, \"#fb9f3a\"], [0.8888888888888888, \"#fdca26\"], [1.0, \"#f0f921\"]], \"type\": \"contour\"}], \"contourcarpet\": [{\"colorbar\": {\"outlinewidth\": 0, \"ticks\": \"\"}, \"type\": \"contourcarpet\"}], \"heatmap\": [{\"colorbar\": {\"outlinewidth\": 0, \"ticks\": \"\"}, \"colorscale\": [[0.0, \"#0d0887\"], [0.1111111111111111, \"#46039f\"], [0.2222222222222222, \"#7201a8\"], [0.3333333333333333, \"#9c179e\"], [0.4444444444444444, \"#bd3786\"], [0.5555555555555556, \"#d8576b\"], [0.6666666666666666, \"#ed7953\"], [0.7777777777777778, \"#fb9f3a\"], [0.8888888888888888, \"#fdca26\"], [1.0, \"#f0f921\"]], \"type\": \"heatmap\"}], \"heatmapgl\": [{\"colorbar\": {\"outlinewidth\": 0, \"ticks\": \"\"}, \"colorscale\": [[0.0, \"#0d0887\"], [0.1111111111111111, \"#46039f\"], [0.2222222222222222, \"#7201a8\"], [0.3333333333333333, \"#9c179e\"], [0.4444444444444444, \"#bd3786\"], [0.5555555555555556, \"#d8576b\"], [0.6666666666666666, \"#ed7953\"], [0.7777777777777778, \"#fb9f3a\"], [0.8888888888888888, \"#fdca26\"], [1.0, \"#f0f921\"]], \"type\": \"heatmapgl\"}], \"histogram\": [{\"marker\": {\"colorbar\": {\"outlinewidth\": 0, \"ticks\": \"\"}}, \"type\": \"histogram\"}], \"histogram2d\": [{\"colorbar\": {\"outlinewidth\": 0, \"ticks\": \"\"}, \"colorscale\": [[0.0, \"#0d0887\"], [0.1111111111111111, \"#46039f\"], [0.2222222222222222, \"#7201a8\"], [0.3333333333333333, \"#9c179e\"], [0.4444444444444444, \"#bd3786\"], [0.5555555555555556, \"#d8576b\"], [0.6666666666666666, \"#ed7953\"], [0.7777777777777778, \"#fb9f3a\"], [0.8888888888888888, \"#fdca26\"], [1.0, \"#f0f921\"]], \"type\": \"histogram2d\"}], \"histogram2dcontour\": [{\"colorbar\": {\"outlinewidth\": 0, \"ticks\": \"\"}, \"colorscale\": [[0.0, \"#0d0887\"], [0.1111111111111111, \"#46039f\"], [0.2222222222222222, \"#7201a8\"], [0.3333333333333333, \"#9c179e\"], [0.4444444444444444, \"#bd3786\"], [0.5555555555555556, \"#d8576b\"], [0.6666666666666666, \"#ed7953\"], [0.7777777777777778, \"#fb9f3a\"], [0.8888888888888888, \"#fdca26\"], [1.0, \"#f0f921\"]], \"type\": \"histogram2dcontour\"}], \"mesh3d\": [{\"colorbar\": {\"outlinewidth\": 0, \"ticks\": \"\"}, \"type\": \"mesh3d\"}], \"parcoords\": [{\"line\": {\"colorbar\": {\"outlinewidth\": 0, \"ticks\": \"\"}}, \"type\": \"parcoords\"}], \"pie\": [{\"automargin\": true, \"type\": \"pie\"}], \"scatter\": [{\"marker\": {\"colorbar\": {\"outlinewidth\": 0, \"ticks\": \"\"}}, \"type\": \"scatter\"}], \"scatter3d\": [{\"line\": {\"colorbar\": {\"outlinewidth\": 0, \"ticks\": \"\"}}, \"marker\": {\"colorbar\": {\"outlinewidth\": 0, \"ticks\": \"\"}}, \"type\": \"scatter3d\"}], \"scattercarpet\": [{\"marker\": {\"colorbar\": {\"outlinewidth\": 0, \"ticks\": \"\"}}, \"type\": \"scattercarpet\"}], \"scattergeo\": [{\"marker\": {\"colorbar\": {\"outlinewidth\": 0, \"ticks\": \"\"}}, \"type\": \"scattergeo\"}], \"scattergl\": [{\"marker\": {\"colorbar\": {\"outlinewidth\": 0, \"ticks\": \"\"}}, \"type\": \"scattergl\"}], \"scattermapbox\": [{\"marker\": {\"colorbar\": {\"outlinewidth\": 0, \"ticks\": \"\"}}, \"type\": \"scattermapbox\"}], \"scatterpolar\": [{\"marker\": {\"colorbar\": {\"outlinewidth\": 0, \"ticks\": \"\"}}, \"type\": \"scatterpolar\"}], \"scatterpolargl\": [{\"marker\": {\"colorbar\": {\"outlinewidth\": 0, \"ticks\": \"\"}}, \"type\": \"scatterpolargl\"}], \"scatterternary\": [{\"marker\": {\"colorbar\": {\"outlinewidth\": 0, \"ticks\": \"\"}}, \"type\": \"scatterternary\"}], \"surface\": [{\"colorbar\": {\"outlinewidth\": 0, \"ticks\": \"\"}, \"colorscale\": [[0.0, \"#0d0887\"], [0.1111111111111111, \"#46039f\"], [0.2222222222222222, \"#7201a8\"], [0.3333333333333333, \"#9c179e\"], [0.4444444444444444, \"#bd3786\"], [0.5555555555555556, \"#d8576b\"], [0.6666666666666666, \"#ed7953\"], [0.7777777777777778, \"#fb9f3a\"], [0.8888888888888888, \"#fdca26\"], [1.0, \"#f0f921\"]], \"type\": \"surface\"}], \"table\": [{\"cells\": {\"fill\": {\"color\": \"#EBF0F8\"}, \"line\": {\"color\": \"white\"}}, \"header\": {\"fill\": {\"color\": \"#C8D4E3\"}, \"line\": {\"color\": \"white\"}}, \"type\": \"table\"}]}, \"layout\": {\"annotationdefaults\": {\"arrowcolor\": \"#2a3f5f\", \"arrowhead\": 0, \"arrowwidth\": 1}, \"coloraxis\": {\"colorbar\": {\"outlinewidth\": 0, \"ticks\": \"\"}}, \"colorscale\": {\"diverging\": [[0, \"#8e0152\"], [0.1, \"#c51b7d\"], [0.2, \"#de77ae\"], [0.3, \"#f1b6da\"], [0.4, \"#fde0ef\"], [0.5, \"#f7f7f7\"], [0.6, \"#e6f5d0\"], [0.7, \"#b8e186\"], [0.8, \"#7fbc41\"], [0.9, \"#4d9221\"], [1, \"#276419\"]], \"sequential\": [[0.0, \"#0d0887\"], [0.1111111111111111, \"#46039f\"], [0.2222222222222222, \"#7201a8\"], [0.3333333333333333, \"#9c179e\"], [0.4444444444444444, \"#bd3786\"], [0.5555555555555556, \"#d8576b\"], [0.6666666666666666, \"#ed7953\"], [0.7777777777777778, \"#fb9f3a\"], [0.8888888888888888, \"#fdca26\"], [1.0, \"#f0f921\"]], \"sequentialminus\": [[0.0, \"#0d0887\"], [0.1111111111111111, \"#46039f\"], [0.2222222222222222, \"#7201a8\"], [0.3333333333333333, \"#9c179e\"], [0.4444444444444444, \"#bd3786\"], [0.5555555555555556, \"#d8576b\"], [0.6666666666666666, \"#ed7953\"], [0.7777777777777778, \"#fb9f3a\"], [0.8888888888888888, \"#fdca26\"], [1.0, \"#f0f921\"]]}, \"colorway\": [\"#636efa\", \"#EF553B\", \"#00cc96\", \"#ab63fa\", \"#FFA15A\", \"#19d3f3\", \"#FF6692\", \"#B6E880\", \"#FF97FF\", \"#FECB52\"], \"font\": {\"color\": \"#2a3f5f\"}, \"geo\": {\"bgcolor\": \"white\", \"lakecolor\": \"white\", \"landcolor\": \"#E5ECF6\", \"showlakes\": true, \"showland\": true, \"subunitcolor\": \"white\"}, \"hoverlabel\": {\"align\": \"left\"}, \"hovermode\": \"closest\", \"mapbox\": {\"style\": \"light\"}, \"paper_bgcolor\": \"white\", \"plot_bgcolor\": \"#E5ECF6\", \"polar\": {\"angularaxis\": {\"gridcolor\": \"white\", \"linecolor\": \"white\", \"ticks\": \"\"}, \"bgcolor\": \"#E5ECF6\", \"radialaxis\": {\"gridcolor\": \"white\", \"linecolor\": \"white\", \"ticks\": \"\"}}, \"scene\": {\"xaxis\": {\"backgroundcolor\": \"#E5ECF6\", \"gridcolor\": \"white\", \"gridwidth\": 2, \"linecolor\": \"white\", \"showbackground\": true, \"ticks\": \"\", \"zerolinecolor\": \"white\"}, \"yaxis\": {\"backgroundcolor\": \"#E5ECF6\", \"gridcolor\": \"white\", \"gridwidth\": 2, \"linecolor\": \"white\", \"showbackground\": true, \"ticks\": \"\", \"zerolinecolor\": \"white\"}, \"zaxis\": {\"backgroundcolor\": \"#E5ECF6\", \"gridcolor\": \"white\", \"gridwidth\": 2, \"linecolor\": \"white\", \"showbackground\": true, \"ticks\": \"\", \"zerolinecolor\": \"white\"}}, \"shapedefaults\": {\"line\": {\"color\": \"#2a3f5f\"}}, \"ternary\": {\"aaxis\": {\"gridcolor\": \"white\", \"linecolor\": \"white\", \"ticks\": \"\"}, \"baxis\": {\"gridcolor\": \"white\", \"linecolor\": \"white\", \"ticks\": \"\"}, \"bgcolor\": \"#E5ECF6\", \"caxis\": {\"gridcolor\": \"white\", \"linecolor\": \"white\", \"ticks\": \"\"}}, \"title\": {\"x\": 0.05}, \"xaxis\": {\"automargin\": true, \"gridcolor\": \"white\", \"linecolor\": \"white\", \"ticks\": \"\", \"title\": {\"standoff\": 15}, \"zerolinecolor\": \"white\", \"zerolinewidth\": 2}, \"yaxis\": {\"automargin\": true, \"gridcolor\": \"white\", \"linecolor\": \"white\", \"ticks\": \"\", \"title\": {\"standoff\": 15}, \"zerolinecolor\": \"white\", \"zerolinewidth\": 2}}}, \"title\": {\"font\": {\"color\": \"#4D5663\"}, \"text\": \"Top 20 keywords in text\"}, \"xaxis\": {\"gridcolor\": \"#E1E5ED\", \"showgrid\": true, \"tickfont\": {\"color\": \"#4D5663\"}, \"title\": {\"font\": {\"color\": \"#4D5663\"}, \"text\": \"\"}, \"zerolinecolor\": \"#E1E5ED\"}, \"yaxis\": {\"gridcolor\": \"#E1E5ED\", \"showgrid\": true, \"tickfont\": {\"color\": \"#4D5663\"}, \"title\": {\"font\": {\"color\": \"#4D5663\"}, \"text\": \"\"}, \"zerolinecolor\": \"#E1E5ED\"}},\n",
       "                        {\"showLink\": true, \"linkText\": \"Export to plot.ly\", \"plotlyServerURL\": \"https://plot.ly\", \"responsive\": true}\n",
       "                    ).then(function(){\n",
       "                            \n",
       "var gd = document.getElementById('6935eb4e-f8bc-4b36-a9cd-dfbe4f2d38c3');\n",
       "var x = new MutationObserver(function (mutations, observer) {{\n",
       "        var display = window.getComputedStyle(gd).display;\n",
       "        if (!display || display === 'none') {{\n",
       "            console.log([gd, 'removed!']);\n",
       "            Plotly.purge(gd);\n",
       "            observer.disconnect();\n",
       "        }}\n",
       "}});\n",
       "\n",
       "// Listen for the removal of the full notebook cells\n",
       "var notebookContainer = gd.closest('#notebook-container');\n",
       "if (notebookContainer) {{\n",
       "    x.observe(notebookContainer, {childList: true});\n",
       "}}\n",
       "\n",
       "// Listen for the clearing of the current output cell\n",
       "var outputEl = gd.closest('.output');\n",
       "if (outputEl) {{\n",
       "    x.observe(outputEl, {childList: true});\n",
       "}}\n",
       "\n",
       "                        })\n",
       "                };\n",
       "                });\n",
       "            </script>\n",
       "        </div>"
      ]
     },
     "metadata": {},
     "output_type": "display_data"
    }
   ],
   "source": [
    "\n",
    "train.keyword.value_counts()[:20].iplot(kind='bar', title='Top 20 keywords in text', color='red')"
   ]
  },
  {
   "cell_type": "code",
   "execution_count": 24,
   "metadata": {},
   "outputs": [
    {
     "data": {
      "application/vnd.plotly.v1+json": {
       "config": {
        "linkText": "Export to plot.ly",
        "plotlyServerURL": "https://plot.ly",
        "showLink": true
       },
       "data": [
        {
         "marker": {
          "color": "rgba(55, 128, 191, 0.6)",
          "line": {
           "color": "rgba(55, 128, 191, 1.0)",
           "width": 1
          }
         },
         "name": "location",
         "orientation": "v",
         "text": "",
         "type": "bar",
         "x": [
          "USA",
          "New York",
          "United States",
          "London",
          "Canada",
          "Nigeria",
          "UK",
          "Los Angeles, CA",
          "India",
          "Mumbai",
          "Washington, DC",
          "Kenya",
          "Worldwide",
          "Chicago, IL",
          "Australia",
          "California",
          "California, USA",
          "New York, NY",
          "Everywhere",
          "San Francisco"
         ],
         "y": [
          104,
          71,
          50,
          45,
          29,
          28,
          27,
          26,
          24,
          22,
          21,
          20,
          19,
          18,
          18,
          17,
          15,
          15,
          15,
          14
         ]
        }
       ],
       "layout": {
        "legend": {
         "bgcolor": "#F5F6F9",
         "font": {
          "color": "#4D5663"
         }
        },
        "paper_bgcolor": "#F5F6F9",
        "plot_bgcolor": "#F5F6F9",
        "template": {
         "data": {
          "bar": [
           {
            "error_x": {
             "color": "#2a3f5f"
            },
            "error_y": {
             "color": "#2a3f5f"
            },
            "marker": {
             "line": {
              "color": "#E5ECF6",
              "width": 0.5
             }
            },
            "type": "bar"
           }
          ],
          "barpolar": [
           {
            "marker": {
             "line": {
              "color": "#E5ECF6",
              "width": 0.5
             }
            },
            "type": "barpolar"
           }
          ],
          "carpet": [
           {
            "aaxis": {
             "endlinecolor": "#2a3f5f",
             "gridcolor": "white",
             "linecolor": "white",
             "minorgridcolor": "white",
             "startlinecolor": "#2a3f5f"
            },
            "baxis": {
             "endlinecolor": "#2a3f5f",
             "gridcolor": "white",
             "linecolor": "white",
             "minorgridcolor": "white",
             "startlinecolor": "#2a3f5f"
            },
            "type": "carpet"
           }
          ],
          "choropleth": [
           {
            "colorbar": {
             "outlinewidth": 0,
             "ticks": ""
            },
            "type": "choropleth"
           }
          ],
          "contour": [
           {
            "colorbar": {
             "outlinewidth": 0,
             "ticks": ""
            },
            "colorscale": [
             [
              0,
              "#0d0887"
             ],
             [
              0.1111111111111111,
              "#46039f"
             ],
             [
              0.2222222222222222,
              "#7201a8"
             ],
             [
              0.3333333333333333,
              "#9c179e"
             ],
             [
              0.4444444444444444,
              "#bd3786"
             ],
             [
              0.5555555555555556,
              "#d8576b"
             ],
             [
              0.6666666666666666,
              "#ed7953"
             ],
             [
              0.7777777777777778,
              "#fb9f3a"
             ],
             [
              0.8888888888888888,
              "#fdca26"
             ],
             [
              1,
              "#f0f921"
             ]
            ],
            "type": "contour"
           }
          ],
          "contourcarpet": [
           {
            "colorbar": {
             "outlinewidth": 0,
             "ticks": ""
            },
            "type": "contourcarpet"
           }
          ],
          "heatmap": [
           {
            "colorbar": {
             "outlinewidth": 0,
             "ticks": ""
            },
            "colorscale": [
             [
              0,
              "#0d0887"
             ],
             [
              0.1111111111111111,
              "#46039f"
             ],
             [
              0.2222222222222222,
              "#7201a8"
             ],
             [
              0.3333333333333333,
              "#9c179e"
             ],
             [
              0.4444444444444444,
              "#bd3786"
             ],
             [
              0.5555555555555556,
              "#d8576b"
             ],
             [
              0.6666666666666666,
              "#ed7953"
             ],
             [
              0.7777777777777778,
              "#fb9f3a"
             ],
             [
              0.8888888888888888,
              "#fdca26"
             ],
             [
              1,
              "#f0f921"
             ]
            ],
            "type": "heatmap"
           }
          ],
          "heatmapgl": [
           {
            "colorbar": {
             "outlinewidth": 0,
             "ticks": ""
            },
            "colorscale": [
             [
              0,
              "#0d0887"
             ],
             [
              0.1111111111111111,
              "#46039f"
             ],
             [
              0.2222222222222222,
              "#7201a8"
             ],
             [
              0.3333333333333333,
              "#9c179e"
             ],
             [
              0.4444444444444444,
              "#bd3786"
             ],
             [
              0.5555555555555556,
              "#d8576b"
             ],
             [
              0.6666666666666666,
              "#ed7953"
             ],
             [
              0.7777777777777778,
              "#fb9f3a"
             ],
             [
              0.8888888888888888,
              "#fdca26"
             ],
             [
              1,
              "#f0f921"
             ]
            ],
            "type": "heatmapgl"
           }
          ],
          "histogram": [
           {
            "marker": {
             "colorbar": {
              "outlinewidth": 0,
              "ticks": ""
             }
            },
            "type": "histogram"
           }
          ],
          "histogram2d": [
           {
            "colorbar": {
             "outlinewidth": 0,
             "ticks": ""
            },
            "colorscale": [
             [
              0,
              "#0d0887"
             ],
             [
              0.1111111111111111,
              "#46039f"
             ],
             [
              0.2222222222222222,
              "#7201a8"
             ],
             [
              0.3333333333333333,
              "#9c179e"
             ],
             [
              0.4444444444444444,
              "#bd3786"
             ],
             [
              0.5555555555555556,
              "#d8576b"
             ],
             [
              0.6666666666666666,
              "#ed7953"
             ],
             [
              0.7777777777777778,
              "#fb9f3a"
             ],
             [
              0.8888888888888888,
              "#fdca26"
             ],
             [
              1,
              "#f0f921"
             ]
            ],
            "type": "histogram2d"
           }
          ],
          "histogram2dcontour": [
           {
            "colorbar": {
             "outlinewidth": 0,
             "ticks": ""
            },
            "colorscale": [
             [
              0,
              "#0d0887"
             ],
             [
              0.1111111111111111,
              "#46039f"
             ],
             [
              0.2222222222222222,
              "#7201a8"
             ],
             [
              0.3333333333333333,
              "#9c179e"
             ],
             [
              0.4444444444444444,
              "#bd3786"
             ],
             [
              0.5555555555555556,
              "#d8576b"
             ],
             [
              0.6666666666666666,
              "#ed7953"
             ],
             [
              0.7777777777777778,
              "#fb9f3a"
             ],
             [
              0.8888888888888888,
              "#fdca26"
             ],
             [
              1,
              "#f0f921"
             ]
            ],
            "type": "histogram2dcontour"
           }
          ],
          "mesh3d": [
           {
            "colorbar": {
             "outlinewidth": 0,
             "ticks": ""
            },
            "type": "mesh3d"
           }
          ],
          "parcoords": [
           {
            "line": {
             "colorbar": {
              "outlinewidth": 0,
              "ticks": ""
             }
            },
            "type": "parcoords"
           }
          ],
          "pie": [
           {
            "automargin": true,
            "type": "pie"
           }
          ],
          "scatter": [
           {
            "marker": {
             "colorbar": {
              "outlinewidth": 0,
              "ticks": ""
             }
            },
            "type": "scatter"
           }
          ],
          "scatter3d": [
           {
            "line": {
             "colorbar": {
              "outlinewidth": 0,
              "ticks": ""
             }
            },
            "marker": {
             "colorbar": {
              "outlinewidth": 0,
              "ticks": ""
             }
            },
            "type": "scatter3d"
           }
          ],
          "scattercarpet": [
           {
            "marker": {
             "colorbar": {
              "outlinewidth": 0,
              "ticks": ""
             }
            },
            "type": "scattercarpet"
           }
          ],
          "scattergeo": [
           {
            "marker": {
             "colorbar": {
              "outlinewidth": 0,
              "ticks": ""
             }
            },
            "type": "scattergeo"
           }
          ],
          "scattergl": [
           {
            "marker": {
             "colorbar": {
              "outlinewidth": 0,
              "ticks": ""
             }
            },
            "type": "scattergl"
           }
          ],
          "scattermapbox": [
           {
            "marker": {
             "colorbar": {
              "outlinewidth": 0,
              "ticks": ""
             }
            },
            "type": "scattermapbox"
           }
          ],
          "scatterpolar": [
           {
            "marker": {
             "colorbar": {
              "outlinewidth": 0,
              "ticks": ""
             }
            },
            "type": "scatterpolar"
           }
          ],
          "scatterpolargl": [
           {
            "marker": {
             "colorbar": {
              "outlinewidth": 0,
              "ticks": ""
             }
            },
            "type": "scatterpolargl"
           }
          ],
          "scatterternary": [
           {
            "marker": {
             "colorbar": {
              "outlinewidth": 0,
              "ticks": ""
             }
            },
            "type": "scatterternary"
           }
          ],
          "surface": [
           {
            "colorbar": {
             "outlinewidth": 0,
             "ticks": ""
            },
            "colorscale": [
             [
              0,
              "#0d0887"
             ],
             [
              0.1111111111111111,
              "#46039f"
             ],
             [
              0.2222222222222222,
              "#7201a8"
             ],
             [
              0.3333333333333333,
              "#9c179e"
             ],
             [
              0.4444444444444444,
              "#bd3786"
             ],
             [
              0.5555555555555556,
              "#d8576b"
             ],
             [
              0.6666666666666666,
              "#ed7953"
             ],
             [
              0.7777777777777778,
              "#fb9f3a"
             ],
             [
              0.8888888888888888,
              "#fdca26"
             ],
             [
              1,
              "#f0f921"
             ]
            ],
            "type": "surface"
           }
          ],
          "table": [
           {
            "cells": {
             "fill": {
              "color": "#EBF0F8"
             },
             "line": {
              "color": "white"
             }
            },
            "header": {
             "fill": {
              "color": "#C8D4E3"
             },
             "line": {
              "color": "white"
             }
            },
            "type": "table"
           }
          ]
         },
         "layout": {
          "annotationdefaults": {
           "arrowcolor": "#2a3f5f",
           "arrowhead": 0,
           "arrowwidth": 1
          },
          "coloraxis": {
           "colorbar": {
            "outlinewidth": 0,
            "ticks": ""
           }
          },
          "colorscale": {
           "diverging": [
            [
             0,
             "#8e0152"
            ],
            [
             0.1,
             "#c51b7d"
            ],
            [
             0.2,
             "#de77ae"
            ],
            [
             0.3,
             "#f1b6da"
            ],
            [
             0.4,
             "#fde0ef"
            ],
            [
             0.5,
             "#f7f7f7"
            ],
            [
             0.6,
             "#e6f5d0"
            ],
            [
             0.7,
             "#b8e186"
            ],
            [
             0.8,
             "#7fbc41"
            ],
            [
             0.9,
             "#4d9221"
            ],
            [
             1,
             "#276419"
            ]
           ],
           "sequential": [
            [
             0,
             "#0d0887"
            ],
            [
             0.1111111111111111,
             "#46039f"
            ],
            [
             0.2222222222222222,
             "#7201a8"
            ],
            [
             0.3333333333333333,
             "#9c179e"
            ],
            [
             0.4444444444444444,
             "#bd3786"
            ],
            [
             0.5555555555555556,
             "#d8576b"
            ],
            [
             0.6666666666666666,
             "#ed7953"
            ],
            [
             0.7777777777777778,
             "#fb9f3a"
            ],
            [
             0.8888888888888888,
             "#fdca26"
            ],
            [
             1,
             "#f0f921"
            ]
           ],
           "sequentialminus": [
            [
             0,
             "#0d0887"
            ],
            [
             0.1111111111111111,
             "#46039f"
            ],
            [
             0.2222222222222222,
             "#7201a8"
            ],
            [
             0.3333333333333333,
             "#9c179e"
            ],
            [
             0.4444444444444444,
             "#bd3786"
            ],
            [
             0.5555555555555556,
             "#d8576b"
            ],
            [
             0.6666666666666666,
             "#ed7953"
            ],
            [
             0.7777777777777778,
             "#fb9f3a"
            ],
            [
             0.8888888888888888,
             "#fdca26"
            ],
            [
             1,
             "#f0f921"
            ]
           ]
          },
          "colorway": [
           "#636efa",
           "#EF553B",
           "#00cc96",
           "#ab63fa",
           "#FFA15A",
           "#19d3f3",
           "#FF6692",
           "#B6E880",
           "#FF97FF",
           "#FECB52"
          ],
          "font": {
           "color": "#2a3f5f"
          },
          "geo": {
           "bgcolor": "white",
           "lakecolor": "white",
           "landcolor": "#E5ECF6",
           "showlakes": true,
           "showland": true,
           "subunitcolor": "white"
          },
          "hoverlabel": {
           "align": "left"
          },
          "hovermode": "closest",
          "mapbox": {
           "style": "light"
          },
          "paper_bgcolor": "white",
          "plot_bgcolor": "#E5ECF6",
          "polar": {
           "angularaxis": {
            "gridcolor": "white",
            "linecolor": "white",
            "ticks": ""
           },
           "bgcolor": "#E5ECF6",
           "radialaxis": {
            "gridcolor": "white",
            "linecolor": "white",
            "ticks": ""
           }
          },
          "scene": {
           "xaxis": {
            "backgroundcolor": "#E5ECF6",
            "gridcolor": "white",
            "gridwidth": 2,
            "linecolor": "white",
            "showbackground": true,
            "ticks": "",
            "zerolinecolor": "white"
           },
           "yaxis": {
            "backgroundcolor": "#E5ECF6",
            "gridcolor": "white",
            "gridwidth": 2,
            "linecolor": "white",
            "showbackground": true,
            "ticks": "",
            "zerolinecolor": "white"
           },
           "zaxis": {
            "backgroundcolor": "#E5ECF6",
            "gridcolor": "white",
            "gridwidth": 2,
            "linecolor": "white",
            "showbackground": true,
            "ticks": "",
            "zerolinecolor": "white"
           }
          },
          "shapedefaults": {
           "line": {
            "color": "#2a3f5f"
           }
          },
          "ternary": {
           "aaxis": {
            "gridcolor": "white",
            "linecolor": "white",
            "ticks": ""
           },
           "baxis": {
            "gridcolor": "white",
            "linecolor": "white",
            "ticks": ""
           },
           "bgcolor": "#E5ECF6",
           "caxis": {
            "gridcolor": "white",
            "linecolor": "white",
            "ticks": ""
           }
          },
          "title": {
           "x": 0.05
          },
          "xaxis": {
           "automargin": true,
           "gridcolor": "white",
           "linecolor": "white",
           "ticks": "",
           "title": {
            "standoff": 15
           },
           "zerolinecolor": "white",
           "zerolinewidth": 2
          },
          "yaxis": {
           "automargin": true,
           "gridcolor": "white",
           "linecolor": "white",
           "ticks": "",
           "title": {
            "standoff": 15
           },
           "zerolinecolor": "white",
           "zerolinewidth": 2
          }
         }
        },
        "title": {
         "font": {
          "color": "#4D5663"
         },
         "text": "Top 20 location in tweet"
        },
        "xaxis": {
         "gridcolor": "#E1E5ED",
         "showgrid": true,
         "tickfont": {
          "color": "#4D5663"
         },
         "title": {
          "font": {
           "color": "#4D5663"
          },
          "text": ""
         },
         "zerolinecolor": "#E1E5ED"
        },
        "yaxis": {
         "gridcolor": "#E1E5ED",
         "showgrid": true,
         "tickfont": {
          "color": "#4D5663"
         },
         "title": {
          "font": {
           "color": "#4D5663"
          },
          "text": ""
         },
         "zerolinecolor": "#E1E5ED"
        }
       }
      },
      "text/html": [
       "<div>\n",
       "        \n",
       "        \n",
       "            <div id=\"f1f721b1-9186-476b-850d-d732347eb92f\" class=\"plotly-graph-div\" style=\"height:525px; width:100%;\"></div>\n",
       "            <script type=\"text/javascript\">\n",
       "                require([\"plotly\"], function(Plotly) {\n",
       "                    window.PLOTLYENV=window.PLOTLYENV || {};\n",
       "                    window.PLOTLYENV.BASE_URL='https://plot.ly';\n",
       "                    \n",
       "                if (document.getElementById(\"f1f721b1-9186-476b-850d-d732347eb92f\")) {\n",
       "                    Plotly.newPlot(\n",
       "                        'f1f721b1-9186-476b-850d-d732347eb92f',\n",
       "                        [{\"marker\": {\"color\": \"rgba(55, 128, 191, 0.6)\", \"line\": {\"color\": \"rgba(55, 128, 191, 1.0)\", \"width\": 1}}, \"name\": \"location\", \"orientation\": \"v\", \"text\": \"\", \"type\": \"bar\", \"x\": [\"USA\", \"New York\", \"United States\", \"London\", \"Canada\", \"Nigeria\", \"UK\", \"Los Angeles, CA\", \"India\", \"Mumbai\", \"Washington, DC\", \"Kenya\", \"Worldwide\", \"Chicago, IL\", \"Australia\", \"California\", \"California, USA\", \"New York, NY\", \"Everywhere\", \"San Francisco\"], \"y\": [104, 71, 50, 45, 29, 28, 27, 26, 24, 22, 21, 20, 19, 18, 18, 17, 15, 15, 15, 14]}],\n",
       "                        {\"legend\": {\"bgcolor\": \"#F5F6F9\", \"font\": {\"color\": \"#4D5663\"}}, \"paper_bgcolor\": \"#F5F6F9\", \"plot_bgcolor\": \"#F5F6F9\", \"template\": {\"data\": {\"bar\": [{\"error_x\": {\"color\": \"#2a3f5f\"}, \"error_y\": {\"color\": \"#2a3f5f\"}, \"marker\": {\"line\": {\"color\": \"#E5ECF6\", \"width\": 0.5}}, \"type\": \"bar\"}], \"barpolar\": [{\"marker\": {\"line\": {\"color\": \"#E5ECF6\", \"width\": 0.5}}, \"type\": \"barpolar\"}], \"carpet\": [{\"aaxis\": {\"endlinecolor\": \"#2a3f5f\", \"gridcolor\": \"white\", \"linecolor\": \"white\", \"minorgridcolor\": \"white\", \"startlinecolor\": \"#2a3f5f\"}, \"baxis\": {\"endlinecolor\": \"#2a3f5f\", \"gridcolor\": \"white\", \"linecolor\": \"white\", \"minorgridcolor\": \"white\", \"startlinecolor\": \"#2a3f5f\"}, \"type\": \"carpet\"}], \"choropleth\": [{\"colorbar\": {\"outlinewidth\": 0, \"ticks\": \"\"}, \"type\": \"choropleth\"}], \"contour\": [{\"colorbar\": {\"outlinewidth\": 0, \"ticks\": \"\"}, \"colorscale\": [[0.0, \"#0d0887\"], [0.1111111111111111, \"#46039f\"], [0.2222222222222222, \"#7201a8\"], [0.3333333333333333, \"#9c179e\"], [0.4444444444444444, \"#bd3786\"], [0.5555555555555556, \"#d8576b\"], [0.6666666666666666, \"#ed7953\"], [0.7777777777777778, \"#fb9f3a\"], [0.8888888888888888, \"#fdca26\"], [1.0, \"#f0f921\"]], \"type\": \"contour\"}], \"contourcarpet\": [{\"colorbar\": {\"outlinewidth\": 0, \"ticks\": \"\"}, \"type\": \"contourcarpet\"}], \"heatmap\": [{\"colorbar\": {\"outlinewidth\": 0, \"ticks\": \"\"}, \"colorscale\": [[0.0, \"#0d0887\"], [0.1111111111111111, \"#46039f\"], [0.2222222222222222, \"#7201a8\"], [0.3333333333333333, \"#9c179e\"], [0.4444444444444444, \"#bd3786\"], [0.5555555555555556, \"#d8576b\"], [0.6666666666666666, \"#ed7953\"], [0.7777777777777778, \"#fb9f3a\"], [0.8888888888888888, \"#fdca26\"], [1.0, \"#f0f921\"]], \"type\": \"heatmap\"}], \"heatmapgl\": [{\"colorbar\": {\"outlinewidth\": 0, \"ticks\": \"\"}, \"colorscale\": [[0.0, \"#0d0887\"], [0.1111111111111111, \"#46039f\"], [0.2222222222222222, \"#7201a8\"], [0.3333333333333333, \"#9c179e\"], [0.4444444444444444, \"#bd3786\"], [0.5555555555555556, \"#d8576b\"], [0.6666666666666666, \"#ed7953\"], [0.7777777777777778, \"#fb9f3a\"], [0.8888888888888888, \"#fdca26\"], [1.0, \"#f0f921\"]], \"type\": \"heatmapgl\"}], \"histogram\": [{\"marker\": {\"colorbar\": {\"outlinewidth\": 0, \"ticks\": \"\"}}, \"type\": \"histogram\"}], \"histogram2d\": [{\"colorbar\": {\"outlinewidth\": 0, \"ticks\": \"\"}, \"colorscale\": [[0.0, \"#0d0887\"], [0.1111111111111111, \"#46039f\"], [0.2222222222222222, \"#7201a8\"], [0.3333333333333333, \"#9c179e\"], [0.4444444444444444, \"#bd3786\"], [0.5555555555555556, \"#d8576b\"], [0.6666666666666666, \"#ed7953\"], [0.7777777777777778, \"#fb9f3a\"], [0.8888888888888888, \"#fdca26\"], [1.0, \"#f0f921\"]], \"type\": \"histogram2d\"}], \"histogram2dcontour\": [{\"colorbar\": {\"outlinewidth\": 0, \"ticks\": \"\"}, \"colorscale\": [[0.0, \"#0d0887\"], [0.1111111111111111, \"#46039f\"], [0.2222222222222222, \"#7201a8\"], [0.3333333333333333, \"#9c179e\"], [0.4444444444444444, \"#bd3786\"], [0.5555555555555556, \"#d8576b\"], [0.6666666666666666, \"#ed7953\"], [0.7777777777777778, \"#fb9f3a\"], [0.8888888888888888, \"#fdca26\"], [1.0, \"#f0f921\"]], \"type\": \"histogram2dcontour\"}], \"mesh3d\": [{\"colorbar\": {\"outlinewidth\": 0, \"ticks\": \"\"}, \"type\": \"mesh3d\"}], \"parcoords\": [{\"line\": {\"colorbar\": {\"outlinewidth\": 0, \"ticks\": \"\"}}, \"type\": \"parcoords\"}], \"pie\": [{\"automargin\": true, \"type\": \"pie\"}], \"scatter\": [{\"marker\": {\"colorbar\": {\"outlinewidth\": 0, \"ticks\": \"\"}}, \"type\": \"scatter\"}], \"scatter3d\": [{\"line\": {\"colorbar\": {\"outlinewidth\": 0, \"ticks\": \"\"}}, \"marker\": {\"colorbar\": {\"outlinewidth\": 0, \"ticks\": \"\"}}, \"type\": \"scatter3d\"}], \"scattercarpet\": [{\"marker\": {\"colorbar\": {\"outlinewidth\": 0, \"ticks\": \"\"}}, \"type\": \"scattercarpet\"}], \"scattergeo\": [{\"marker\": {\"colorbar\": {\"outlinewidth\": 0, \"ticks\": \"\"}}, \"type\": \"scattergeo\"}], \"scattergl\": [{\"marker\": {\"colorbar\": {\"outlinewidth\": 0, \"ticks\": \"\"}}, \"type\": \"scattergl\"}], \"scattermapbox\": [{\"marker\": {\"colorbar\": {\"outlinewidth\": 0, \"ticks\": \"\"}}, \"type\": \"scattermapbox\"}], \"scatterpolar\": [{\"marker\": {\"colorbar\": {\"outlinewidth\": 0, \"ticks\": \"\"}}, \"type\": \"scatterpolar\"}], \"scatterpolargl\": [{\"marker\": {\"colorbar\": {\"outlinewidth\": 0, \"ticks\": \"\"}}, \"type\": \"scatterpolargl\"}], \"scatterternary\": [{\"marker\": {\"colorbar\": {\"outlinewidth\": 0, \"ticks\": \"\"}}, \"type\": \"scatterternary\"}], \"surface\": [{\"colorbar\": {\"outlinewidth\": 0, \"ticks\": \"\"}, \"colorscale\": [[0.0, \"#0d0887\"], [0.1111111111111111, \"#46039f\"], [0.2222222222222222, \"#7201a8\"], [0.3333333333333333, \"#9c179e\"], [0.4444444444444444, \"#bd3786\"], [0.5555555555555556, \"#d8576b\"], [0.6666666666666666, \"#ed7953\"], [0.7777777777777778, \"#fb9f3a\"], [0.8888888888888888, \"#fdca26\"], [1.0, \"#f0f921\"]], \"type\": \"surface\"}], \"table\": [{\"cells\": {\"fill\": {\"color\": \"#EBF0F8\"}, \"line\": {\"color\": \"white\"}}, \"header\": {\"fill\": {\"color\": \"#C8D4E3\"}, \"line\": {\"color\": \"white\"}}, \"type\": \"table\"}]}, \"layout\": {\"annotationdefaults\": {\"arrowcolor\": \"#2a3f5f\", \"arrowhead\": 0, \"arrowwidth\": 1}, \"coloraxis\": {\"colorbar\": {\"outlinewidth\": 0, \"ticks\": \"\"}}, \"colorscale\": {\"diverging\": [[0, \"#8e0152\"], [0.1, \"#c51b7d\"], [0.2, \"#de77ae\"], [0.3, \"#f1b6da\"], [0.4, \"#fde0ef\"], [0.5, \"#f7f7f7\"], [0.6, \"#e6f5d0\"], [0.7, \"#b8e186\"], [0.8, \"#7fbc41\"], [0.9, \"#4d9221\"], [1, \"#276419\"]], \"sequential\": [[0.0, \"#0d0887\"], [0.1111111111111111, \"#46039f\"], [0.2222222222222222, \"#7201a8\"], [0.3333333333333333, \"#9c179e\"], [0.4444444444444444, \"#bd3786\"], [0.5555555555555556, \"#d8576b\"], [0.6666666666666666, \"#ed7953\"], [0.7777777777777778, \"#fb9f3a\"], [0.8888888888888888, \"#fdca26\"], [1.0, \"#f0f921\"]], \"sequentialminus\": [[0.0, \"#0d0887\"], [0.1111111111111111, \"#46039f\"], [0.2222222222222222, \"#7201a8\"], [0.3333333333333333, \"#9c179e\"], [0.4444444444444444, \"#bd3786\"], [0.5555555555555556, \"#d8576b\"], [0.6666666666666666, \"#ed7953\"], [0.7777777777777778, \"#fb9f3a\"], [0.8888888888888888, \"#fdca26\"], [1.0, \"#f0f921\"]]}, \"colorway\": [\"#636efa\", \"#EF553B\", \"#00cc96\", \"#ab63fa\", \"#FFA15A\", \"#19d3f3\", \"#FF6692\", \"#B6E880\", \"#FF97FF\", \"#FECB52\"], \"font\": {\"color\": \"#2a3f5f\"}, \"geo\": {\"bgcolor\": \"white\", \"lakecolor\": \"white\", \"landcolor\": \"#E5ECF6\", \"showlakes\": true, \"showland\": true, \"subunitcolor\": \"white\"}, \"hoverlabel\": {\"align\": \"left\"}, \"hovermode\": \"closest\", \"mapbox\": {\"style\": \"light\"}, \"paper_bgcolor\": \"white\", \"plot_bgcolor\": \"#E5ECF6\", \"polar\": {\"angularaxis\": {\"gridcolor\": \"white\", \"linecolor\": \"white\", \"ticks\": \"\"}, \"bgcolor\": \"#E5ECF6\", \"radialaxis\": {\"gridcolor\": \"white\", \"linecolor\": \"white\", \"ticks\": \"\"}}, \"scene\": {\"xaxis\": {\"backgroundcolor\": \"#E5ECF6\", \"gridcolor\": \"white\", \"gridwidth\": 2, \"linecolor\": \"white\", \"showbackground\": true, \"ticks\": \"\", \"zerolinecolor\": \"white\"}, \"yaxis\": {\"backgroundcolor\": \"#E5ECF6\", \"gridcolor\": \"white\", \"gridwidth\": 2, \"linecolor\": \"white\", \"showbackground\": true, \"ticks\": \"\", \"zerolinecolor\": \"white\"}, \"zaxis\": {\"backgroundcolor\": \"#E5ECF6\", \"gridcolor\": \"white\", \"gridwidth\": 2, \"linecolor\": \"white\", \"showbackground\": true, \"ticks\": \"\", \"zerolinecolor\": \"white\"}}, \"shapedefaults\": {\"line\": {\"color\": \"#2a3f5f\"}}, \"ternary\": {\"aaxis\": {\"gridcolor\": \"white\", \"linecolor\": \"white\", \"ticks\": \"\"}, \"baxis\": {\"gridcolor\": \"white\", \"linecolor\": \"white\", \"ticks\": \"\"}, \"bgcolor\": \"#E5ECF6\", \"caxis\": {\"gridcolor\": \"white\", \"linecolor\": \"white\", \"ticks\": \"\"}}, \"title\": {\"x\": 0.05}, \"xaxis\": {\"automargin\": true, \"gridcolor\": \"white\", \"linecolor\": \"white\", \"ticks\": \"\", \"title\": {\"standoff\": 15}, \"zerolinecolor\": \"white\", \"zerolinewidth\": 2}, \"yaxis\": {\"automargin\": true, \"gridcolor\": \"white\", \"linecolor\": \"white\", \"ticks\": \"\", \"title\": {\"standoff\": 15}, \"zerolinecolor\": \"white\", \"zerolinewidth\": 2}}}, \"title\": {\"font\": {\"color\": \"#4D5663\"}, \"text\": \"Top 20 location in tweet\"}, \"xaxis\": {\"gridcolor\": \"#E1E5ED\", \"showgrid\": true, \"tickfont\": {\"color\": \"#4D5663\"}, \"title\": {\"font\": {\"color\": \"#4D5663\"}, \"text\": \"\"}, \"zerolinecolor\": \"#E1E5ED\"}, \"yaxis\": {\"gridcolor\": \"#E1E5ED\", \"showgrid\": true, \"tickfont\": {\"color\": \"#4D5663\"}, \"title\": {\"font\": {\"color\": \"#4D5663\"}, \"text\": \"\"}, \"zerolinecolor\": \"#E1E5ED\"}},\n",
       "                        {\"showLink\": true, \"linkText\": \"Export to plot.ly\", \"plotlyServerURL\": \"https://plot.ly\", \"responsive\": true}\n",
       "                    ).then(function(){\n",
       "                            \n",
       "var gd = document.getElementById('f1f721b1-9186-476b-850d-d732347eb92f');\n",
       "var x = new MutationObserver(function (mutations, observer) {{\n",
       "        var display = window.getComputedStyle(gd).display;\n",
       "        if (!display || display === 'none') {{\n",
       "            console.log([gd, 'removed!']);\n",
       "            Plotly.purge(gd);\n",
       "            observer.disconnect();\n",
       "        }}\n",
       "}});\n",
       "\n",
       "// Listen for the removal of the full notebook cells\n",
       "var notebookContainer = gd.closest('#notebook-container');\n",
       "if (notebookContainer) {{\n",
       "    x.observe(notebookContainer, {childList: true});\n",
       "}}\n",
       "\n",
       "// Listen for the clearing of the current output cell\n",
       "var outputEl = gd.closest('.output');\n",
       "if (outputEl) {{\n",
       "    x.observe(outputEl, {childList: true});\n",
       "}}\n",
       "\n",
       "                        })\n",
       "                };\n",
       "                });\n",
       "            </script>\n",
       "        </div>"
      ]
     },
     "metadata": {},
     "output_type": "display_data"
    }
   ],
   "source": [
    "train.location.value_counts()[:20].iplot(kind='bar', title='Top 20 location in tweet', color='blue')  # Check the top 15 locations "
   ]
  },
  {
   "cell_type": "markdown",
   "metadata": {},
   "source": [
    " <a id='word'></a>\n",
    "#  4. WordCloud"
   ]
  },
  {
   "cell_type": "code",
   "execution_count": 25,
   "metadata": {},
   "outputs": [],
   "source": [
    "STOPWORDS.add('https')  # remove https to the world Cloud\n",
    "\n",
    "def Plot_world(text):\n",
    "    \n",
    "    comment_words = ' '\n",
    "    stopwords = set(STOPWORDS) \n",
    "    \n",
    "    for val in text: \n",
    "\n",
    "        # typecaste each val to string \n",
    "        val = str(val) \n",
    "\n",
    "        # split the value \n",
    "        tokens = val.split() \n",
    "\n",
    "        # Converts each token into lowercase \n",
    "        for i in range(len(tokens)): \n",
    "            tokens[i] = tokens[i].lower() \n",
    "\n",
    "        for words in tokens: \n",
    "            comment_words = comment_words + words + ' '\n",
    "\n",
    "\n",
    "    wordcloud = WordCloud(width = 5000, height = 4000, \n",
    "                    background_color ='black', \n",
    "                    stopwords = stopwords, \n",
    "                    min_font_size = 10).generate(comment_words) \n",
    "\n",
    "    # plot the WordCloud image                        \n",
    "    plt.figure(figsize = (12, 12), facecolor = 'k', edgecolor = 'k' ) \n",
    "    plt.imshow(wordcloud) \n",
    "    plt.axis(\"off\") \n",
    "    plt.tight_layout(pad = 0) \n",
    "\n",
    "    plt.show() "
   ]
  },
  {
   "cell_type": "code",
   "execution_count": null,
   "metadata": {},
   "outputs": [],
   "source": []
  },
  {
   "cell_type": "code",
   "execution_count": 26,
   "metadata": {},
   "outputs": [
    {
     "data": {
      "image/png": "[encoded data removed]",
      "text/plain": [
       "<Figure size 864x864 with 1 Axes>"
      ]
     },
     "metadata": {},
     "output_type": "display_data"
    }
   ],
   "source": [
    "text = train.text.values\n",
    "\n",
    "Plot_world(text)\n"
   ]
  },
  {
   "cell_type": "markdown",
   "metadata": {},
   "source": [
    "<a id='clean'></a>\n",
    "# 5. Cleaning the text"
   ]
  },
  {
   "cell_type": "code",
   "execution_count": 27,
   "metadata": {},
   "outputs": [
    {
     "data": {
      "text/plain": [
       "1    2172\n",
       "0    1799\n",
       "Name: target, dtype: int64"
      ]
     },
     "execution_count": 27,
     "metadata": {},
     "output_type": "execute_result"
    }
   ],
   "source": [
    "#How many http words has this text?\n",
    "train.loc[train['text'].str.contains('http')].target.value_counts()"
   ]
  },
  {
   "cell_type": "code",
   "execution_count": 28,
   "metadata": {},
   "outputs": [],
   "source": [
    "pattern = re.compile('http[s]?://(?:[a-zA-Z]|[0-9]|[$-_@.&+]|[!*\\(\\),]|(?:%[0-9a-fA-F][0-9a-fA-F]))+')\n",
    "\n",
    "def remove_html(text):\n",
    "    no_html= pattern.sub('',text)\n",
    "    return no_html"
   ]
  },
  {
   "cell_type": "code",
   "execution_count": 29,
   "metadata": {},
   "outputs": [],
   "source": [
    "# Remove all text that start with html\n",
    "train['text']=train['text'].apply(lambda x : remove_html(x))"
   ]
  },
  {
   "cell_type": "code",
   "execution_count": 30,
   "metadata": {},
   "outputs": [
    {
     "data": {
      "text/plain": [
       "0    1\n",
       "Name: target, dtype: int64"
      ]
     },
     "execution_count": 30,
     "metadata": {},
     "output_type": "execute_result"
    }
   ],
   "source": [
    "# lets check if this clean works\n",
    "train.loc[train['text'].str.contains('http')].target.value_counts()"
   ]
  },
  {
   "cell_type": "code",
   "execution_count": 31,
   "metadata": {},
   "outputs": [],
   "source": [
    "# Remove all text that start with html in test\n",
    "test['text']=test['text'].apply(lambda x : remove_html(x))"
   ]
  },
  {
   "cell_type": "markdown",
   "metadata": {},
   "source": [
    "### Now remove stopwords, pass to lower add delimiter and more"
   ]
  },
  {
   "cell_type": "code",
   "execution_count": 32,
   "metadata": {},
   "outputs": [],
   "source": [
    "def clean_text(text):\n",
    " \n",
    "    text = re.sub('[^a-zA-Z]', ' ', text)  \n",
    "\n",
    "    text = text.lower()  \n",
    "\n",
    "    # split to array(default delimiter is \" \") \n",
    "    text = text.split()  \n",
    "    \n",
    "    text = [w for w in text if not w in set(stopwords.words('english'))] \n",
    "\n",
    "    text = ' '.join(text)    \n",
    "            \n",
    "    return text"
   ]
  },
  {
   "cell_type": "code",
   "execution_count": 33,
   "metadata": {},
   "outputs": [
    {
     "name": "stdout",
     "output_type": "stream",
     "text": [
      "13,000 people receive #wildfires evacuation orders in California \n"
     ]
    },
    {
     "data": {
      "text/plain": [
       "'people receive wildfires evacuation orders california'"
      ]
     },
     "execution_count": 33,
     "metadata": {},
     "output_type": "execute_result"
    }
   ],
   "source": [
    "text = train.text[3]\n",
    "print(text)\n",
    "clean_text(text)"
   ]
  },
  {
   "cell_type": "code",
   "execution_count": 34,
   "metadata": {},
   "outputs": [],
   "source": [
    "# Apply clean text \n",
    "train['text'] = train['text'].apply(lambda x : clean_text(x))"
   ]
  },
  {
   "cell_type": "code",
   "execution_count": 35,
   "metadata": {},
   "outputs": [],
   "source": [
    "# Apply clean text \n",
    "test['text']=test['text'].apply(lambda x : clean_text(x))"
   ]
  },
  {
   "cell_type": "code",
   "execution_count": 36,
   "metadata": {},
   "outputs": [],
   "source": [
    "# How many unique words have this text\n",
    "def counter_word (text):\n",
    "    count = Counter()\n",
    "    for i in text.values:\n",
    "        for word in i.split():\n",
    "            count[word] += 1\n",
    "    return count"
   ]
  },
  {
   "cell_type": "code",
   "execution_count": 37,
   "metadata": {},
   "outputs": [],
   "source": [
    "text_values = train[\"text\"]\n",
    "\n",
    "counter = counter_word(text_values)"
   ]
  },
  {
   "cell_type": "code",
   "execution_count": 38,
   "metadata": {},
   "outputs": [
    {
     "name": "stdout",
     "output_type": "stream",
     "text": [
      "The len of unique words is: 16070\n"
     ]
    },
    {
     "data": {
      "text/plain": [
       "[('deeds', 2),\n",
       " ('reason', 20),\n",
       " ('earthquake', 50),\n",
       " ('may', 89),\n",
       " ('allah', 9),\n",
       " ('forgive', 2),\n",
       " ('us', 128),\n",
       " ('forest', 66),\n",
       " ('fire', 254),\n",
       " ('near', 56)]"
      ]
     },
     "execution_count": 38,
     "metadata": {},
     "output_type": "execute_result"
    }
   ],
   "source": [
    "print(f\"The len of unique words is: {len(counter)}\")\n",
    "list(counter.items())[:10]"
   ]
  },
  {
   "cell_type": "markdown",
   "metadata": {},
   "source": [
    "<a id='split'></a>\n",
    "# 6. Train Test Split"
   ]
  },
  {
   "cell_type": "code",
   "execution_count": 39,
   "metadata": {},
   "outputs": [],
   "source": [
    "# The maximum number of words to be used. (most frequent)\n",
    "\n",
    "vocab_size = len(counter)\n",
    "embedding_dim = 32\n",
    "\n",
    "# Max number of words in each complaint.\n",
    "max_length = 20\n",
    "trunc_type='post'\n",
    "padding_type='post'\n",
    "\n",
    "# oov_took its set for words out our word index\n",
    "oov_tok = \"<XXX>\"\n",
    "training_size = 6090\n",
    "seq_len = 12"
   ]
  },
  {
   "cell_type": "code",
   "execution_count": 40,
   "metadata": {},
   "outputs": [],
   "source": [
    "# this is base in 80% of the data, an only text and targert at this moment\n",
    "\n",
    "training_sentences = train.text[0:training_size]\n",
    "training_labels = train.target[0:training_size]\n",
    "\n",
    "testing_sentences = train.text[training_size:]\n",
    "testing_labels = train.target[training_size:]"
   ]
  },
  {
   "cell_type": "code",
   "execution_count": 41,
   "metadata": {},
   "outputs": [
    {
     "name": "stdout",
     "output_type": "stream",
     "text": [
      "The Shape of training  (6090,)\n",
      "The Shape of testing (1523,)\n"
     ]
    }
   ],
   "source": [
    "\n",
    "print('The Shape of training ',training_sentences.shape)\n",
    "print('The Shape of testing',testing_sentences.shape)\n"
   ]
  },
  {
   "cell_type": "code",
   "execution_count": 42,
   "metadata": {},
   "outputs": [],
   "source": [
    "tokenizer = Tokenizer(num_words=vocab_size, oov_token=oov_tok)\n",
    "tokenizer.fit_on_texts(training_sentences)\n"
   ]
  },
  {
   "cell_type": "code",
   "execution_count": 43,
   "metadata": {},
   "outputs": [],
   "source": [
    "word_index = tokenizer.word_index"
   ]
  },
  {
   "cell_type": "code",
   "execution_count": 44,
   "metadata": {},
   "outputs": [
    {
     "name": "stdout",
     "output_type": "stream",
     "text": [
      "THe first word Index are: \n",
      " <XXX>,  1 \n",
      " amp,  2 \n",
      " like,  3 \n",
      " fire,  4 \n",
      " get,  5 \n",
      " via,  6 \n",
      " new,  7 \n",
      " people,  8 \n",
      " news,  9 \n",
      " emergency,  10 \n",
      " one,  11 \n",
      " disaster,  12 \n",
      " body,  13 \n",
      " video,  14 \n",
      " burning,  15 \n"
     ]
    }
   ],
   "source": [
    "# Lets see the first 10 elements\n",
    "print(\"THe first word Index are: \")\n",
    "for x in list(word_index)[0:15]:\n",
    "    print (\" {},  {} \".format(x,  word_index[x]))\n",
    "\n",
    "# If you want to see completed -> word_index"
   ]
  },
  {
   "cell_type": "code",
   "execution_count": 45,
   "metadata": {},
   "outputs": [],
   "source": [
    "training_sequences = tokenizer.texts_to_sequences(training_sentences)\n",
    "training_padded = pad_sequences(training_sequences, maxlen=max_length, padding=padding_type, truncating=trunc_type)"
   ]
  },
  {
   "cell_type": "code",
   "execution_count": 47,
   "metadata": {},
   "outputs": [
    {
     "name": "stdout",
     "output_type": "stream",
     "text": [
      "forest fire near la ronge sask canada\n",
      "[74, 4, 120, 571, 5480, 5481, 1184]\n",
      "[  74    4  120  571 5480 5481 1184    0    0    0    0    0    0    0\n",
      "    0    0    0    0    0    0]\n"
     ]
    }
   ],
   "source": [
    "print(train.text[1])\n",
    "print(training_sequences[1])\n",
    "print(training_padded[1])"
   ]
  },
  {
   "cell_type": "markdown",
   "metadata": {},
   "source": [
    "## check Inverse for see how it works"
   ]
  },
  {
   "cell_type": "code",
   "execution_count": 48,
   "metadata": {
    "_kg_hide-output": true
   },
   "outputs": [],
   "source": [
    "reverse_word_index = dict([(value, key) for (key, value) in word_index.items()])\n"
   ]
  },
  {
   "cell_type": "code",
   "execution_count": 49,
   "metadata": {},
   "outputs": [
    {
     "name": "stdout",
     "output_type": "stream",
     "text": [
      "THe first reverse word Index are: \n",
      " 1,  <XXX> \n",
      " 2,  amp \n",
      " 3,  like \n",
      " 4,  fire \n",
      " 5,  get \n",
      " 6,  via \n",
      " 7,  new \n",
      " 8,  people \n",
      " 9,  news \n",
      " 10,  emergency \n",
      " 11,  one \n",
      " 12,  disaster \n",
      " 13,  body \n",
      " 14,  video \n",
      " 15,  burning \n"
     ]
    }
   ],
   "source": [
    "# Lets see the first 10 elements\n",
    "print(\"THe first reverse word Index are: \")\n",
    "for x in list(reverse_word_index)[0:15]:\n",
    "    print (\" {},  {} \".format(x,  reverse_word_index[x]))\n",
    "\n",
    "# If you want to see completed -> reverse_word_index"
   ]
  },
  {
   "cell_type": "code",
   "execution_count": 50,
   "metadata": {},
   "outputs": [],
   "source": [
    "def decode(text):\n",
    "    return ' '.join([reverse_word_index.get(i, '?') for i in text])"
   ]
  },
  {
   "cell_type": "code",
   "execution_count": 51,
   "metadata": {},
   "outputs": [
    {
     "data": {
      "text/plain": [
       "'forest fire near la ronge sask canada'"
      ]
     },
     "execution_count": 51,
     "metadata": {},
     "output_type": "execute_result"
    }
   ],
   "source": [
    "decode(training_sequences[1]) # this can be usefull for check predictions"
   ]
  },
  {
   "cell_type": "code",
   "execution_count": 52,
   "metadata": {},
   "outputs": [
    {
     "data": {
      "text/plain": [
       "array([7779, 1150, 2107,  629, 2106, 1257,   52,  326, 2106, 1257,   52,\n",
       "        326, 7780,    0,    0,    0,    0,    0,    0,    0], dtype=int32)"
      ]
     },
     "execution_count": 52,
     "metadata": {},
     "output_type": "execute_result"
    }
   ],
   "source": [
    "training_padded[1628]"
   ]
  },
  {
   "cell_type": "code",
   "execution_count": 53,
   "metadata": {},
   "outputs": [],
   "source": [
    "\n",
    "testing_sequences = tokenizer.texts_to_sequences(testing_sentences)\n",
    "testing_padded = pad_sequences(testing_sequences, maxlen=max_length, padding=padding_type, truncating=trunc_type)\n",
    "\n"
   ]
  },
  {
   "cell_type": "markdown",
   "metadata": {},
   "source": [
    "<a id='model'></a>\n",
    "# 7. Creating the Model\n",
    "\n",
    "    # For a binary classification problem\n",
    "    model.compile(optimizer='adam',\n",
    "                  loss='binary_crossentropy',\n",
    "                  metrics=['accuracy'])\n",
    "                                    "
   ]
  },
  {
   "cell_type": "code",
   "execution_count": 54,
   "metadata": {},
   "outputs": [],
   "source": [
    "# Model Definition with LSTM\n",
    "\n",
    "model = tf.keras.Sequential([\n",
    "    tf.keras.layers.Embedding(vocab_size, embedding_dim, input_length=max_length),\n",
    "    tf.keras.layers.Bidirectional(tf.keras.layers.LSTM(64)),\n",
    "    tf.keras.layers.Dense(14, activation='relu'),\n",
    "    tf.keras.layers.Dense(1, activation='sigmoid')  # remember this is a binary clasification\n",
    "])\n",
    "model.compile(loss='binary_crossentropy',optimizer='adam',metrics=['accuracy'])\n"
   ]
  },
  {
   "cell_type": "code",
   "execution_count": 55,
   "metadata": {},
   "outputs": [
    {
     "name": "stdout",
     "output_type": "stream",
     "text": [
      "Model: \"sequential\"\n",
      "_________________________________________________________________\n",
      "Layer (type)                 Output Shape              Param #   \n",
      "=================================================================\n",
      "embedding (Embedding)        (None, 20, 32)            514240    \n",
      "_________________________________________________________________\n",
      "bidirectional (Bidirectional (None, 128)               49664     \n",
      "_________________________________________________________________\n",
      "dense (Dense)                (None, 14)                1806      \n",
      "_________________________________________________________________\n",
      "dense_1 (Dense)              (None, 1)                 15        \n",
      "=================================================================\n",
      "Total params: 565,725\n",
      "Trainable params: 565,725\n",
      "Non-trainable params: 0\n",
      "_________________________________________________________________\n"
     ]
    }
   ],
   "source": [
    "model.summary()\n"
   ]
  },
  {
   "cell_type": "code",
   "execution_count": 66,
   "metadata": {},
   "outputs": [
    {
     "name": "stdout",
     "output_type": "stream",
     "text": [
      "Failed to import pydot. You must install pydot and graphviz for `pydotprint` to work.\n"
     ]
    }
   ],
   "source": [
    "from tensorflow.keras.utils import plot_model\n",
    "plot_model(model, to_file='model_plot4a.png', show_shapes=True, show_layer_names=True)"
   ]
  },
  {
   "cell_type": "code",
   "execution_count": 67,
   "metadata": {},
   "outputs": [
    {
     "name": "stdout",
     "output_type": "stream",
     "text": [
      "Train on 6090 samples, validate on 1523 samples\n",
      "Epoch 1/10\n",
      "6090/6090 [==============================] - 6s 919us/sample - loss: 0.5801 - accuracy: 0.6798 - val_loss: 0.4871 - val_accuracy: 0.7597\n",
      "Epoch 2/10\n",
      "6090/6090 [==============================] - 3s 421us/sample - loss: 0.3192 - accuracy: 0.8729 - val_loss: 0.5074 - val_accuracy: 0.7321\n",
      "Epoch 3/10\n",
      "6090/6090 [==============================] - 3s 431us/sample - loss: 0.1823 - accuracy: 0.9392 - val_loss: 0.6727 - val_accuracy: 0.7209\n",
      "Epoch 4/10\n",
      "6090/6090 [==============================] - 3s 430us/sample - loss: 0.1224 - accuracy: 0.9603 - val_loss: 0.6094 - val_accuracy: 0.7446\n",
      "Epoch 5/10\n",
      "6090/6090 [==============================] - 3s 430us/sample - loss: 0.0961 - accuracy: 0.9701 - val_loss: 0.8695 - val_accuracy: 0.6861\n",
      "Epoch 6/10\n",
      "6090/6090 [==============================] - 2s 409us/sample - loss: 0.0823 - accuracy: 0.9732 - val_loss: 0.9027 - val_accuracy: 0.7157\n",
      "Epoch 7/10\n",
      "6090/6090 [==============================] - 3s 423us/sample - loss: 0.0687 - accuracy: 0.9765 - val_loss: 1.1267 - val_accuracy: 0.7052\n",
      "Epoch 8/10\n",
      "6090/6090 [==============================] - 3s 438us/sample - loss: 0.0547 - accuracy: 0.9780 - val_loss: 1.1033 - val_accuracy: 0.6953\n",
      "Epoch 9/10\n",
      "6090/6090 [==============================] - 3s 422us/sample - loss: 0.0523 - accuracy: 0.9772 - val_loss: 0.9813 - val_accuracy: 0.7393\n",
      "Epoch 10/10\n",
      "6090/6090 [==============================] - 3s 411us/sample - loss: 0.0459 - accuracy: 0.9791 - val_loss: 1.2459 - val_accuracy: 0.6809\n",
      "The time in minutos: 0.48185023069381716\n"
     ]
    }
   ],
   "source": [
    "start_time = time.time()\n",
    "\n",
    "num_epochs = 10\n",
    "history = model.fit(training_padded, training_labels, epochs=num_epochs, validation_data=(testing_padded, testing_labels))\n",
    "\n",
    "final_time = (time.time()- start_time)/60\n",
    "print(f'The time in minutos: {final_time}')\n"
   ]
  },
  {
   "cell_type": "code",
   "execution_count": 68,
   "metadata": {},
   "outputs": [
    {
     "data": {
      "text/html": [
       "<div>\n",
       "<style scoped>\n",
       "    .dataframe tbody tr th:only-of-type {\n",
       "        vertical-align: middle;\n",
       "    }\n",
       "\n",
       "    .dataframe tbody tr th {\n",
       "        vertical-align: top;\n",
       "    }\n",
       "\n",
       "    .dataframe thead th {\n",
       "        text-align: right;\n",
       "    }\n",
       "</style>\n",
       "<table border=\"1\" class=\"dataframe\">\n",
       "  <thead>\n",
       "    <tr style=\"text-align: right;\">\n",
       "      <th></th>\n",
       "      <th>loss</th>\n",
       "      <th>accuracy</th>\n",
       "      <th>val_loss</th>\n",
       "      <th>val_accuracy</th>\n",
       "    </tr>\n",
       "  </thead>\n",
       "  <tbody>\n",
       "    <tr>\n",
       "      <th>0</th>\n",
       "      <td>0.580115</td>\n",
       "      <td>0.679803</td>\n",
       "      <td>0.487098</td>\n",
       "      <td>0.759685</td>\n",
       "    </tr>\n",
       "    <tr>\n",
       "      <th>1</th>\n",
       "      <td>0.319186</td>\n",
       "      <td>0.872906</td>\n",
       "      <td>0.507413</td>\n",
       "      <td>0.732108</td>\n",
       "    </tr>\n",
       "    <tr>\n",
       "      <th>2</th>\n",
       "      <td>0.182306</td>\n",
       "      <td>0.939245</td>\n",
       "      <td>0.672726</td>\n",
       "      <td>0.720945</td>\n",
       "    </tr>\n",
       "    <tr>\n",
       "      <th>3</th>\n",
       "      <td>0.122356</td>\n",
       "      <td>0.960263</td>\n",
       "      <td>0.609409</td>\n",
       "      <td>0.744583</td>\n",
       "    </tr>\n",
       "    <tr>\n",
       "      <th>4</th>\n",
       "      <td>0.096077</td>\n",
       "      <td>0.970115</td>\n",
       "      <td>0.869477</td>\n",
       "      <td>0.686146</td>\n",
       "    </tr>\n",
       "  </tbody>\n",
       "</table>\n",
       "</div>"
      ],
      "text/plain": [
       "       loss  accuracy  val_loss  val_accuracy\n",
       "0  0.580115  0.679803  0.487098      0.759685\n",
       "1  0.319186  0.872906  0.507413      0.732108\n",
       "2  0.182306  0.939245  0.672726      0.720945\n",
       "3  0.122356  0.960263  0.609409      0.744583\n",
       "4  0.096077  0.970115  0.869477      0.686146"
      ]
     },
     "execution_count": 68,
     "metadata": {},
     "output_type": "execute_result"
    }
   ],
   "source": [
    "model_loss = pd.DataFrame(model.history.history)\n",
    "model_loss.head()"
   ]
  },
  {
   "cell_type": "code",
   "execution_count": 69,
   "metadata": {},
   "outputs": [
    {
     "data": {
      "image/png": "[encoded data removed]",
      "text/plain": [
       "<Figure size 432x288 with 1 Axes>"
      ]
     },
     "metadata": {
      "needs_background": "light"
     },
     "output_type": "display_data"
    }
   ],
   "source": [
    "model_loss[['accuracy','val_accuracy']].plot(ylim=[0,1]);"
   ]
  },
  {
   "cell_type": "markdown",
   "metadata": {},
   "source": [
    "<a id='eval'></a>\n",
    "# 8. Model Evaluation"
   ]
  },
  {
   "cell_type": "code",
   "execution_count": 70,
   "metadata": {},
   "outputs": [],
   "source": [
    "predictions = model.predict_classes(testing_padded)   # predict_ clases because is classification problem with the split test"
   ]
  },
  {
   "cell_type": "code",
   "execution_count": 71,
   "metadata": {},
   "outputs": [
    {
     "data": {
      "text/plain": [
       "array([[0],\n",
       "       [0],\n",
       "       [1],\n",
       "       ...,\n",
       "       [1],\n",
       "       [1],\n",
       "       [1]], dtype=int32)"
      ]
     },
     "execution_count": 71,
     "metadata": {},
     "output_type": "execute_result"
    }
   ],
   "source": [
    "predictions"
   ]
  },
  {
   "cell_type": "code",
   "execution_count": 72,
   "metadata": {},
   "outputs": [],
   "source": [
    "from sklearn.metrics import classification_report,confusion_matrix"
   ]
  },
  {
   "cell_type": "code",
   "execution_count": 73,
   "metadata": {},
   "outputs": [],
   "source": [
    "# Showing Confusion Matrix\n",
    "def plot_cm(y_true, y_pred, title, figsize=(5,4)):\n",
    "    cm = confusion_matrix(y_true, y_pred, labels=np.unique(y_true))\n",
    "    cm_sum = np.sum(cm, axis=1, keepdims=True)\n",
    "    cm_perc = cm / cm_sum.astype(float) * 100\n",
    "    annot = np.empty_like(cm).astype(str)\n",
    "    nrows, ncols = cm.shape\n",
    "    for i in range(nrows):\n",
    "        for j in range(ncols):\n",
    "            c = cm[i, j]\n",
    "            p = cm_perc[i, j]\n",
    "            if i == j:\n",
    "                s = cm_sum[i]\n",
    "                annot[i, j] = '%.1f%%\\n%d/%d' % (p, c, s)\n",
    "            elif c == 0:\n",
    "                annot[i, j] = ''\n",
    "            else:\n",
    "                annot[i, j] = '%.1f%%\\n%d' % (p, c)\n",
    "    cm = pd.DataFrame(cm, index=np.unique(y_true), columns=np.unique(y_true))\n",
    "    cm.index.name = 'Actual'\n",
    "    cm.columns.name = 'Predicted'\n",
    "    fig, ax = plt.subplots(figsize=figsize)\n",
    "    plt.title(title)\n",
    "    sns.heatmap(cm, cmap= \"YlGnBu\", annot=annot, fmt='', ax=ax)"
   ]
  },
  {
   "cell_type": "code",
   "execution_count": 74,
   "metadata": {},
   "outputs": [
    {
     "data": {
      "image/png": "[encoded data removed]",
      "text/plain": [
       "<Figure size 504x504 with 2 Axes>"
      ]
     },
     "metadata": {
      "needs_background": "light"
     },
     "output_type": "display_data"
    }
   ],
   "source": [
    "# Showing Confusion Matrix\n",
    "plot_cm(testing_labels,predictions, 'Confution matrix of Tweets', figsize=(7,7))"
   ]
  },
  {
   "cell_type": "markdown",
   "metadata": {},
   "source": [
    "# Now working with test dataset"
   ]
  },
  {
   "cell_type": "code",
   "execution_count": 75,
   "metadata": {},
   "outputs": [],
   "source": [
    "\n",
    "testing_sequences2 = tokenizer.texts_to_sequences(test.text)\n",
    "testing_padded2 = pad_sequences(testing_sequences2, maxlen=max_length, padding=padding_type, truncating=trunc_type)"
   ]
  },
  {
   "cell_type": "code",
   "execution_count": 76,
   "metadata": {},
   "outputs": [],
   "source": [
    "predictions = model.predict(testing_padded2)"
   ]
  },
  {
   "cell_type": "code",
   "execution_count": 77,
   "metadata": {},
   "outputs": [
    {
     "data": {
      "text/html": [
       "<div>\n",
       "<style scoped>\n",
       "    .dataframe tbody tr th:only-of-type {\n",
       "        vertical-align: middle;\n",
       "    }\n",
       "\n",
       "    .dataframe tbody tr th {\n",
       "        vertical-align: top;\n",
       "    }\n",
       "\n",
       "    .dataframe thead th {\n",
       "        text-align: right;\n",
       "    }\n",
       "</style>\n",
       "<table border=\"1\" class=\"dataframe\">\n",
       "  <thead>\n",
       "    <tr style=\"text-align: right;\">\n",
       "      <th></th>\n",
       "      <th>id</th>\n",
       "      <th>target</th>\n",
       "    </tr>\n",
       "  </thead>\n",
       "  <tbody>\n",
       "    <tr>\n",
       "      <th>0</th>\n",
       "      <td>0</td>\n",
       "      <td>0</td>\n",
       "    </tr>\n",
       "    <tr>\n",
       "      <th>1</th>\n",
       "      <td>2</td>\n",
       "      <td>0</td>\n",
       "    </tr>\n",
       "    <tr>\n",
       "      <th>2</th>\n",
       "      <td>3</td>\n",
       "      <td>0</td>\n",
       "    </tr>\n",
       "    <tr>\n",
       "      <th>3</th>\n",
       "      <td>9</td>\n",
       "      <td>0</td>\n",
       "    </tr>\n",
       "    <tr>\n",
       "      <th>4</th>\n",
       "      <td>11</td>\n",
       "      <td>0</td>\n",
       "    </tr>\n",
       "  </tbody>\n",
       "</table>\n",
       "</div>"
      ],
      "text/plain": [
       "   id  target\n",
       "0   0       0\n",
       "1   2       0\n",
       "2   3       0\n",
       "3   9       0\n",
       "4  11       0"
      ]
     },
     "execution_count": 77,
     "metadata": {},
     "output_type": "execute_result"
    }
   ],
   "source": [
    "# sample of submission\n",
    "submission.head()"
   ]
  },
  {
   "cell_type": "code",
   "execution_count": 78,
   "metadata": {},
   "outputs": [],
   "source": [
    "submission['target'] = (predictions > 0.5).astype(int)"
   ]
  },
  {
   "cell_type": "code",
   "execution_count": 79,
   "metadata": {},
   "outputs": [
    {
     "data": {
      "text/html": [
       "<div>\n",
       "<style scoped>\n",
       "    .dataframe tbody tr th:only-of-type {\n",
       "        vertical-align: middle;\n",
       "    }\n",
       "\n",
       "    .dataframe tbody tr th {\n",
       "        vertical-align: top;\n",
       "    }\n",
       "\n",
       "    .dataframe thead th {\n",
       "        text-align: right;\n",
       "    }\n",
       "</style>\n",
       "<table border=\"1\" class=\"dataframe\">\n",
       "  <thead>\n",
       "    <tr style=\"text-align: right;\">\n",
       "      <th></th>\n",
       "      <th>id</th>\n",
       "      <th>target</th>\n",
       "    </tr>\n",
       "  </thead>\n",
       "  <tbody>\n",
       "    <tr>\n",
       "      <th>0</th>\n",
       "      <td>0</td>\n",
       "      <td>0</td>\n",
       "    </tr>\n",
       "    <tr>\n",
       "      <th>1</th>\n",
       "      <td>2</td>\n",
       "      <td>1</td>\n",
       "    </tr>\n",
       "    <tr>\n",
       "      <th>2</th>\n",
       "      <td>3</td>\n",
       "      <td>1</td>\n",
       "    </tr>\n",
       "    <tr>\n",
       "      <th>3</th>\n",
       "      <td>9</td>\n",
       "      <td>1</td>\n",
       "    </tr>\n",
       "    <tr>\n",
       "      <th>4</th>\n",
       "      <td>11</td>\n",
       "      <td>1</td>\n",
       "    </tr>\n",
       "    <tr>\n",
       "      <th>...</th>\n",
       "      <td>...</td>\n",
       "      <td>...</td>\n",
       "    </tr>\n",
       "    <tr>\n",
       "      <th>3258</th>\n",
       "      <td>10861</td>\n",
       "      <td>1</td>\n",
       "    </tr>\n",
       "    <tr>\n",
       "      <th>3259</th>\n",
       "      <td>10865</td>\n",
       "      <td>1</td>\n",
       "    </tr>\n",
       "    <tr>\n",
       "      <th>3260</th>\n",
       "      <td>10868</td>\n",
       "      <td>1</td>\n",
       "    </tr>\n",
       "    <tr>\n",
       "      <th>3261</th>\n",
       "      <td>10874</td>\n",
       "      <td>1</td>\n",
       "    </tr>\n",
       "    <tr>\n",
       "      <th>3262</th>\n",
       "      <td>10875</td>\n",
       "      <td>1</td>\n",
       "    </tr>\n",
       "  </tbody>\n",
       "</table>\n",
       "<p>3263 rows × 2 columns</p>\n",
       "</div>"
      ],
      "text/plain": [
       "         id  target\n",
       "0         0       0\n",
       "1         2       1\n",
       "2         3       1\n",
       "3         9       1\n",
       "4        11       1\n",
       "...     ...     ...\n",
       "3258  10861       1\n",
       "3259  10865       1\n",
       "3260  10868       1\n",
       "3261  10874       1\n",
       "3262  10875       1\n",
       "\n",
       "[3263 rows x 2 columns]"
      ]
     },
     "execution_count": 79,
     "metadata": {},
     "output_type": "execute_result"
    }
   ],
   "source": [
    "submission"
   ]
  },
  {
   "cell_type": "code",
   "execution_count": 80,
   "metadata": {},
   "outputs": [],
   "source": [
    "submission.to_csv(\"submission.csv\", index=False, header=True)"
   ]
  },
  {
   "cell_type": "markdown",
   "metadata": {},
   "source": [
    "<h2>I hope this notebook <span style=\"color:red\">Usefull</span> for you! </h3>"
   ]
  },
  {
   "cell_type": "markdown",
   "metadata": {},
   "source": [
    "<a href=\"#top\" class=\"btn btn-primary btn-lg active\" role=\"button\" aria-pressed=\"true\">Go to TOP</a>\n"
   ]
  }
 ],
 "metadata": {
  "kernelspec": {
   "display_name": "Python 3",
   "language": "python",
   "name": "python3"
  },
  "language_info": {
   "codemirror_mode": {
    "name": "ipython",
    "version": 3
   },
   "file_extension": ".py",
   "mimetype": "text/x-python",
   "name": "python",
   "nbconvert_exporter": "python",
   "pygments_lexer": "ipython3",
   "version": "3.7.3"
  }
 },
 "nbformat": 4,
 "nbformat_minor": 1
}
